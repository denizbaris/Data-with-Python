{
  "nbformat": 4,
  "nbformat_minor": 0,
  "metadata": {
    "colab": {
      "name": "DAwPython_Lab1.ipynb",
      "provenance": [],
      "authorship_tag": "ABX9TyPPPfWp2gzSP7TfD/XQlnsA",
      "include_colab_link": true
    },
    "kernelspec": {
      "name": "python3",
      "display_name": "Python 3"
    },
    "language_info": {
      "name": "python"
    }
  },
  "cells": [
    {
      "cell_type": "markdown",
      "metadata": {
        "id": "view-in-github",
        "colab_type": "text"
      },
      "source": [
        "<a href=\"https://colab.research.google.com/github/denizbaris/Data-with-Python/blob/main/DAwPython_Lab1.ipynb\" target=\"_parent\"><img src=\"https://colab.research.google.com/assets/colab-badge.svg\" alt=\"Open In Colab\"/></a>"
      ]
    },
    {
      "cell_type": "code",
      "metadata": {
        "id": "kahJFrmaXgKW"
      },
      "source": [
        "import numpy as np"
      ],
      "execution_count": 1,
      "outputs": []
    },
    {
      "cell_type": "code",
      "metadata": {
        "id": "JRrLyiA6XjDB"
      },
      "source": [
        "my_list = [1,2,3,4,5,6,7,8]"
      ],
      "execution_count": 2,
      "outputs": []
    },
    {
      "cell_type": "code",
      "metadata": {
        "colab": {
          "base_uri": "https://localhost:8080/"
        },
        "id": "zE8sOAE0Xswx",
        "outputId": "70970391-4dd0-453d-cdb7-21018e0913a5"
      },
      "source": [
        "a = np.array(my_list)\n",
        "a"
      ],
      "execution_count": 4,
      "outputs": [
        {
          "output_type": "execute_result",
          "data": {
            "text/plain": [
              "array([1, 2, 3, 4, 5, 6, 7, 8])"
            ]
          },
          "metadata": {},
          "execution_count": 4
        }
      ]
    },
    {
      "cell_type": "code",
      "metadata": {
        "colab": {
          "base_uri": "https://localhost:8080/"
        },
        "id": "rFqWRpK3XvPx",
        "outputId": "cd446e78-2449-41f2-da76-d6c1ce59c81a"
      },
      "source": [
        "b = a[:3]\n",
        "b"
      ],
      "execution_count": 5,
      "outputs": [
        {
          "output_type": "execute_result",
          "data": {
            "text/plain": [
              "array([1, 2, 3])"
            ]
          },
          "metadata": {},
          "execution_count": 5
        }
      ]
    },
    {
      "cell_type": "code",
      "metadata": {
        "colab": {
          "base_uri": "https://localhost:8080/"
        },
        "id": "j5d7BepkX74t",
        "outputId": "9ee9ee1f-b27e-43ce-e691-7a883e91fd8b"
      },
      "source": [
        "b[0] = 88\n",
        "b"
      ],
      "execution_count": 6,
      "outputs": [
        {
          "output_type": "execute_result",
          "data": {
            "text/plain": [
              "array([88,  2,  3])"
            ]
          },
          "metadata": {},
          "execution_count": 6
        }
      ]
    },
    {
      "cell_type": "code",
      "metadata": {
        "colab": {
          "base_uri": "https://localhost:8080/"
        },
        "id": "bBB_yOOyYADc",
        "outputId": "eade7f3f-57e1-4f9e-84a7-7b86359569b0"
      },
      "source": [
        "a"
      ],
      "execution_count": 7,
      "outputs": [
        {
          "output_type": "execute_result",
          "data": {
            "text/plain": [
              "array([88,  2,  3,  4,  5,  6,  7,  8])"
            ]
          },
          "metadata": {},
          "execution_count": 7
        }
      ]
    },
    {
      "cell_type": "code",
      "metadata": {
        "colab": {
          "base_uri": "https://localhost:8080/"
        },
        "id": "U_Vu4JJJYAfW",
        "outputId": "52978fad-d1e4-436a-cbd8-c9f8bb887e8f"
      },
      "source": [
        "c = a.copy()\n",
        "c[1] = 22\n",
        "c"
      ],
      "execution_count": 9,
      "outputs": [
        {
          "output_type": "execute_result",
          "data": {
            "text/plain": [
              "array([88, 22,  3,  4,  5,  6,  7,  8])"
            ]
          },
          "metadata": {},
          "execution_count": 9
        }
      ]
    },
    {
      "cell_type": "code",
      "metadata": {
        "colab": {
          "base_uri": "https://localhost:8080/"
        },
        "id": "1mWiFJTEYOQk",
        "outputId": "f141d4b3-139c-41ce-8f2f-ad98786d1cd9"
      },
      "source": [
        "a"
      ],
      "execution_count": 10,
      "outputs": [
        {
          "output_type": "execute_result",
          "data": {
            "text/plain": [
              "array([88,  2,  3,  4,  5,  6,  7,  8])"
            ]
          },
          "metadata": {},
          "execution_count": 10
        }
      ]
    },
    {
      "cell_type": "code",
      "metadata": {
        "colab": {
          "base_uri": "https://localhost:8080/"
        },
        "id": "fEMF3Ck9YQjl",
        "outputId": "082527da-b705-4cb1-f2a2-6091cd4f10c8"
      },
      "source": [
        "type(c)"
      ],
      "execution_count": 11,
      "outputs": [
        {
          "output_type": "execute_result",
          "data": {
            "text/plain": [
              "numpy.ndarray"
            ]
          },
          "metadata": {},
          "execution_count": 11
        }
      ]
    },
    {
      "cell_type": "code",
      "metadata": {
        "colab": {
          "base_uri": "https://localhost:8080/"
        },
        "id": "Jz3DVHnoYSGk",
        "outputId": "1bcdb180-a9f9-4590-b8b7-694a95d82440"
      },
      "source": [
        "a.shape"
      ],
      "execution_count": 12,
      "outputs": [
        {
          "output_type": "execute_result",
          "data": {
            "text/plain": [
              "(8,)"
            ]
          },
          "metadata": {},
          "execution_count": 12
        }
      ]
    },
    {
      "cell_type": "code",
      "metadata": {
        "colab": {
          "base_uri": "https://localhost:8080/"
        },
        "id": "kH4H0ZO1YWIL",
        "outputId": "5cee956b-de1f-4128-fd70-5281235ed263"
      },
      "source": [
        "a[-1]"
      ],
      "execution_count": 13,
      "outputs": [
        {
          "output_type": "execute_result",
          "data": {
            "text/plain": [
              "8"
            ]
          },
          "metadata": {},
          "execution_count": 13
        }
      ]
    },
    {
      "cell_type": "code",
      "metadata": {
        "colab": {
          "base_uri": "https://localhost:8080/"
        },
        "id": "NnROIs4XYW7a",
        "outputId": "6a2244ae-52f8-4f96-ab81-038241e07744"
      },
      "source": [
        "a[::-1]"
      ],
      "execution_count": 14,
      "outputs": [
        {
          "output_type": "execute_result",
          "data": {
            "text/plain": [
              "array([ 8,  7,  6,  5,  4,  3,  2, 88])"
            ]
          },
          "metadata": {},
          "execution_count": 14
        }
      ]
    },
    {
      "cell_type": "code",
      "metadata": {
        "colab": {
          "base_uri": "https://localhost:8080/"
        },
        "id": "EjlsDKGdYY3s",
        "outputId": "27b848b3-8ad2-4d2e-f681-ad4f66154e8a"
      },
      "source": [
        "b = np.array([[1,2,3], [6,7,8]])\n",
        "b"
      ],
      "execution_count": 15,
      "outputs": [
        {
          "output_type": "execute_result",
          "data": {
            "text/plain": [
              "array([[1, 2, 3],\n",
              "       [6, 7, 8]])"
            ]
          },
          "metadata": {},
          "execution_count": 15
        }
      ]
    },
    {
      "cell_type": "code",
      "metadata": {
        "colab": {
          "base_uri": "https://localhost:8080/"
        },
        "id": "xndZi3a1ZOi2",
        "outputId": "e0777b1e-bda0-4d8e-d28c-dacb60946e5e"
      },
      "source": [
        "b[1,1]=77\n",
        "b"
      ],
      "execution_count": 16,
      "outputs": [
        {
          "output_type": "execute_result",
          "data": {
            "text/plain": [
              "array([[ 1,  2,  3],\n",
              "       [ 6, 77,  8]])"
            ]
          },
          "metadata": {},
          "execution_count": 16
        }
      ]
    },
    {
      "cell_type": "code",
      "metadata": {
        "colab": {
          "base_uri": "https://localhost:8080/"
        },
        "id": "QpIwkG3JZfvA",
        "outputId": "c0cb48e2-f563-4508-f882-1f406dee7b1b"
      },
      "source": [
        "b[:,1]=99\n",
        "b"
      ],
      "execution_count": 17,
      "outputs": [
        {
          "output_type": "execute_result",
          "data": {
            "text/plain": [
              "array([[ 1, 99,  3],\n",
              "       [ 6, 99,  8]])"
            ]
          },
          "metadata": {},
          "execution_count": 17
        }
      ]
    },
    {
      "cell_type": "code",
      "metadata": {
        "colab": {
          "base_uri": "https://localhost:8080/"
        },
        "id": "AuKvDj_fZaqN",
        "outputId": "e9f41691-6d89-4302-e4da-d9bc3d57f9f3"
      },
      "source": [
        "np.zeros((3,3))"
      ],
      "execution_count": 19,
      "outputs": [
        {
          "output_type": "execute_result",
          "data": {
            "text/plain": [
              "array([[0., 0., 0.],\n",
              "       [0., 0., 0.],\n",
              "       [0., 0., 0.]])"
            ]
          },
          "metadata": {},
          "execution_count": 19
        }
      ]
    },
    {
      "cell_type": "code",
      "metadata": {
        "colab": {
          "base_uri": "https://localhost:8080/"
        },
        "id": "J3ctbajLZ4Kr",
        "outputId": "80b8a225-9afd-41a5-91fe-7f56eff5405b"
      },
      "source": [
        "np.full((3,3), 9)"
      ],
      "execution_count": 20,
      "outputs": [
        {
          "output_type": "execute_result",
          "data": {
            "text/plain": [
              "array([[9, 9, 9],\n",
              "       [9, 9, 9],\n",
              "       [9, 9, 9]])"
            ]
          },
          "metadata": {},
          "execution_count": 20
        }
      ]
    },
    {
      "cell_type": "code",
      "metadata": {
        "colab": {
          "base_uri": "https://localhost:8080/"
        },
        "id": "slvRFoZpZ_vl",
        "outputId": "3a93feb8-ae0c-42b7-952f-2d0ec4a942ca"
      },
      "source": [
        "np.empty((3,3), dtype=int)"
      ],
      "execution_count": 26,
      "outputs": [
        {
          "output_type": "execute_result",
          "data": {
            "text/plain": [
              "array([[94151828059536,              0,              0],\n",
              "       [94149978095616,              0,     8589934600],\n",
              "       [             0,              0,              0]])"
            ]
          },
          "metadata": {},
          "execution_count": 26
        }
      ]
    },
    {
      "cell_type": "code",
      "metadata": {
        "colab": {
          "base_uri": "https://localhost:8080/"
        },
        "id": "nLXUUjNAaCNK",
        "outputId": "8151164f-9b73-4251-e227-693cbe6500ad"
      },
      "source": [
        "np.eye(4)"
      ],
      "execution_count": 22,
      "outputs": [
        {
          "output_type": "execute_result",
          "data": {
            "text/plain": [
              "array([[1., 0., 0., 0.],\n",
              "       [0., 1., 0., 0.],\n",
              "       [0., 0., 1., 0.],\n",
              "       [0., 0., 0., 1.]])"
            ]
          },
          "metadata": {},
          "execution_count": 22
        }
      ]
    },
    {
      "cell_type": "code",
      "metadata": {
        "colab": {
          "base_uri": "https://localhost:8080/"
        },
        "id": "-f-lH47paHAe",
        "outputId": "5876f506-e0e0-4616-d89e-39227cf5428c"
      },
      "source": [
        "np.arange(5, 60, 3)"
      ],
      "execution_count": 23,
      "outputs": [
        {
          "output_type": "execute_result",
          "data": {
            "text/plain": [
              "array([ 5,  8, 11, 14, 17, 20, 23, 26, 29, 32, 35, 38, 41, 44, 47, 50, 53,\n",
              "       56, 59])"
            ]
          },
          "metadata": {},
          "execution_count": 23
        }
      ]
    },
    {
      "cell_type": "code",
      "metadata": {
        "colab": {
          "base_uri": "https://localhost:8080/"
        },
        "id": "L9Fhl0CuaTUl",
        "outputId": "96a07aca-b246-40ec-8fd0-4af0cf605aeb"
      },
      "source": [
        "np.linspace(5, 60, 3)"
      ],
      "execution_count": 24,
      "outputs": [
        {
          "output_type": "execute_result",
          "data": {
            "text/plain": [
              "array([ 5. , 32.5, 60. ])"
            ]
          },
          "metadata": {},
          "execution_count": 24
        }
      ]
    },
    {
      "cell_type": "code",
      "metadata": {
        "colab": {
          "base_uri": "https://localhost:8080/"
        },
        "id": "ty8uhFztaZ-N",
        "outputId": "7b60b312-ad4f-4639-be74-42c2b8b00033"
      },
      "source": [
        "np.linspace(2, 10, 5)"
      ],
      "execution_count": 25,
      "outputs": [
        {
          "output_type": "execute_result",
          "data": {
            "text/plain": [
              "array([ 2.,  4.,  6.,  8., 10.])"
            ]
          },
          "metadata": {},
          "execution_count": 25
        }
      ]
    },
    {
      "cell_type": "code",
      "metadata": {
        "colab": {
          "base_uri": "https://localhost:8080/"
        },
        "id": "-_sOf-8OaeJo",
        "outputId": "80a925ab-deb9-468e-919c-90a0299dd63e"
      },
      "source": [
        "np.random.rand(3,3)   "
      ],
      "execution_count": 27,
      "outputs": [
        {
          "output_type": "execute_result",
          "data": {
            "text/plain": [
              "array([[0.13197182, 0.31283303, 0.82722477],\n",
              "       [0.23917846, 0.7618124 , 0.37377202],\n",
              "       [0.72399077, 0.28938464, 0.27417588]])"
            ]
          },
          "metadata": {},
          "execution_count": 27
        }
      ]
    },
    {
      "cell_type": "code",
      "metadata": {
        "colab": {
          "base_uri": "https://localhost:8080/"
        },
        "id": "hQxgnPP6a8Ur",
        "outputId": "ba662b23-73a1-4132-e423-29cae3531c3d"
      },
      "source": [
        "np.random.rand(3,3) #ortalamsi 0 varyansi 1 olacak sekilde degerler aliyor normal distribution olmasi icin"
      ],
      "execution_count": 28,
      "outputs": [
        {
          "output_type": "execute_result",
          "data": {
            "text/plain": [
              "array([[0.44853954, 0.62069773, 0.93127187],\n",
              "       [0.01690738, 0.08101626, 0.43460478],\n",
              "       [0.24645128, 0.33189903, 0.83128244]])"
            ]
          },
          "metadata": {},
          "execution_count": 28
        }
      ]
    },
    {
      "cell_type": "code",
      "metadata": {
        "colab": {
          "base_uri": "https://localhost:8080/"
        },
        "id": "XcwJ46QybEQ-",
        "outputId": "e461ec34-8add-450f-c06f-55315773b47e"
      },
      "source": [
        "np.random.randint(5,10, size =(3,3))"
      ],
      "execution_count": 29,
      "outputs": [
        {
          "output_type": "execute_result",
          "data": {
            "text/plain": [
              "array([[7, 9, 6],\n",
              "       [7, 8, 8],\n",
              "       [8, 8, 8]])"
            ]
          },
          "metadata": {},
          "execution_count": 29
        }
      ]
    },
    {
      "cell_type": "code",
      "metadata": {
        "colab": {
          "base_uri": "https://localhost:8080/"
        },
        "id": "gCxKPZn3bWi7",
        "outputId": "420a21f3-365b-41b2-d6bf-5b7bc03ab258"
      },
      "source": [
        "z = np.random.randint(2,15, size = (5,3))\n",
        "z"
      ],
      "execution_count": 30,
      "outputs": [
        {
          "output_type": "execute_result",
          "data": {
            "text/plain": [
              "array([[ 7, 14,  9],\n",
              "       [13, 14,  5],\n",
              "       [ 2, 11, 13],\n",
              "       [10,  9,  6],\n",
              "       [11,  3, 13]])"
            ]
          },
          "metadata": {},
          "execution_count": 30
        }
      ]
    },
    {
      "cell_type": "code",
      "metadata": {
        "colab": {
          "base_uri": "https://localhost:8080/"
        },
        "id": "j0VhcCItbfDr",
        "outputId": "ec950b85-bda3-43cf-a943-48883fd7354b"
      },
      "source": [
        "z.shape"
      ],
      "execution_count": 31,
      "outputs": [
        {
          "output_type": "execute_result",
          "data": {
            "text/plain": [
              "(5, 3)"
            ]
          },
          "metadata": {},
          "execution_count": 31
        }
      ]
    },
    {
      "cell_type": "code",
      "metadata": {
        "colab": {
          "base_uri": "https://localhost:8080/"
        },
        "id": "AviYOL1Hbp1n",
        "outputId": "0bc2f6ab-866c-41eb-f9e9-42899c965c46"
      },
      "source": [
        "z=z.reshape(3,5)\n",
        "z"
      ],
      "execution_count": 34,
      "outputs": [
        {
          "output_type": "execute_result",
          "data": {
            "text/plain": [
              "array([[ 7, 14,  9, 13, 14],\n",
              "       [ 5,  2, 11, 13, 10],\n",
              "       [ 9,  6, 11,  3, 13]])"
            ]
          },
          "metadata": {},
          "execution_count": 34
        }
      ]
    },
    {
      "cell_type": "code",
      "metadata": {
        "colab": {
          "base_uri": "https://localhost:8080/"
        },
        "id": "kyWOmDLob08h",
        "outputId": "85c37e51-f887-441f-cfd1-1f0f35c4ba4a"
      },
      "source": [
        "z = z.ravel()\n",
        "z"
      ],
      "execution_count": 36,
      "outputs": [
        {
          "output_type": "execute_result",
          "data": {
            "text/plain": [
              "array([ 7, 14,  9, 13, 14,  5,  2, 11, 13, 10,  9,  6, 11,  3, 13])"
            ]
          },
          "metadata": {},
          "execution_count": 36
        }
      ]
    },
    {
      "cell_type": "code",
      "metadata": {
        "colab": {
          "base_uri": "https://localhost:8080/"
        },
        "id": "3iQF3RFlcgMR",
        "outputId": "e30a0af6-cf74-48fa-8e06-3682f1184f43"
      },
      "source": [
        "z.max()"
      ],
      "execution_count": 37,
      "outputs": [
        {
          "output_type": "execute_result",
          "data": {
            "text/plain": [
              "14"
            ]
          },
          "metadata": {},
          "execution_count": 37
        }
      ]
    },
    {
      "cell_type": "code",
      "metadata": {
        "colab": {
          "base_uri": "https://localhost:8080/"
        },
        "id": "4lytzOhaclhe",
        "outputId": "9359c4b5-e234-4eb6-f21d-6355f7a15de2"
      },
      "source": [
        "z.argmax()"
      ],
      "execution_count": 38,
      "outputs": [
        {
          "output_type": "execute_result",
          "data": {
            "text/plain": [
              "1"
            ]
          },
          "metadata": {},
          "execution_count": 38
        }
      ]
    },
    {
      "cell_type": "code",
      "metadata": {
        "id": "z9EQUUIFcnq5"
      },
      "source": [
        "my_arr = np.array([0,1,2,3,4,5,6,7,8,9]).reshape(5,2)"
      ],
      "execution_count": 39,
      "outputs": []
    },
    {
      "cell_type": "code",
      "metadata": {
        "colab": {
          "base_uri": "https://localhost:8080/"
        },
        "id": "Ino7FiWnc8bq",
        "outputId": "13d7b3de-2d03-4cea-f5c9-b563901b965b"
      },
      "source": [
        "my_arr"
      ],
      "execution_count": 40,
      "outputs": [
        {
          "output_type": "execute_result",
          "data": {
            "text/plain": [
              "array([[0, 1],\n",
              "       [2, 3],\n",
              "       [4, 5],\n",
              "       [6, 7],\n",
              "       [8, 9]])"
            ]
          },
          "metadata": {},
          "execution_count": 40
        }
      ]
    },
    {
      "cell_type": "code",
      "metadata": {
        "colab": {
          "base_uri": "https://localhost:8080/"
        },
        "id": "Wd7z4lftc_EW",
        "outputId": "a66599c4-54e1-447f-831d-17f5adb7876c"
      },
      "source": [
        "my_arr_1 = np.array([3,4,5,6,7,8,9,10,11,12]).reshape(5,2)\n",
        "my_arr_1"
      ],
      "execution_count": 41,
      "outputs": [
        {
          "output_type": "execute_result",
          "data": {
            "text/plain": [
              "array([[ 3,  4],\n",
              "       [ 5,  6],\n",
              "       [ 7,  8],\n",
              "       [ 9, 10],\n",
              "       [11, 12]])"
            ]
          },
          "metadata": {},
          "execution_count": 41
        }
      ]
    },
    {
      "cell_type": "code",
      "metadata": {
        "colab": {
          "base_uri": "https://localhost:8080/"
        },
        "id": "6iR8R6gQdNeM",
        "outputId": "57c9fcf9-feb9-4a56-86b2-606bf5f424ed"
      },
      "source": [
        "my_con = np.concatenate([my_arr,my_arr_1], axis = 1)  #axis 1 equal olunca sagina concatnate ediyor\n",
        "my_con"
      ],
      "execution_count": 43,
      "outputs": [
        {
          "output_type": "execute_result",
          "data": {
            "text/plain": [
              "array([[ 0,  1,  3,  4],\n",
              "       [ 2,  3,  5,  6],\n",
              "       [ 4,  5,  7,  8],\n",
              "       [ 6,  7,  9, 10],\n",
              "       [ 8,  9, 11, 12]])"
            ]
          },
          "metadata": {},
          "execution_count": 43
        }
      ]
    },
    {
      "cell_type": "code",
      "metadata": {
        "colab": {
          "base_uri": "https://localhost:8080/"
        },
        "id": "TJoEQZMwdV2N",
        "outputId": "884a1a72-93f5-4158-eeec-00433297008b"
      },
      "source": [
        "my_con"
      ],
      "execution_count": 44,
      "outputs": [
        {
          "output_type": "execute_result",
          "data": {
            "text/plain": [
              "array([[ 0,  1,  3,  4],\n",
              "       [ 2,  3,  5,  6],\n",
              "       [ 4,  5,  7,  8],\n",
              "       [ 6,  7,  9, 10],\n",
              "       [ 8,  9, 11, 12]])"
            ]
          },
          "metadata": {},
          "execution_count": 44
        }
      ]
    },
    {
      "cell_type": "code",
      "metadata": {
        "colab": {
          "base_uri": "https://localhost:8080/"
        },
        "id": "J9U8oSsrdkq1",
        "outputId": "42a0422c-c4e2-4e89-fbf6-8e30ec48ae56"
      },
      "source": [
        "my_con[1,[2,3]]"
      ],
      "execution_count": 45,
      "outputs": [
        {
          "output_type": "execute_result",
          "data": {
            "text/plain": [
              "array([5, 6])"
            ]
          },
          "metadata": {},
          "execution_count": 45
        }
      ]
    },
    {
      "cell_type": "code",
      "metadata": {
        "colab": {
          "base_uri": "https://localhost:8080/"
        },
        "id": "d02JbsQ0dvzf",
        "outputId": "01c41d89-e673-434e-9260-a2f2d0003d6e"
      },
      "source": [
        "my_con[[3,1],2]"
      ],
      "execution_count": 46,
      "outputs": [
        {
          "output_type": "execute_result",
          "data": {
            "text/plain": [
              "array([9, 5])"
            ]
          },
          "metadata": {},
          "execution_count": 46
        }
      ]
    },
    {
      "cell_type": "code",
      "metadata": {
        "colab": {
          "base_uri": "https://localhost:8080/"
        },
        "id": "xaETMs6hdzAp",
        "outputId": "c09c6de9-b7c0-4613-d4ee-b72a48e4973b"
      },
      "source": [
        "my_con[0:2,1:3]"
      ],
      "execution_count": 47,
      "outputs": [
        {
          "output_type": "execute_result",
          "data": {
            "text/plain": [
              "array([[1, 3],\n",
              "       [3, 5]])"
            ]
          },
          "metadata": {},
          "execution_count": 47
        }
      ]
    },
    {
      "cell_type": "code",
      "metadata": {
        "colab": {
          "base_uri": "https://localhost:8080/"
        },
        "id": "PToZsaxkeDl8",
        "outputId": "0f04a6a5-2a4a-40a2-903b-6bc9c93a648c"
      },
      "source": [
        "my_con[:, [0,3]]"
      ],
      "execution_count": 48,
      "outputs": [
        {
          "output_type": "execute_result",
          "data": {
            "text/plain": [
              "array([[ 0,  4],\n",
              "       [ 2,  6],\n",
              "       [ 4,  8],\n",
              "       [ 6, 10],\n",
              "       [ 8, 12]])"
            ]
          },
          "metadata": {},
          "execution_count": 48
        }
      ]
    },
    {
      "cell_type": "code",
      "metadata": {
        "id": "S1GgEm-WeP1d"
      },
      "source": [
        "a = np.array([[1,2], [3,4]])\n",
        "b = np.array([[5,6], [7,8]])"
      ],
      "execution_count": 49,
      "outputs": []
    },
    {
      "cell_type": "code",
      "metadata": {
        "colab": {
          "base_uri": "https://localhost:8080/"
        },
        "id": "mX9hPCJyejsj",
        "outputId": "220fa93f-5e7e-4431-c3cd-403fea2cff20"
      },
      "source": [
        "x = np.stack((a,b))\n",
        "x"
      ],
      "execution_count": 50,
      "outputs": [
        {
          "output_type": "execute_result",
          "data": {
            "text/plain": [
              "array([[[1, 2],\n",
              "        [3, 4]],\n",
              "\n",
              "       [[5, 6],\n",
              "        [7, 8]]])"
            ]
          },
          "metadata": {},
          "execution_count": 50
        }
      ]
    },
    {
      "cell_type": "code",
      "metadata": {
        "colab": {
          "base_uri": "https://localhost:8080/"
        },
        "id": "d17pXr0IeoVy",
        "outputId": "5487917f-284a-4656-fc0e-e8a9da9d223c"
      },
      "source": [
        "x.ndim"
      ],
      "execution_count": 51,
      "outputs": [
        {
          "output_type": "execute_result",
          "data": {
            "text/plain": [
              "3"
            ]
          },
          "metadata": {},
          "execution_count": 51
        }
      ]
    },
    {
      "cell_type": "code",
      "metadata": {
        "colab": {
          "base_uri": "https://localhost:8080/"
        },
        "id": "J9uooL_CeqQ_",
        "outputId": "d1fb7366-dcca-47d9-f337-d2e1a934d7b6"
      },
      "source": [
        "y = np.hstack((a,b))          #horizantal stack\n",
        "y"
      ],
      "execution_count": 53,
      "outputs": [
        {
          "output_type": "execute_result",
          "data": {
            "text/plain": [
              "array([[1, 2, 5, 6],\n",
              "       [3, 4, 7, 8]])"
            ]
          },
          "metadata": {},
          "execution_count": 53
        }
      ]
    },
    {
      "cell_type": "code",
      "metadata": {
        "colab": {
          "base_uri": "https://localhost:8080/"
        },
        "id": "zOUcK-GKexET",
        "outputId": "987b65b9-d822-48b6-9358-60627d0cc69b"
      },
      "source": [
        "y = np.vstack((a,b))            #vertical stack\n",
        "y"
      ],
      "execution_count": 54,
      "outputs": [
        {
          "output_type": "execute_result",
          "data": {
            "text/plain": [
              "array([[1, 2],\n",
              "       [3, 4],\n",
              "       [5, 6],\n",
              "       [7, 8]])"
            ]
          },
          "metadata": {},
          "execution_count": 54
        }
      ]
    },
    {
      "cell_type": "code",
      "metadata": {
        "colab": {
          "base_uri": "https://localhost:8080/"
        },
        "id": "sXkG_5sXe7u8",
        "outputId": "cdcd6d18-95bc-4c00-acac-e55142286cd9"
      },
      "source": [
        "array_1 = np.array([[1,2,3,4],\n",
        "                    [5,6,7,8],\n",
        "                    [9,10,11,12]])\n",
        "array_1"
      ],
      "execution_count": 57,
      "outputs": [
        {
          "output_type": "execute_result",
          "data": {
            "text/plain": [
              "array([[ 1,  2,  3,  4],\n",
              "       [ 5,  6,  7,  8],\n",
              "       [ 9, 10, 11, 12]])"
            ]
          },
          "metadata": {},
          "execution_count": 57
        }
      ]
    },
    {
      "cell_type": "code",
      "metadata": {
        "colab": {
          "base_uri": "https://localhost:8080/"
        },
        "id": "_qfHdHlKfjdG",
        "outputId": "03dc7877-bb64-42f9-b843-cbd14444929a"
      },
      "source": [
        "bigger_than_5=array_1>5\n",
        "bigger_than_5"
      ],
      "execution_count": 58,
      "outputs": [
        {
          "output_type": "execute_result",
          "data": {
            "text/plain": [
              "array([[False, False, False, False],\n",
              "       [False,  True,  True,  True],\n",
              "       [ True,  True,  True,  True]])"
            ]
          },
          "metadata": {},
          "execution_count": 58
        }
      ]
    },
    {
      "cell_type": "code",
      "metadata": {
        "colab": {
          "base_uri": "https://localhost:8080/"
        },
        "id": "b5qFjaeJfz9h",
        "outputId": "f87a0d8a-4881-4662-f5de-11e30709d7e8"
      },
      "source": [
        "array_1[bigger_than_5]"
      ],
      "execution_count": 59,
      "outputs": [
        {
          "output_type": "execute_result",
          "data": {
            "text/plain": [
              "array([ 6,  7,  8,  9, 10, 11, 12])"
            ]
          },
          "metadata": {},
          "execution_count": 59
        }
      ]
    },
    {
      "cell_type": "code",
      "metadata": {
        "colab": {
          "base_uri": "https://localhost:8080/"
        },
        "id": "0wO80EI8f8b7",
        "outputId": "7a89941a-5b45-467f-f33e-759f2936f341"
      },
      "source": [
        "array_1[array_1<5]"
      ],
      "execution_count": 62,
      "outputs": [
        {
          "output_type": "execute_result",
          "data": {
            "text/plain": [
              "array([1, 2, 3, 4])"
            ]
          },
          "metadata": {},
          "execution_count": 62
        }
      ]
    },
    {
      "cell_type": "code",
      "metadata": {
        "colab": {
          "base_uri": "https://localhost:8080/"
        },
        "id": "gDzYjdUkgC7R",
        "outputId": "98c774b9-5d19-44cc-8267-e2cb2457f0d7"
      },
      "source": [
        "array_1[(array_1<10) & (array_1>3)]"
      ],
      "execution_count": 63,
      "outputs": [
        {
          "output_type": "execute_result",
          "data": {
            "text/plain": [
              "array([4, 5, 6, 7, 8, 9])"
            ]
          },
          "metadata": {},
          "execution_count": 63
        }
      ]
    },
    {
      "cell_type": "code",
      "metadata": {
        "colab": {
          "base_uri": "https://localhost:8080/"
        },
        "id": "d0P5nDODgf-c",
        "outputId": "6e01e346-7f9c-4a6f-8785-06eee6510235"
      },
      "source": [
        "array_1[(array_1<10) | (array_1>3)]"
      ],
      "execution_count": 64,
      "outputs": [
        {
          "output_type": "execute_result",
          "data": {
            "text/plain": [
              "array([ 1,  2,  3,  4,  5,  6,  7,  8,  9, 10, 11, 12])"
            ]
          },
          "metadata": {},
          "execution_count": 64
        }
      ]
    },
    {
      "cell_type": "code",
      "metadata": {
        "colab": {
          "base_uri": "https://localhost:8080/"
        },
        "id": "mT3FXte2g7KC",
        "outputId": "0376500b-28a9-4a4c-a814-8416678d4271"
      },
      "source": [
        "np.log(array_1)"
      ],
      "execution_count": 66,
      "outputs": [
        {
          "output_type": "execute_result",
          "data": {
            "text/plain": [
              "array([[0.        , 0.69314718, 1.09861229, 1.38629436],\n",
              "       [1.60943791, 1.79175947, 1.94591015, 2.07944154],\n",
              "       [2.19722458, 2.30258509, 2.39789527, 2.48490665]])"
            ]
          },
          "metadata": {},
          "execution_count": 66
        }
      ]
    },
    {
      "cell_type": "code",
      "metadata": {
        "colab": {
          "base_uri": "https://localhost:8080/"
        },
        "id": "nOuJjXxThU1p",
        "outputId": "74dedd8e-9625-4c73-e2ae-3fe1be2d2d96"
      },
      "source": [
        "np.exp(array_1)"
      ],
      "execution_count": 67,
      "outputs": [
        {
          "output_type": "execute_result",
          "data": {
            "text/plain": [
              "array([[2.71828183e+00, 7.38905610e+00, 2.00855369e+01, 5.45981500e+01],\n",
              "       [1.48413159e+02, 4.03428793e+02, 1.09663316e+03, 2.98095799e+03],\n",
              "       [8.10308393e+03, 2.20264658e+04, 5.98741417e+04, 1.62754791e+05]])"
            ]
          },
          "metadata": {},
          "execution_count": 67
        }
      ]
    },
    {
      "cell_type": "code",
      "metadata": {
        "colab": {
          "base_uri": "https://localhost:8080/"
        },
        "id": "rc1am4b1hYBp",
        "outputId": "f679ce6a-3501-4222-ba4e-5ce497d22866"
      },
      "source": [
        "np.asfarray(array_1)"
      ],
      "execution_count": 68,
      "outputs": [
        {
          "output_type": "execute_result",
          "data": {
            "text/plain": [
              "array([[ 1.,  2.,  3.,  4.],\n",
              "       [ 5.,  6.,  7.,  8.],\n",
              "       [ 9., 10., 11., 12.]])"
            ]
          },
          "metadata": {},
          "execution_count": 68
        }
      ]
    },
    {
      "cell_type": "code",
      "metadata": {
        "id": "vjRG6aDAh25K"
      },
      "source": [
        "import pandas as pd\n"
      ],
      "execution_count": 69,
      "outputs": []
    },
    {
      "cell_type": "code",
      "metadata": {
        "colab": {
          "base_uri": "https://localhost:8080/"
        },
        "id": "MpdZb0tqh6rc",
        "outputId": "3ead3032-9003-4500-e586-cd173f2a1840"
      },
      "source": [
        "my_list = [1,2,3,4,5,6,7,8]\n",
        "a=np.array(my_list)\n",
        "a"
      ],
      "execution_count": 70,
      "outputs": [
        {
          "output_type": "execute_result",
          "data": {
            "text/plain": [
              "array([1, 2, 3, 4, 5, 6, 7, 8])"
            ]
          },
          "metadata": {},
          "execution_count": 70
        }
      ]
    },
    {
      "cell_type": "code",
      "metadata": {
        "colab": {
          "base_uri": "https://localhost:8080/"
        },
        "id": "tnk1TXX4h8eL",
        "outputId": "5eb2c1fb-3d69-46ef-8627-d2271d43ef0b"
      },
      "source": [
        "pd.Series(my_list)"
      ],
      "execution_count": 71,
      "outputs": [
        {
          "output_type": "execute_result",
          "data": {
            "text/plain": [
              "0    1\n",
              "1    2\n",
              "2    3\n",
              "3    4\n",
              "4    5\n",
              "5    6\n",
              "6    7\n",
              "7    8\n",
              "dtype: int64"
            ]
          },
          "metadata": {},
          "execution_count": 71
        }
      ]
    },
    {
      "cell_type": "code",
      "metadata": {
        "id": "j151H82fiEZ1"
      },
      "source": [
        "labels = ['X','y','z', 'h']\n",
        "my_list = [5, 10, 15, 20]\n",
        "arr = np.array([25, 50, 75, 100])\n",
        "d = {'a': 10, 'b': 20, 'c': 30, 'd':40}"
      ],
      "execution_count": 72,
      "outputs": []
    },
    {
      "cell_type": "code",
      "metadata": {
        "colab": {
          "base_uri": "https://localhost:8080/"
        },
        "id": "X-tWc9epiPRd",
        "outputId": "1047729a-00a3-4798-b132-8ce32364f255"
      },
      "source": [
        "pd.Series(my_list, index = labels)"
      ],
      "execution_count": 73,
      "outputs": [
        {
          "output_type": "execute_result",
          "data": {
            "text/plain": [
              "X     5\n",
              "y    10\n",
              "z    15\n",
              "h    20\n",
              "dtype: int64"
            ]
          },
          "metadata": {},
          "execution_count": 73
        }
      ]
    },
    {
      "cell_type": "code",
      "metadata": {
        "colab": {
          "base_uri": "https://localhost:8080/"
        },
        "id": "JXBjTKFaic2H",
        "outputId": "46985ff8-5e15-477a-ea31-0e7fc5fd1d10"
      },
      "source": [
        "pd.Series(arr)"
      ],
      "execution_count": 74,
      "outputs": [
        {
          "output_type": "execute_result",
          "data": {
            "text/plain": [
              "0     25\n",
              "1     50\n",
              "2     75\n",
              "3    100\n",
              "dtype: int64"
            ]
          },
          "metadata": {},
          "execution_count": 74
        }
      ]
    },
    {
      "cell_type": "code",
      "metadata": {
        "colab": {
          "base_uri": "https://localhost:8080/"
        },
        "id": "qH26m2qRiloi",
        "outputId": "bc66e005-9c85-48db-c955-193505b79a16"
      },
      "source": [
        "pd.Series(d)"
      ],
      "execution_count": 75,
      "outputs": [
        {
          "output_type": "execute_result",
          "data": {
            "text/plain": [
              "a    10\n",
              "b    20\n",
              "c    30\n",
              "d    40\n",
              "dtype: int64"
            ]
          },
          "metadata": {},
          "execution_count": 75
        }
      ]
    },
    {
      "cell_type": "code",
      "metadata": {
        "id": "zPd-6_TfivPm"
      },
      "source": [
        "ser = pd.Series([5,10,15,20,25,30], index = ['USA', 'Germany','France', 'UK','Turkey','Greece'])"
      ],
      "execution_count": 76,
      "outputs": []
    },
    {
      "cell_type": "code",
      "metadata": {
        "colab": {
          "base_uri": "https://localhost:8080/"
        },
        "id": "5xG9aoCujAtt",
        "outputId": "06a1a688-404c-42a6-f4e4-ee31e888e4de"
      },
      "source": [
        "ser.sort_values()"
      ],
      "execution_count": 77,
      "outputs": [
        {
          "output_type": "execute_result",
          "data": {
            "text/plain": [
              "USA         5\n",
              "Germany    10\n",
              "France     15\n",
              "UK         20\n",
              "Turkey     25\n",
              "Greece     30\n",
              "dtype: int64"
            ]
          },
          "metadata": {},
          "execution_count": 77
        }
      ]
    },
    {
      "cell_type": "code",
      "metadata": {
        "colab": {
          "base_uri": "https://localhost:8080/"
        },
        "id": "7yC4to3wjUyJ",
        "outputId": "3ca689d5-4452-4583-f360-c21d40803598"
      },
      "source": [
        "ser.sort_index()"
      ],
      "execution_count": 79,
      "outputs": [
        {
          "output_type": "execute_result",
          "data": {
            "text/plain": [
              "France     15\n",
              "Germany    10\n",
              "Greece     30\n",
              "Turkey     25\n",
              "UK         20\n",
              "USA         5\n",
              "dtype: int64"
            ]
          },
          "metadata": {},
          "execution_count": 79
        }
      ]
    },
    {
      "cell_type": "code",
      "metadata": {
        "colab": {
          "base_uri": "https://localhost:8080/"
        },
        "id": "yk7VF4atjXn_",
        "outputId": "fb7e563a-d31b-4f29-a5fe-45909324e13f"
      },
      "source": [
        "'UK' in ser"
      ],
      "execution_count": 83,
      "outputs": [
        {
          "output_type": "execute_result",
          "data": {
            "text/plain": [
              "True"
            ]
          },
          "metadata": {},
          "execution_count": 83
        }
      ]
    },
    {
      "cell_type": "code",
      "metadata": {
        "colab": {
          "base_uri": "https://localhost:8080/"
        },
        "id": "oCcGbL5qjf0G",
        "outputId": "8fe836e3-8a97-4e12-cc5d-846f146df837"
      },
      "source": [
        "ser.isin([25])"
      ],
      "execution_count": 85,
      "outputs": [
        {
          "output_type": "execute_result",
          "data": {
            "text/plain": [
              "USA        False\n",
              "Germany    False\n",
              "France     False\n",
              "UK         False\n",
              "Turkey      True\n",
              "Greece     False\n",
              "dtype: bool"
            ]
          },
          "metadata": {},
          "execution_count": 85
        }
      ]
    },
    {
      "cell_type": "code",
      "metadata": {
        "colab": {
          "base_uri": "https://localhost:8080/"
        },
        "id": "mrZXXOuWjoxi",
        "outputId": "61ebee6a-98fa-4ccc-c598-1c3e65484e1b"
      },
      "source": [
        "ser.keys()"
      ],
      "execution_count": 86,
      "outputs": [
        {
          "output_type": "execute_result",
          "data": {
            "text/plain": [
              "Index(['USA', 'Germany', 'France', 'UK', 'Turkey', 'Greece'], dtype='object')"
            ]
          },
          "metadata": {},
          "execution_count": 86
        }
      ]
    },
    {
      "cell_type": "code",
      "metadata": {
        "colab": {
          "base_uri": "https://localhost:8080/"
        },
        "id": "ogBEWlzcjxo-",
        "outputId": "2d7b2ced-2e5d-4e30-93cd-3a2149a92096"
      },
      "source": [
        "ser.items"
      ],
      "execution_count": 89,
      "outputs": [
        {
          "output_type": "execute_result",
          "data": {
            "text/plain": [
              "<bound method Series.items of USA         5\n",
              "Germany    10\n",
              "France     15\n",
              "UK         20\n",
              "Turkey     25\n",
              "Greece     30\n",
              "dtype: int64>"
            ]
          },
          "metadata": {},
          "execution_count": 89
        }
      ]
    },
    {
      "cell_type": "code",
      "metadata": {
        "colab": {
          "base_uri": "https://localhost:8080/"
        },
        "id": "M7mTJp9jj0H0",
        "outputId": "be7ffc55-2642-4296-9760-9d1d5d6f2fce"
      },
      "source": [
        "for key, value in ser.items():\n",
        "  print(key,value)"
      ],
      "execution_count": 91,
      "outputs": [
        {
          "output_type": "stream",
          "name": "stdout",
          "text": [
            "USA 5\n",
            "Germany 10\n",
            "France 15\n",
            "UK 20\n",
            "Turkey 25\n",
            "Greece 30\n"
          ]
        }
      ]
    },
    {
      "cell_type": "code",
      "metadata": {
        "id": "QWf-PSgNk6Jr"
      },
      "source": [
        ""
      ],
      "execution_count": null,
      "outputs": []
    }
  ]
}