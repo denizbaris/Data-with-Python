{
  "nbformat": 4,
  "nbformat_minor": 0,
  "metadata": {
    "colab": {
      "name": "DAwPython_2.ipynb",
      "provenance": [],
      "authorship_tag": "ABX9TyNfzhyMkEa/lwOdgUPHMJkk",
      "include_colab_link": true
    },
    "kernelspec": {
      "name": "python3",
      "display_name": "Python 3"
    },
    "language_info": {
      "name": "python"
    }
  },
  "cells": [
    {
      "cell_type": "markdown",
      "metadata": {
        "id": "view-in-github",
        "colab_type": "text"
      },
      "source": [
        "<a href=\"https://colab.research.google.com/github/denizbaris/Data-with-Python/blob/main/DAwPython_2.ipynb\" target=\"_parent\"><img src=\"https://colab.research.google.com/assets/colab-badge.svg\" alt=\"Open In Colab\"/></a>"
      ]
    },
    {
      "cell_type": "code",
      "metadata": {
        "id": "VDMKPQw05YdH"
      },
      "source": [
        "import numpy as np"
      ],
      "execution_count": 1,
      "outputs": []
    },
    {
      "cell_type": "code",
      "metadata": {
        "colab": {
          "base_uri": "https://localhost:8080/"
        },
        "id": "AKiPUDxI5b1d",
        "outputId": "b2df322a-9cd2-49c2-dc52-1c240619db5b"
      },
      "source": [
        "np.random.rand(5)  #rastgele 0 ile 1 arasinda 5 tane sayi verir"
      ],
      "execution_count": 2,
      "outputs": [
        {
          "output_type": "execute_result",
          "data": {
            "text/plain": [
              "array([0.37996709, 0.79402179, 0.40616852, 0.55450095, 0.3766719 ])"
            ]
          },
          "metadata": {},
          "execution_count": 2
        }
      ]
    },
    {
      "cell_type": "code",
      "metadata": {
        "colab": {
          "base_uri": "https://localhost:8080/"
        },
        "id": "BnKTze5y51MS",
        "outputId": "e55b8a9c-1d09-4097-f128-c8c9b1f66da0"
      },
      "source": [
        "np.random.rand(5,5)"
      ],
      "execution_count": 4,
      "outputs": [
        {
          "output_type": "execute_result",
          "data": {
            "text/plain": [
              "array([[0.48970618, 0.91268782, 0.29691499, 0.80683389, 0.85740553],\n",
              "       [0.9500127 , 0.63988126, 0.49493911, 0.23253999, 0.98161577],\n",
              "       [0.55320743, 0.34062635, 0.21099046, 0.54022007, 0.54899747],\n",
              "       [0.44818717, 0.7967467 , 0.44646668, 0.68415671, 0.94064059],\n",
              "       [0.82664904, 0.16194375, 0.94818358, 0.81926969, 0.6114927 ]])"
            ]
          },
          "metadata": {},
          "execution_count": 4
        }
      ]
    },
    {
      "cell_type": "code",
      "metadata": {
        "colab": {
          "base_uri": "https://localhost:8080/"
        },
        "id": "PjCRTpHI6Atg",
        "outputId": "a88188b5-ad8d-4cc8-83df-7fddc0086023"
      },
      "source": [
        "rand_float = np.random.rand(5,3)\n",
        "rand_float"
      ],
      "execution_count": 5,
      "outputs": [
        {
          "output_type": "execute_result",
          "data": {
            "text/plain": [
              "array([[0.0922863 , 0.3661334 , 0.91931368],\n",
              "       [0.44381755, 0.45751196, 0.87889157],\n",
              "       [0.58909119, 0.98941711, 0.74437521],\n",
              "       [0.5653948 , 0.01017334, 0.09755858],\n",
              "       [0.73640318, 0.09725177, 0.10663545]])"
            ]
          },
          "metadata": {},
          "execution_count": 5
        }
      ]
    },
    {
      "cell_type": "code",
      "metadata": {
        "colab": {
          "base_uri": "https://localhost:8080/"
        },
        "id": "ohtFc_o_6RN0",
        "outputId": "39205ff5-ba3e-4026-b811-cf0a76673b7d"
      },
      "source": [
        "rand_float[0]"
      ],
      "execution_count": 6,
      "outputs": [
        {
          "output_type": "execute_result",
          "data": {
            "text/plain": [
              "array([0.0922863 , 0.3661334 , 0.91931368])"
            ]
          },
          "metadata": {},
          "execution_count": 6
        }
      ]
    },
    {
      "cell_type": "code",
      "metadata": {
        "id": "CWI1IHGR6jyf"
      },
      "source": [
        "import matplotlib.pyplot as plt\n"
      ],
      "execution_count": 7,
      "outputs": []
    },
    {
      "cell_type": "code",
      "metadata": {
        "colab": {
          "base_uri": "https://localhost:8080/",
          "height": 386
        },
        "id": "uJWdhh7u6ntS",
        "outputId": "07bf6a20-084f-4a05-ed56-3014bca3dac6"
      },
      "source": [
        "%matplotlib inline\n",
        "plt.hist(rand_float)"
      ],
      "execution_count": 10,
      "outputs": [
        {
          "output_type": "execute_result",
          "data": {
            "text/plain": [
              "(array([[1., 0., 0., 0., 1., 2., 0., 1., 0., 0.],\n",
              "        [2., 0., 0., 1., 1., 0., 0., 0., 0., 1.],\n",
              "        [2., 0., 0., 0., 0., 0., 0., 1., 1., 1.]]),\n",
              " array([0.01017334, 0.10809771, 0.20602209, 0.30394647, 0.40187085,\n",
              "        0.49979523, 0.5977196 , 0.69564398, 0.79356836, 0.89149274,\n",
              "        0.98941711]),\n",
              " <a list of 3 Lists of Patches objects>)"
            ]
          },
          "metadata": {},
          "execution_count": 10
        },
        {
          "output_type": "display_data",
          "data": {
            "image/png": "[encoded data removed]",
            "text/plain": [
              "<Figure size 432x288 with 1 Axes>"
            ]
          },
          "metadata": {
            "needs_background": "light"
          }
        }
      ]
    },
    {
      "cell_type": "code",
      "metadata": {
        "colab": {
          "base_uri": "https://localhost:8080/",
          "height": 265
        },
        "id": "tiKPc9L16v1e",
        "outputId": "7ad6be8f-0360-4f71-8121-e018ac43131e"
      },
      "source": [
        "arr = np.random.rand(99999)\n",
        "plt.hist(arr,bins=100)   #noktali virgul yapmazsan arrayi de cikartiyor noktali virgul yerine plt.show() yazabilirsin onun yerine geciyor  \n",
        "plt.show()  #plt.show() = ;"
      ],
      "execution_count": 22,
      "outputs": [
        {
          "output_type": "display_data",
          "data": {
            "image/png": "[encoded data removed]",
            "text/plain": [
              "<Figure size 432x288 with 1 Axes>"
            ]
          },
          "metadata": {
            "needs_background": "light"
          }
        }
      ]
    },
    {
      "cell_type": "code",
      "metadata": {
        "id": "BrQmMdY269H5"
      },
      "source": [
        "# simdi normal dagilim yapalim"
      ],
      "execution_count": 17,
      "outputs": []
    },
    {
      "cell_type": "code",
      "metadata": {
        "colab": {
          "base_uri": "https://localhost:8080/"
        },
        "id": "9lq9qrix7xPa",
        "outputId": "8aabfe4a-4dc9-4c01-b14b-75ae7ac929dc"
      },
      "source": [
        "np.random.randn(10)  #return a samole from standard normal distribution degerler -3 ile +3 arasi"
      ],
      "execution_count": 19,
      "outputs": [
        {
          "output_type": "execute_result",
          "data": {
            "text/plain": [
              "array([-0.16111121, -0.26367653,  2.57624657,  0.46601757, -0.8846982 ,\n",
              "        0.55487294, -0.60868996,  0.26147492, -0.66756375,  0.16686458])"
            ]
          },
          "metadata": {},
          "execution_count": 19
        }
      ]
    },
    {
      "cell_type": "code",
      "metadata": {
        "colab": {
          "base_uri": "https://localhost:8080/",
          "height": 265
        },
        "id": "2tgtX-sv8Anv",
        "outputId": "c9482e00-950a-421b-d7ea-071c06fa35af"
      },
      "source": [
        "arr_n = np.random.randn(99999)   #+3 ile -3 arasi random sayilar \n",
        "plt.hist(arr,bins=100)         # yapi olarak normal bir yapidir\n",
        "plt.show()"
      ],
      "execution_count": 21,
      "outputs": [
        {
          "output_type": "display_data",
          "data": {
            "image/png": "[encoded data removed]",
            "text/plain": [
              "<Figure size 432x288 with 1 Axes>"
            ]
          },
          "metadata": {
            "needs_background": "light"
          }
        }
      ]
    },
    {
      "cell_type": "code",
      "metadata": {
        "colab": {
          "base_uri": "https://localhost:8080/"
        },
        "id": "TwvqdW3f8g5n",
        "outputId": "2c4f298d-17e8-4fea-ebc5-40193840f5a4"
      },
      "source": [
        "arr_n.mean()"
      ],
      "execution_count": 23,
      "outputs": [
        {
          "output_type": "execute_result",
          "data": {
            "text/plain": [
              "-0.0011141868874671096"
            ]
          },
          "metadata": {},
          "execution_count": 23
        }
      ]
    },
    {
      "cell_type": "code",
      "metadata": {
        "colab": {
          "base_uri": "https://localhost:8080/"
        },
        "id": "pLMxZfB-9Hqc",
        "outputId": "a4ea2bfd-b01b-4f33-d873-f90b30deda3b"
      },
      "source": [
        "arr_n.std()"
      ],
      "execution_count": 24,
      "outputs": [
        {
          "output_type": "execute_result",
          "data": {
            "text/plain": [
              "1.000083203495888"
            ]
          },
          "metadata": {},
          "execution_count": 24
        }
      ]
    },
    {
      "cell_type": "code",
      "metadata": {
        "colab": {
          "base_uri": "https://localhost:8080/",
          "height": 265
        },
        "id": "GNmS-nZ59J1l",
        "outputId": "dd82ec8c-3112-4ba6-d9e6-d219bfe70ad4"
      },
      "source": [
        "arr_s = np.random.randn(10)\n",
        "plt.hist(arr_s)  \n",
        "plt.show()"
      ],
      "execution_count": 26,
      "outputs": [
        {
          "output_type": "display_data",
          "data": {
            "image/png": "[encoded data removed]",
            "text/plain": [
              "<Figure size 432x288 with 1 Axes>"
            ]
          },
          "metadata": {
            "needs_background": "light"
          }
        }
      ]
    },
    {
      "cell_type": "code",
      "metadata": {
        "colab": {
          "base_uri": "https://localhost:8080/"
        },
        "id": "DawNDI999heM",
        "outputId": "24fcfb9f-45b3-44ae-fa16-cea6ac15d5fa"
      },
      "source": [
        "arr_s.mean()"
      ],
      "execution_count": 27,
      "outputs": [
        {
          "output_type": "execute_result",
          "data": {
            "text/plain": [
              "-0.235887418864491"
            ]
          },
          "metadata": {},
          "execution_count": 27
        }
      ]
    },
    {
      "cell_type": "code",
      "metadata": {
        "colab": {
          "base_uri": "https://localhost:8080/"
        },
        "id": "bTIM6p2I9laL",
        "outputId": "7eff3b82-29aa-4d15-8c2b-50aa8ce3dcbc"
      },
      "source": [
        "arr_s.std()"
      ],
      "execution_count": 28,
      "outputs": [
        {
          "output_type": "execute_result",
          "data": {
            "text/plain": [
              "0.9372763268004847"
            ]
          },
          "metadata": {},
          "execution_count": 28
        }
      ]
    },
    {
      "cell_type": "code",
      "metadata": {
        "colab": {
          "base_uri": "https://localhost:8080/"
        },
        "id": "HwDCcij393Bo",
        "outputId": "00a19b0f-3e6c-4eed-a6ac-5e6105be38fe"
      },
      "source": [
        "arr_s.var()"
      ],
      "execution_count": 29,
      "outputs": [
        {
          "output_type": "execute_result",
          "data": {
            "text/plain": [
              "0.878486912780609"
            ]
          },
          "metadata": {},
          "execution_count": 29
        }
      ]
    },
    {
      "cell_type": "code",
      "metadata": {
        "id": "30p_aAjc95Zw"
      },
      "source": [
        ""
      ],
      "execution_count": null,
      "outputs": []
    },
    {
      "cell_type": "markdown",
      "metadata": {
        "id": "SiHGXWrO-CL2"
      },
      "source": [
        "RANDINT\n",
        "Return random integers from low(inclusive) to high(exclusive)"
      ]
    },
    {
      "cell_type": "code",
      "metadata": {
        "colab": {
          "base_uri": "https://localhost:8080/"
        },
        "id": "A2um8H4x-KOU",
        "outputId": "63d25a46-e958-4a0f-bee6-f59081426f3b"
      },
      "source": [
        "np.random.randint(0,10,size=(4,4))"
      ],
      "execution_count": 32,
      "outputs": [
        {
          "output_type": "execute_result",
          "data": {
            "text/plain": [
              "array([[4, 1, 2, 9],\n",
              "       [1, 3, 0, 8],\n",
              "       [6, 9, 6, 2],\n",
              "       [1, 5, 8, 9]])"
            ]
          },
          "metadata": {},
          "execution_count": 32
        }
      ]
    },
    {
      "cell_type": "code",
      "metadata": {
        "colab": {
          "base_uri": "https://localhost:8080/"
        },
        "id": "PEigmFHn-QdM",
        "outputId": "5d8e92cc-576e-4b80-a46b-67d91f96bb83"
      },
      "source": [
        "np.random.randint(0, [3,10,6,2],size=(2,4))  #liste icerisinden sirasiyla 0 ile 3, 0 ile 10, 0 ile 6, 0 ile 2 arasinda sayi uret"
      ],
      "execution_count": 33,
      "outputs": [
        {
          "output_type": "execute_result",
          "data": {
            "text/plain": [
              "array([[1, 7, 5, 1],\n",
              "       [2, 7, 1, 0]])"
            ]
          },
          "metadata": {},
          "execution_count": 33
        }
      ]
    },
    {
      "cell_type": "code",
      "metadata": {
        "colab": {
          "base_uri": "https://localhost:8080/"
        },
        "id": "83JgWmHR-35e",
        "outputId": "51bcb3b7-c367-4215-dc18-c19557a9ca3e"
      },
      "source": [
        "np.random.randint([18,60,160,0], [35,100,210,5])  #random number between lists  #oyunlarda kullaniliyormus random function u"
      ],
      "execution_count": 34,
      "outputs": [
        {
          "output_type": "execute_result",
          "data": {
            "text/plain": [
              "array([ 23,  62, 162,   0])"
            ]
          },
          "metadata": {},
          "execution_count": 34
        }
      ]
    },
    {
      "cell_type": "code",
      "metadata": {
        "id": "-gT-TIsF_NyQ"
      },
      "source": [
        ""
      ],
      "execution_count": null,
      "outputs": []
    },
    {
      "cell_type": "markdown",
      "metadata": {
        "id": "lP6xC1kfDbdV"
      },
      "source": [
        "**Concatenation of the Arrays**\n",
        "\n",
        "\n",
        "---\n",
        "\n",
        "\n",
        "\n"
      ]
    },
    {
      "cell_type": "code",
      "metadata": {
        "colab": {
          "base_uri": "https://localhost:8080/"
        },
        "id": "Fl-Zbr8vDiZY",
        "outputId": "6469c3b3-5d8b-4e63-d59c-23cdb5bad366"
      },
      "source": [
        "ones = np.ones((4,4))\n",
        "ones"
      ],
      "execution_count": 36,
      "outputs": [
        {
          "output_type": "execute_result",
          "data": {
            "text/plain": [
              "array([[1., 1., 1., 1.],\n",
              "       [1., 1., 1., 1.],\n",
              "       [1., 1., 1., 1.],\n",
              "       [1., 1., 1., 1.]])"
            ]
          },
          "metadata": {},
          "execution_count": 36
        }
      ]
    },
    {
      "cell_type": "code",
      "metadata": {
        "colab": {
          "base_uri": "https://localhost:8080/"
        },
        "id": "z9B8X95ZDlqt",
        "outputId": "7fae849f-329a-4510-d6d0-d8c4b860dd4c"
      },
      "source": [
        "rand = np.random.randint(2,10, size = (4,4))\n",
        "rand"
      ],
      "execution_count": 37,
      "outputs": [
        {
          "output_type": "execute_result",
          "data": {
            "text/plain": [
              "array([[7, 6, 3, 8],\n",
              "       [8, 3, 8, 7],\n",
              "       [7, 9, 5, 7],\n",
              "       [7, 2, 9, 5]])"
            ]
          },
          "metadata": {},
          "execution_count": 37
        }
      ]
    },
    {
      "cell_type": "code",
      "metadata": {
        "colab": {
          "base_uri": "https://localhost:8080/"
        },
        "id": "-hFwfUYiDvzn",
        "outputId": "0f8315b0-31a2-4eb9-9118-cfbac745474d"
      },
      "source": [
        "np.concatenate([ones,rand], axis = 1)   #axis 1 olunca 2. degiskeni yanina ekledi"
      ],
      "execution_count": 39,
      "outputs": [
        {
          "output_type": "execute_result",
          "data": {
            "text/plain": [
              "array([[1., 1., 1., 1., 7., 6., 3., 8.],\n",
              "       [1., 1., 1., 1., 8., 3., 8., 7.],\n",
              "       [1., 1., 1., 1., 7., 9., 5., 7.],\n",
              "       [1., 1., 1., 1., 7., 2., 9., 5.]])"
            ]
          },
          "metadata": {},
          "execution_count": 39
        }
      ]
    },
    {
      "cell_type": "code",
      "metadata": {
        "id": "vnpkhn-_D_Kd"
      },
      "source": [
        ""
      ],
      "execution_count": null,
      "outputs": []
    },
    {
      "cell_type": "markdown",
      "metadata": {
        "id": "3A8S6fqfEQgD"
      },
      "source": [
        "**Splitting of the Arrays**\n",
        "\n",
        "---\n",
        "\n",
        "\n",
        "\n",
        "---\n",
        "\n"
      ]
    },
    {
      "cell_type": "code",
      "metadata": {
        "colab": {
          "base_uri": "https://localhost:8080/"
        },
        "id": "pT0UzETgEWh_",
        "outputId": "1a5253e9-d846-4c53-d9e9-f53e11ae706f"
      },
      "source": [
        "concat = np.arange(0,25).reshape(5,5)\n",
        "concat"
      ],
      "execution_count": 41,
      "outputs": [
        {
          "output_type": "execute_result",
          "data": {
            "text/plain": [
              "array([[ 0,  1,  2,  3,  4],\n",
              "       [ 5,  6,  7,  8,  9],\n",
              "       [10, 11, 12, 13, 14],\n",
              "       [15, 16, 17, 18, 19],\n",
              "       [20, 21, 22, 23, 24]])"
            ]
          },
          "metadata": {},
          "execution_count": 41
        }
      ]
    },
    {
      "cell_type": "code",
      "metadata": {
        "colab": {
          "base_uri": "https://localhost:8080/"
        },
        "id": "toEmKujrE5eN",
        "outputId": "6f73731d-4446-4875-9f15-883d6e135a52"
      },
      "source": [
        "np.split(concat, 5)"
      ],
      "execution_count": 43,
      "outputs": [
        {
          "output_type": "execute_result",
          "data": {
            "text/plain": [
              "[array([[0, 1, 2, 3, 4]]),\n",
              " array([[5, 6, 7, 8, 9]]),\n",
              " array([[10, 11, 12, 13, 14]]),\n",
              " array([[15, 16, 17, 18, 19]]),\n",
              " array([[20, 21, 22, 23, 24]])]"
            ]
          },
          "metadata": {},
          "execution_count": 43
        }
      ]
    },
    {
      "cell_type": "code",
      "metadata": {
        "colab": {
          "base_uri": "https://localhost:8080/"
        },
        "id": "u1cFrZaoFY4u",
        "outputId": "0ed9fcda-f355-4eea-8bef-a598eb79e6de"
      },
      "source": [
        "np.split(concat,[2,3], axis = 1)"
      ],
      "execution_count": 50,
      "outputs": [
        {
          "output_type": "execute_result",
          "data": {
            "text/plain": [
              "[array([[ 0,  1],\n",
              "        [ 5,  6],\n",
              "        [10, 11],\n",
              "        [15, 16],\n",
              "        [20, 21]]), array([[ 2],\n",
              "        [ 7],\n",
              "        [12],\n",
              "        [17],\n",
              "        [22]]), array([[ 3,  4],\n",
              "        [ 8,  9],\n",
              "        [13, 14],\n",
              "        [18, 19],\n",
              "        [23, 24]])]"
            ]
          },
          "metadata": {},
          "execution_count": 50
        }
      ]
    },
    {
      "cell_type": "code",
      "metadata": {
        "id": "7kZiigYmFkfK"
      },
      "source": [
        ""
      ],
      "execution_count": null,
      "outputs": []
    },
    {
      "cell_type": "markdown",
      "metadata": {
        "id": "-nwZtoDYGptG"
      },
      "source": [
        "# **NumPy Indexing and Selection**\n",
        "\n",
        "---\n",
        "In his lecture we will discuss how to select elements or groups of elements from an array\n"
      ]
    },
    {
      "cell_type": "code",
      "metadata": {
        "id": "Dl-mBGcNG5bA"
      },
      "source": [
        "import numpy as np\n",
        "import pandas as pd\n",
        "import seaborn as sns\n",
        "import matplotlib.pyplot as plt\n",
        "%matplotlib inline"
      ],
      "execution_count": 51,
      "outputs": []
    },
    {
      "cell_type": "code",
      "metadata": {
        "id": "tGOv_hyuG-0u"
      },
      "source": [
        "df = sns.load_dataset(\"diamonds\")"
      ],
      "execution_count": 54,
      "outputs": []
    },
    {
      "cell_type": "code",
      "metadata": {
        "colab": {
          "base_uri": "https://localhost:8080/",
          "height": 423
        },
        "id": "wulubG2HHDfK",
        "outputId": "0bae9c8b-e859-447d-b55e-689db233d81f"
      },
      "source": [
        "df"
      ],
      "execution_count": 55,
      "outputs": [
        {
          "output_type": "execute_result",
          "data": {
            "text/html": [
              "<div>\n",
              "<style scoped>\n",
              "    .dataframe tbody tr th:only-of-type {\n",
              "        vertical-align: middle;\n",
              "    }\n",
              "\n",
              "    .dataframe tbody tr th {\n",
              "        vertical-align: top;\n",
              "    }\n",
              "\n",
              "    .dataframe thead th {\n",
              "        text-align: right;\n",
              "    }\n",
              "</style>\n",
              "<table border=\"1\" class=\"dataframe\">\n",
              "  <thead>\n",
              "    <tr style=\"text-align: right;\">\n",
              "      <th></th>\n",
              "      <th>carat</th>\n",
              "      <th>cut</th>\n",
              "      <th>color</th>\n",
              "      <th>clarity</th>\n",
              "      <th>depth</th>\n",
              "      <th>table</th>\n",
              "      <th>price</th>\n",
              "      <th>x</th>\n",
              "      <th>y</th>\n",
              "      <th>z</th>\n",
              "    </tr>\n",
              "  </thead>\n",
              "  <tbody>\n",
              "    <tr>\n",
              "      <th>0</th>\n",
              "      <td>0.23</td>\n",
              "      <td>Ideal</td>\n",
              "      <td>E</td>\n",
              "      <td>SI2</td>\n",
              "      <td>61.5</td>\n",
              "      <td>55.0</td>\n",
              "      <td>326</td>\n",
              "      <td>3.95</td>\n",
              "      <td>3.98</td>\n",
              "      <td>2.43</td>\n",
              "    </tr>\n",
              "    <tr>\n",
              "      <th>1</th>\n",
              "      <td>0.21</td>\n",
              "      <td>Premium</td>\n",
              "      <td>E</td>\n",
              "      <td>SI1</td>\n",
              "      <td>59.8</td>\n",
              "      <td>61.0</td>\n",
              "      <td>326</td>\n",
              "      <td>3.89</td>\n",
              "      <td>3.84</td>\n",
              "      <td>2.31</td>\n",
              "    </tr>\n",
              "    <tr>\n",
              "      <th>2</th>\n",
              "      <td>0.23</td>\n",
              "      <td>Good</td>\n",
              "      <td>E</td>\n",
              "      <td>VS1</td>\n",
              "      <td>56.9</td>\n",
              "      <td>65.0</td>\n",
              "      <td>327</td>\n",
              "      <td>4.05</td>\n",
              "      <td>4.07</td>\n",
              "      <td>2.31</td>\n",
              "    </tr>\n",
              "    <tr>\n",
              "      <th>3</th>\n",
              "      <td>0.29</td>\n",
              "      <td>Premium</td>\n",
              "      <td>I</td>\n",
              "      <td>VS2</td>\n",
              "      <td>62.4</td>\n",
              "      <td>58.0</td>\n",
              "      <td>334</td>\n",
              "      <td>4.20</td>\n",
              "      <td>4.23</td>\n",
              "      <td>2.63</td>\n",
              "    </tr>\n",
              "    <tr>\n",
              "      <th>4</th>\n",
              "      <td>0.31</td>\n",
              "      <td>Good</td>\n",
              "      <td>J</td>\n",
              "      <td>SI2</td>\n",
              "      <td>63.3</td>\n",
              "      <td>58.0</td>\n",
              "      <td>335</td>\n",
              "      <td>4.34</td>\n",
              "      <td>4.35</td>\n",
              "      <td>2.75</td>\n",
              "    </tr>\n",
              "    <tr>\n",
              "      <th>...</th>\n",
              "      <td>...</td>\n",
              "      <td>...</td>\n",
              "      <td>...</td>\n",
              "      <td>...</td>\n",
              "      <td>...</td>\n",
              "      <td>...</td>\n",
              "      <td>...</td>\n",
              "      <td>...</td>\n",
              "      <td>...</td>\n",
              "      <td>...</td>\n",
              "    </tr>\n",
              "    <tr>\n",
              "      <th>53935</th>\n",
              "      <td>0.72</td>\n",
              "      <td>Ideal</td>\n",
              "      <td>D</td>\n",
              "      <td>SI1</td>\n",
              "      <td>60.8</td>\n",
              "      <td>57.0</td>\n",
              "      <td>2757</td>\n",
              "      <td>5.75</td>\n",
              "      <td>5.76</td>\n",
              "      <td>3.50</td>\n",
              "    </tr>\n",
              "    <tr>\n",
              "      <th>53936</th>\n",
              "      <td>0.72</td>\n",
              "      <td>Good</td>\n",
              "      <td>D</td>\n",
              "      <td>SI1</td>\n",
              "      <td>63.1</td>\n",
              "      <td>55.0</td>\n",
              "      <td>2757</td>\n",
              "      <td>5.69</td>\n",
              "      <td>5.75</td>\n",
              "      <td>3.61</td>\n",
              "    </tr>\n",
              "    <tr>\n",
              "      <th>53937</th>\n",
              "      <td>0.70</td>\n",
              "      <td>Very Good</td>\n",
              "      <td>D</td>\n",
              "      <td>SI1</td>\n",
              "      <td>62.8</td>\n",
              "      <td>60.0</td>\n",
              "      <td>2757</td>\n",
              "      <td>5.66</td>\n",
              "      <td>5.68</td>\n",
              "      <td>3.56</td>\n",
              "    </tr>\n",
              "    <tr>\n",
              "      <th>53938</th>\n",
              "      <td>0.86</td>\n",
              "      <td>Premium</td>\n",
              "      <td>H</td>\n",
              "      <td>SI2</td>\n",
              "      <td>61.0</td>\n",
              "      <td>58.0</td>\n",
              "      <td>2757</td>\n",
              "      <td>6.15</td>\n",
              "      <td>6.12</td>\n",
              "      <td>3.74</td>\n",
              "    </tr>\n",
              "    <tr>\n",
              "      <th>53939</th>\n",
              "      <td>0.75</td>\n",
              "      <td>Ideal</td>\n",
              "      <td>D</td>\n",
              "      <td>SI2</td>\n",
              "      <td>62.2</td>\n",
              "      <td>55.0</td>\n",
              "      <td>2757</td>\n",
              "      <td>5.83</td>\n",
              "      <td>5.87</td>\n",
              "      <td>3.64</td>\n",
              "    </tr>\n",
              "  </tbody>\n",
              "</table>\n",
              "<p>53940 rows × 10 columns</p>\n",
              "</div>"
            ],
            "text/plain": [
              "       carat        cut color clarity  depth  table  price     x     y     z\n",
              "0       0.23      Ideal     E     SI2   61.5   55.0    326  3.95  3.98  2.43\n",
              "1       0.21    Premium     E     SI1   59.8   61.0    326  3.89  3.84  2.31\n",
              "2       0.23       Good     E     VS1   56.9   65.0    327  4.05  4.07  2.31\n",
              "3       0.29    Premium     I     VS2   62.4   58.0    334  4.20  4.23  2.63\n",
              "4       0.31       Good     J     SI2   63.3   58.0    335  4.34  4.35  2.75\n",
              "...      ...        ...   ...     ...    ...    ...    ...   ...   ...   ...\n",
              "53935   0.72      Ideal     D     SI1   60.8   57.0   2757  5.75  5.76  3.50\n",
              "53936   0.72       Good     D     SI1   63.1   55.0   2757  5.69  5.75  3.61\n",
              "53937   0.70  Very Good     D     SI1   62.8   60.0   2757  5.66  5.68  3.56\n",
              "53938   0.86    Premium     H     SI2   61.0   58.0   2757  6.15  6.12  3.74\n",
              "53939   0.75      Ideal     D     SI2   62.2   55.0   2757  5.83  5.87  3.64\n",
              "\n",
              "[53940 rows x 10 columns]"
            ]
          },
          "metadata": {},
          "execution_count": 55
        }
      ]
    },
    {
      "cell_type": "code",
      "metadata": {
        "colab": {
          "base_uri": "https://localhost:8080/",
          "height": 423
        },
        "id": "dgHSuE60HKJZ",
        "outputId": "ed14a213-97bd-46b4-94f5-8265e36213da"
      },
      "source": [
        "df[[\"carat\", \"depth\", \"price\", \"x\",\"y\",\"z\"]]"
      ],
      "execution_count": 59,
      "outputs": [
        {
          "output_type": "execute_result",
          "data": {
            "text/html": [
              "<div>\n",
              "<style scoped>\n",
              "    .dataframe tbody tr th:only-of-type {\n",
              "        vertical-align: middle;\n",
              "    }\n",
              "\n",
              "    .dataframe tbody tr th {\n",
              "        vertical-align: top;\n",
              "    }\n",
              "\n",
              "    .dataframe thead th {\n",
              "        text-align: right;\n",
              "    }\n",
              "</style>\n",
              "<table border=\"1\" class=\"dataframe\">\n",
              "  <thead>\n",
              "    <tr style=\"text-align: right;\">\n",
              "      <th></th>\n",
              "      <th>carat</th>\n",
              "      <th>depth</th>\n",
              "      <th>price</th>\n",
              "      <th>x</th>\n",
              "      <th>y</th>\n",
              "      <th>z</th>\n",
              "    </tr>\n",
              "  </thead>\n",
              "  <tbody>\n",
              "    <tr>\n",
              "      <th>0</th>\n",
              "      <td>0.23</td>\n",
              "      <td>61.5</td>\n",
              "      <td>326</td>\n",
              "      <td>3.95</td>\n",
              "      <td>3.98</td>\n",
              "      <td>2.43</td>\n",
              "    </tr>\n",
              "    <tr>\n",
              "      <th>1</th>\n",
              "      <td>0.21</td>\n",
              "      <td>59.8</td>\n",
              "      <td>326</td>\n",
              "      <td>3.89</td>\n",
              "      <td>3.84</td>\n",
              "      <td>2.31</td>\n",
              "    </tr>\n",
              "    <tr>\n",
              "      <th>2</th>\n",
              "      <td>0.23</td>\n",
              "      <td>56.9</td>\n",
              "      <td>327</td>\n",
              "      <td>4.05</td>\n",
              "      <td>4.07</td>\n",
              "      <td>2.31</td>\n",
              "    </tr>\n",
              "    <tr>\n",
              "      <th>3</th>\n",
              "      <td>0.29</td>\n",
              "      <td>62.4</td>\n",
              "      <td>334</td>\n",
              "      <td>4.20</td>\n",
              "      <td>4.23</td>\n",
              "      <td>2.63</td>\n",
              "    </tr>\n",
              "    <tr>\n",
              "      <th>4</th>\n",
              "      <td>0.31</td>\n",
              "      <td>63.3</td>\n",
              "      <td>335</td>\n",
              "      <td>4.34</td>\n",
              "      <td>4.35</td>\n",
              "      <td>2.75</td>\n",
              "    </tr>\n",
              "    <tr>\n",
              "      <th>...</th>\n",
              "      <td>...</td>\n",
              "      <td>...</td>\n",
              "      <td>...</td>\n",
              "      <td>...</td>\n",
              "      <td>...</td>\n",
              "      <td>...</td>\n",
              "    </tr>\n",
              "    <tr>\n",
              "      <th>53935</th>\n",
              "      <td>0.72</td>\n",
              "      <td>60.8</td>\n",
              "      <td>2757</td>\n",
              "      <td>5.75</td>\n",
              "      <td>5.76</td>\n",
              "      <td>3.50</td>\n",
              "    </tr>\n",
              "    <tr>\n",
              "      <th>53936</th>\n",
              "      <td>0.72</td>\n",
              "      <td>63.1</td>\n",
              "      <td>2757</td>\n",
              "      <td>5.69</td>\n",
              "      <td>5.75</td>\n",
              "      <td>3.61</td>\n",
              "    </tr>\n",
              "    <tr>\n",
              "      <th>53937</th>\n",
              "      <td>0.70</td>\n",
              "      <td>62.8</td>\n",
              "      <td>2757</td>\n",
              "      <td>5.66</td>\n",
              "      <td>5.68</td>\n",
              "      <td>3.56</td>\n",
              "    </tr>\n",
              "    <tr>\n",
              "      <th>53938</th>\n",
              "      <td>0.86</td>\n",
              "      <td>61.0</td>\n",
              "      <td>2757</td>\n",
              "      <td>6.15</td>\n",
              "      <td>6.12</td>\n",
              "      <td>3.74</td>\n",
              "    </tr>\n",
              "    <tr>\n",
              "      <th>53939</th>\n",
              "      <td>0.75</td>\n",
              "      <td>62.2</td>\n",
              "      <td>2757</td>\n",
              "      <td>5.83</td>\n",
              "      <td>5.87</td>\n",
              "      <td>3.64</td>\n",
              "    </tr>\n",
              "  </tbody>\n",
              "</table>\n",
              "<p>53940 rows × 6 columns</p>\n",
              "</div>"
            ],
            "text/plain": [
              "       carat  depth  price     x     y     z\n",
              "0       0.23   61.5    326  3.95  3.98  2.43\n",
              "1       0.21   59.8    326  3.89  3.84  2.31\n",
              "2       0.23   56.9    327  4.05  4.07  2.31\n",
              "3       0.29   62.4    334  4.20  4.23  2.63\n",
              "4       0.31   63.3    335  4.34  4.35  2.75\n",
              "...      ...    ...    ...   ...   ...   ...\n",
              "53935   0.72   60.8   2757  5.75  5.76  3.50\n",
              "53936   0.72   63.1   2757  5.69  5.75  3.61\n",
              "53937   0.70   62.8   2757  5.66  5.68  3.56\n",
              "53938   0.86   61.0   2757  6.15  6.12  3.74\n",
              "53939   0.75   62.2   2757  5.83  5.87  3.64\n",
              "\n",
              "[53940 rows x 6 columns]"
            ]
          },
          "metadata": {},
          "execution_count": 59
        }
      ]
    },
    {
      "cell_type": "code",
      "metadata": {
        "colab": {
          "base_uri": "https://localhost:8080/"
        },
        "id": "7RrIocZWHgis",
        "outputId": "6a69c101-fe32-4571-c2ce-647452ed25b4"
      },
      "source": [
        "diamond = np.array(df[[\"carat\", \"depth\", \"price\", \"x\",\"y\",\"z\"]])\n",
        "diamond"
      ],
      "execution_count": 61,
      "outputs": [
        {
          "output_type": "execute_result",
          "data": {
            "text/plain": [
              "array([[2.300e-01, 6.150e+01, 3.260e+02, 3.950e+00, 3.980e+00, 2.430e+00],\n",
              "       [2.100e-01, 5.980e+01, 3.260e+02, 3.890e+00, 3.840e+00, 2.310e+00],\n",
              "       [2.300e-01, 5.690e+01, 3.270e+02, 4.050e+00, 4.070e+00, 2.310e+00],\n",
              "       ...,\n",
              "       [7.000e-01, 6.280e+01, 2.757e+03, 5.660e+00, 5.680e+00, 3.560e+00],\n",
              "       [8.600e-01, 6.100e+01, 2.757e+03, 6.150e+00, 6.120e+00, 3.740e+00],\n",
              "       [7.500e-01, 6.220e+01, 2.757e+03, 5.830e+00, 5.870e+00, 3.640e+00]])"
            ]
          },
          "metadata": {},
          "execution_count": 61
        }
      ]
    },
    {
      "cell_type": "code",
      "metadata": {
        "colab": {
          "base_uri": "https://localhost:8080/"
        },
        "id": "JpYHnvhSH9ik",
        "outputId": "ac1e0997-3156-44e0-e547-d1902b1f0fdb"
      },
      "source": [
        "diamond[0:2]"
      ],
      "execution_count": 63,
      "outputs": [
        {
          "output_type": "execute_result",
          "data": {
            "text/plain": [
              "array([[2.30e-01, 6.15e+01, 3.26e+02, 3.95e+00, 3.98e+00, 2.43e+00],\n",
              "       [2.10e-01, 5.98e+01, 3.26e+02, 3.89e+00, 3.84e+00, 2.31e+00]])"
            ]
          },
          "metadata": {},
          "execution_count": 63
        }
      ]
    },
    {
      "cell_type": "code",
      "metadata": {
        "colab": {
          "base_uri": "https://localhost:8080/"
        },
        "id": "xH0dp583IBbj",
        "outputId": "fdf49a3f-f1ae-47bf-90c5-5cfa75f89335"
      },
      "source": [
        "diamond[-1]"
      ],
      "execution_count": 64,
      "outputs": [
        {
          "output_type": "execute_result",
          "data": {
            "text/plain": [
              "array([7.500e-01, 6.220e+01, 2.757e+03, 5.830e+00, 5.870e+00, 3.640e+00])"
            ]
          },
          "metadata": {},
          "execution_count": 64
        }
      ]
    },
    {
      "cell_type": "code",
      "metadata": {
        "colab": {
          "base_uri": "https://localhost:8080/"
        },
        "id": "A64xPzxqIXqD",
        "outputId": "ce8a5819-6fe3-49f9-f321-ed94763b28de"
      },
      "source": [
        "diamond[0:5]"
      ],
      "execution_count": 65,
      "outputs": [
        {
          "output_type": "execute_result",
          "data": {
            "text/plain": [
              "array([[2.30e-01, 6.15e+01, 3.26e+02, 3.95e+00, 3.98e+00, 2.43e+00],\n",
              "       [2.10e-01, 5.98e+01, 3.26e+02, 3.89e+00, 3.84e+00, 2.31e+00],\n",
              "       [2.30e-01, 5.69e+01, 3.27e+02, 4.05e+00, 4.07e+00, 2.31e+00],\n",
              "       [2.90e-01, 6.24e+01, 3.34e+02, 4.20e+00, 4.23e+00, 2.63e+00],\n",
              "       [3.10e-01, 6.33e+01, 3.35e+02, 4.34e+00, 4.35e+00, 2.75e+00]])"
            ]
          },
          "metadata": {},
          "execution_count": 65
        }
      ]
    },
    {
      "cell_type": "code",
      "metadata": {
        "id": "vUN7cXvKIZmI"
      },
      "source": [
        "#bunlar satirlardi simdi sutunlari alicaz  [9] yazarsam 9. satiri getir  [9,7] 9 ile 7. sutunu kesistir "
      ],
      "execution_count": 66,
      "outputs": []
    },
    {
      "cell_type": "code",
      "metadata": {
        "colab": {
          "base_uri": "https://localhost:8080/"
        },
        "id": "u79olgXZIgpL",
        "outputId": "0914626b-b26e-429c-88d8-71befd7bb7b7"
      },
      "source": [
        "diamond[:,0]"
      ],
      "execution_count": 69,
      "outputs": [
        {
          "output_type": "execute_result",
          "data": {
            "text/plain": [
              "array([0.23, 0.21, 0.23, ..., 0.7 , 0.86, 0.75])"
            ]
          },
          "metadata": {},
          "execution_count": 69
        }
      ]
    },
    {
      "cell_type": "code",
      "metadata": {
        "colab": {
          "base_uri": "https://localhost:8080/"
        },
        "id": "VzLo65f9IjTA",
        "outputId": "fee31ec6-24e6-4aa3-ad20-91661ce3f0fd"
      },
      "source": [
        "diamond[0:2,0:3]"
      ],
      "execution_count": 70,
      "outputs": [
        {
          "output_type": "execute_result",
          "data": {
            "text/plain": [
              "array([[2.30e-01, 6.15e+01, 3.26e+02],\n",
              "       [2.10e-01, 5.98e+01, 3.26e+02]])"
            ]
          },
          "metadata": {},
          "execution_count": 70
        }
      ]
    },
    {
      "cell_type": "code",
      "metadata": {
        "colab": {
          "base_uri": "https://localhost:8080/"
        },
        "id": "wLA88Vh4JJmC",
        "outputId": "70835ca7-b21f-4fe6-cf64-87e14b3481aa"
      },
      "source": [
        "diamond[0:2 , 1]"
      ],
      "execution_count": 71,
      "outputs": [
        {
          "output_type": "execute_result",
          "data": {
            "text/plain": [
              "array([61.5, 59.8])"
            ]
          },
          "metadata": {},
          "execution_count": 71
        }
      ]
    },
    {
      "cell_type": "code",
      "metadata": {
        "colab": {
          "base_uri": "https://localhost:8080/"
        },
        "id": "3yg_I5lzJkeP",
        "outputId": "cf5eedbc-c904-4b66-dab1-a938bd081a68"
      },
      "source": [
        "diamond[0, : : 2]   #0. satirda 0 2 ve 4. sunu aliyorum"
      ],
      "execution_count": 75,
      "outputs": [
        {
          "output_type": "execute_result",
          "data": {
            "text/plain": [
              "array([2.30e-01, 3.26e+02, 3.98e+00])"
            ]
          },
          "metadata": {},
          "execution_count": 75
        }
      ]
    },
    {
      "cell_type": "code",
      "metadata": {
        "colab": {
          "base_uri": "https://localhost:8080/"
        },
        "id": "oMmgRwkiLZu1",
        "outputId": "20ad15be-a50b-4ce1-8d67-8e875513f514"
      },
      "source": [
        "xyz = diamond[:,-3:].reshape(len(diamond),3)\n",
        "xyz"
      ],
      "execution_count": 83,
      "outputs": [
        {
          "output_type": "execute_result",
          "data": {
            "text/plain": [
              "array([[3.95, 3.98, 2.43],\n",
              "       [3.89, 3.84, 2.31],\n",
              "       [4.05, 4.07, 2.31],\n",
              "       ...,\n",
              "       [5.66, 5.68, 3.56],\n",
              "       [6.15, 6.12, 3.74],\n",
              "       [5.83, 5.87, 3.64]])"
            ]
          },
          "metadata": {},
          "execution_count": 83
        }
      ]
    },
    {
      "cell_type": "code",
      "metadata": {
        "colab": {
          "base_uri": "https://localhost:8080/"
        },
        "id": "HmZuzZhUL4Le",
        "outputId": "ca658aff-bed2-4184-be2a-c774330fcf8f"
      },
      "source": [
        "xyz[:,0]"
      ],
      "execution_count": 84,
      "outputs": [
        {
          "output_type": "execute_result",
          "data": {
            "text/plain": [
              "array([3.95, 3.89, 4.05, ..., 5.66, 6.15, 5.83])"
            ]
          },
          "metadata": {},
          "execution_count": 84
        }
      ]
    },
    {
      "cell_type": "code",
      "metadata": {
        "colab": {
          "base_uri": "https://localhost:8080/"
        },
        "id": "mEPWKwn_MfG_",
        "outputId": "608e4b0a-dd89-4004-eea8-907e1a0553ba"
      },
      "source": [
        "volume = xyz[:,0]*xyz[:,1]*xyz[:,2]\n",
        "volume.reshape(len(volume),1)"
      ],
      "execution_count": 86,
      "outputs": [
        {
          "output_type": "execute_result",
          "data": {
            "text/plain": [
              "array([[ 38.20203 ],\n",
              "       [ 34.505856],\n",
              "       [ 38.076885],\n",
              "       ...,\n",
              "       [114.449728],\n",
              "       [140.76612 ],\n",
              "       [124.568444]])"
            ]
          },
          "metadata": {},
          "execution_count": 86
        }
      ]
    },
    {
      "cell_type": "code",
      "metadata": {
        "colab": {
          "base_uri": "https://localhost:8080/"
        },
        "id": "O3m0-PJAMxL7",
        "outputId": "6d1d4745-d549-41de-a7d4-3150cd8f205a"
      },
      "source": [
        "a = np.arange(0,10)\n",
        "a"
      ],
      "execution_count": 87,
      "outputs": [
        {
          "output_type": "execute_result",
          "data": {
            "text/plain": [
              "array([0, 1, 2, 3, 4, 5, 6, 7, 8, 9])"
            ]
          },
          "metadata": {},
          "execution_count": 87
        }
      ]
    },
    {
      "cell_type": "code",
      "metadata": {
        "colab": {
          "base_uri": "https://localhost:8080/"
        },
        "id": "4kGU9XUNR8en",
        "outputId": "b0dd3b48-8b71-4f6d-96f2-75996646ed7a"
      },
      "source": [
        "a[:]"
      ],
      "execution_count": 88,
      "outputs": [
        {
          "output_type": "execute_result",
          "data": {
            "text/plain": [
              "array([0, 1, 2, 3, 4, 5, 6, 7, 8, 9])"
            ]
          },
          "metadata": {},
          "execution_count": 88
        }
      ]
    },
    {
      "cell_type": "code",
      "metadata": {
        "colab": {
          "base_uri": "https://localhost:8080/"
        },
        "id": "xw1xZxmSR91U",
        "outputId": "39c2666d-d7f2-4d41-d79b-99f5a58bb110"
      },
      "source": [
        "a[::2]"
      ],
      "execution_count": 89,
      "outputs": [
        {
          "output_type": "execute_result",
          "data": {
            "text/plain": [
              "array([0, 2, 4, 6, 8])"
            ]
          },
          "metadata": {},
          "execution_count": 89
        }
      ]
    },
    {
      "cell_type": "code",
      "metadata": {
        "colab": {
          "base_uri": "https://localhost:8080/"
        },
        "id": "GsKkR2mRSACm",
        "outputId": "721b10b4-d163-4231-dcdb-e145df97168a"
      },
      "source": [
        "b = np.arange(0,10).reshape(2,5)\n",
        "b"
      ],
      "execution_count": 90,
      "outputs": [
        {
          "output_type": "execute_result",
          "data": {
            "text/plain": [
              "array([[0, 1, 2, 3, 4],\n",
              "       [5, 6, 7, 8, 9]])"
            ]
          },
          "metadata": {},
          "execution_count": 90
        }
      ]
    },
    {
      "cell_type": "code",
      "metadata": {
        "colab": {
          "base_uri": "https://localhost:8080/"
        },
        "id": "OskklAIeSPWv",
        "outputId": "9284e56d-af73-43a6-9d87-904ab38960ce"
      },
      "source": [
        "b[:,:]    #1.si satirlar 2.si sutunlar"
      ],
      "execution_count": 92,
      "outputs": [
        {
          "output_type": "execute_result",
          "data": {
            "text/plain": [
              "array([[0, 1, 2, 3, 4],\n",
              "       [5, 6, 7, 8, 9]])"
            ]
          },
          "metadata": {},
          "execution_count": 92
        }
      ]
    },
    {
      "cell_type": "code",
      "metadata": {
        "colab": {
          "base_uri": "https://localhost:8080/"
        },
        "id": "qnApxfOoSSdN",
        "outputId": "c3f58757-d0b6-41a0-dac6-61d712d01681"
      },
      "source": [
        "b[0][1:4]"
      ],
      "execution_count": 95,
      "outputs": [
        {
          "output_type": "execute_result",
          "data": {
            "text/plain": [
              "array([1, 2, 3])"
            ]
          },
          "metadata": {},
          "execution_count": 95
        }
      ]
    },
    {
      "cell_type": "code",
      "metadata": {
        "id": "q3zsV3qCSau3"
      },
      "source": [
        ""
      ],
      "execution_count": null,
      "outputs": []
    },
    {
      "cell_type": "markdown",
      "metadata": {
        "id": "dKLWEw6oVNqa"
      },
      "source": [
        "## Fancy indexing\n",
        "\n",
        "---\n",
        "\n",
        "\n",
        "\n",
        "---\n"
      ]
    },
    {
      "cell_type": "code",
      "metadata": {
        "colab": {
          "base_uri": "https://localhost:8080/"
        },
        "id": "2_qXM_4WVNWp",
        "outputId": "24dfa977-f06d-4604-851c-e1b1a7b23a2c"
      },
      "source": [
        "fancy = np.random.randint(0,100,10)\n",
        "fancy"
      ],
      "execution_count": 97,
      "outputs": [
        {
          "output_type": "execute_result",
          "data": {
            "text/plain": [
              "array([ 1, 18, 44, 84, 79, 95, 83, 60, 87, 83])"
            ]
          },
          "metadata": {},
          "execution_count": 97
        }
      ]
    },
    {
      "cell_type": "code",
      "metadata": {
        "colab": {
          "base_uri": "https://localhost:8080/"
        },
        "id": "dkFonSaKVTkq",
        "outputId": "f3b8db15-7922-4c9d-c40c-98d98621b27c"
      },
      "source": [
        "fancy[[3,5,1,9]]"
      ],
      "execution_count": 98,
      "outputs": [
        {
          "output_type": "execute_result",
          "data": {
            "text/plain": [
              "array([84, 95, 18, 83])"
            ]
          },
          "metadata": {},
          "execution_count": 98
        }
      ]
    },
    {
      "cell_type": "code",
      "metadata": {
        "colab": {
          "base_uri": "https://localhost:8080/"
        },
        "id": "K61WfjN5VbRX",
        "outputId": "babb3223-c404-4e78-c3e3-7dc20e11caf7"
      },
      "source": [
        "fancy[0] = -5\n",
        "fancy"
      ],
      "execution_count": 99,
      "outputs": [
        {
          "output_type": "execute_result",
          "data": {
            "text/plain": [
              "array([-5, 18, 44, 84, 79, 95, 83, 60, 87, 83])"
            ]
          },
          "metadata": {},
          "execution_count": 99
        }
      ]
    },
    {
      "cell_type": "code",
      "metadata": {
        "colab": {
          "base_uri": "https://localhost:8080/"
        },
        "id": "4pjD6GAWVtZ_",
        "outputId": "af5d958c-c9f1-4e52-fd87-79a7006102e9"
      },
      "source": [
        "f1 = fancy[[3,5,1,9]]\n",
        "f1"
      ],
      "execution_count": 100,
      "outputs": [
        {
          "output_type": "execute_result",
          "data": {
            "text/plain": [
              "array([84, 95, 18, 83])"
            ]
          },
          "metadata": {},
          "execution_count": 100
        }
      ]
    },
    {
      "cell_type": "code",
      "metadata": {
        "colab": {
          "base_uri": "https://localhost:8080/"
        },
        "id": "waDSeDEkVzv0",
        "outputId": "8fa4b0ea-07a4-42b4-89c6-a62fef151e95"
      },
      "source": [
        "f1[0] = -1\n",
        "f1"
      ],
      "execution_count": 102,
      "outputs": [
        {
          "output_type": "execute_result",
          "data": {
            "text/plain": [
              "array([-1, 95, 18, 83])"
            ]
          },
          "metadata": {},
          "execution_count": 102
        }
      ]
    },
    {
      "cell_type": "code",
      "metadata": {
        "colab": {
          "base_uri": "https://localhost:8080/"
        },
        "id": "i8rrMHORV6rf",
        "outputId": "d9a4b233-aeeb-4f4d-c4f9-d53b509ff3ac"
      },
      "source": [
        "fancy2 = fancy\n",
        "fancy2"
      ],
      "execution_count": 103,
      "outputs": [
        {
          "output_type": "execute_result",
          "data": {
            "text/plain": [
              "array([-5, 18, 44, 84, 79, 95, 83, 60, 87, 83])"
            ]
          },
          "metadata": {},
          "execution_count": 103
        }
      ]
    },
    {
      "cell_type": "code",
      "metadata": {
        "colab": {
          "base_uri": "https://localhost:8080/"
        },
        "id": "Q6Ok_9PwWLYv",
        "outputId": "1773e769-3312-4c87-c5d0-4b9390168101"
      },
      "source": [
        "fancy2[1] = 111\n",
        "fancy2"
      ],
      "execution_count": 104,
      "outputs": [
        {
          "output_type": "execute_result",
          "data": {
            "text/plain": [
              "array([ -5, 111,  44,  84,  79,  95,  83,  60,  87,  83])"
            ]
          },
          "metadata": {},
          "execution_count": 104
        }
      ]
    },
    {
      "cell_type": "code",
      "metadata": {
        "colab": {
          "base_uri": "https://localhost:8080/"
        },
        "id": "vTq4F5SWWPNk",
        "outputId": "888bc12d-a4f7-4a85-96e6-6122e75571c2"
      },
      "source": [
        "fancy    #fancynin kendisi de degismis"
      ],
      "execution_count": 105,
      "outputs": [
        {
          "output_type": "execute_result",
          "data": {
            "text/plain": [
              "array([ -5, 111,  44,  84,  79,  95,  83,  60,  87,  83])"
            ]
          },
          "metadata": {},
          "execution_count": 105
        }
      ]
    },
    {
      "cell_type": "code",
      "metadata": {
        "id": "fmrfa7EnWRhq"
      },
      "source": [
        "fancy3 = fancy.copy()"
      ],
      "execution_count": 106,
      "outputs": []
    },
    {
      "cell_type": "code",
      "metadata": {
        "colab": {
          "base_uri": "https://localhost:8080/"
        },
        "id": "9IBAQPm9XiAM",
        "outputId": "52c4234f-8666-4bab-da03-64a08246bb91"
      },
      "source": [
        "fancy3[0]=1111111\n",
        "fancy3"
      ],
      "execution_count": 108,
      "outputs": [
        {
          "output_type": "execute_result",
          "data": {
            "text/plain": [
              "array([1111111,     111,      44,      84,      79,      95,      83,\n",
              "            60,      87,      83])"
            ]
          },
          "metadata": {},
          "execution_count": 108
        }
      ]
    },
    {
      "cell_type": "code",
      "metadata": {
        "colab": {
          "base_uri": "https://localhost:8080/"
        },
        "id": "fep0KWkPXoM1",
        "outputId": "d3b0d757-c08c-4a31-ae18-e4c22896aae1"
      },
      "source": [
        "fancy #degisiklik olmadi cunku copy yaptik"
      ],
      "execution_count": 109,
      "outputs": [
        {
          "output_type": "execute_result",
          "data": {
            "text/plain": [
              "array([ -5, 111,  44,  84,  79,  95,  83,  60,  87,  83])"
            ]
          },
          "metadata": {},
          "execution_count": 109
        }
      ]
    },
    {
      "cell_type": "code",
      "metadata": {
        "id": "QZg4-1wWXqmZ"
      },
      "source": [
        ""
      ],
      "execution_count": null,
      "outputs": []
    }
  ]
}
