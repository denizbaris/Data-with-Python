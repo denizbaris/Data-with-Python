{
  "nbformat": 4,
  "nbformat_minor": 0,
  "metadata": {
    "colab": {
      "name": "DAwPython3.ipynb",
      "provenance": [],
      "authorship_tag": "ABX9TyODmpHK58qPD3Nu4gu9EaKD",
      "include_colab_link": true
    },
    "kernelspec": {
      "name": "python3",
      "display_name": "Python 3"
    },
    "language_info": {
      "name": "python"
    }
  },
  "cells": [
    {
      "cell_type": "markdown",
      "metadata": {
        "id": "view-in-github",
        "colab_type": "text"
      },
      "source": [
        "<a href=\"https://colab.research.google.com/github/denizbaris/Data-with-Python/blob/main/DAwPython3.ipynb\" target=\"_parent\"><img src=\"https://colab.research.google.com/assets/colab-badge.svg\" alt=\"Open In Colab\"/></a>"
      ]
    },
    {
      "cell_type": "markdown",
      "metadata": {
        "id": "ZuxK9pd7Q5KZ"
      },
      "source": [
        "# **NumPy Array Selection**"
      ]
    },
    {
      "cell_type": "code",
      "metadata": {
        "id": "Bkktzdp_PdaR"
      },
      "source": [
        "import numpy as np\n",
        "import pandas as pd\n",
        "import matplotlib.pyplot as plt\n",
        "import seaborn as sns\n",
        "%matplotlib inline"
      ],
      "execution_count": 1,
      "outputs": []
    },
    {
      "cell_type": "code",
      "metadata": {
        "colab": {
          "base_uri": "https://localhost:8080/"
        },
        "id": "xmvZ6cEkQ0Fk",
        "outputId": "4a530e3b-a0fe-455d-c979-df8b5412e94b"
      },
      "source": [
        "age = np.random.randint(25,45,50)\n",
        "age"
      ],
      "execution_count": 3,
      "outputs": [
        {
          "output_type": "execute_result",
          "data": {
            "text/plain": [
              "array([28, 36, 30, 41, 40, 44, 33, 36, 40, 35, 38, 37, 40, 44, 29, 36, 39,\n",
              "       32, 27, 34, 40, 40, 39, 28, 44, 33, 32, 38, 37, 28, 36, 30, 32, 40,\n",
              "       35, 27, 31, 29, 35, 34, 34, 41, 39, 27, 28, 39, 28, 27, 38, 39])"
            ]
          },
          "metadata": {},
          "execution_count": 3
        }
      ]
    },
    {
      "cell_type": "code",
      "metadata": {
        "id": "BWPQTVGhRC8q"
      },
      "source": [
        "age[0:2] = -1\n",
        "age[2:4] = 99"
      ],
      "execution_count": 4,
      "outputs": []
    },
    {
      "cell_type": "code",
      "metadata": {
        "colab": {
          "base_uri": "https://localhost:8080/"
        },
        "id": "njdAmQo3RS_J",
        "outputId": "385a7433-2e06-49ee-97a9-1f115f4bf070"
      },
      "source": [
        "age"
      ],
      "execution_count": 5,
      "outputs": [
        {
          "output_type": "execute_result",
          "data": {
            "text/plain": [
              "array([-1, -1, 99, 99, 40, 44, 33, 36, 40, 35, 38, 37, 40, 44, 29, 36, 39,\n",
              "       32, 27, 34, 40, 40, 39, 28, 44, 33, 32, 38, 37, 28, 36, 30, 32, 40,\n",
              "       35, 27, 31, 29, 35, 34, 34, 41, 39, 27, 28, 39, 28, 27, 38, 39])"
            ]
          },
          "metadata": {},
          "execution_count": 5
        }
      ]
    },
    {
      "cell_type": "code",
      "metadata": {
        "colab": {
          "base_uri": "https://localhost:8080/",
          "height": 265
        },
        "id": "WmGlG7jqRTY8",
        "outputId": "cfabc5f9-c801-4a09-a72d-deccd56d6e22"
      },
      "source": [
        "plt.hist(age, bins = 40)\n",
        "plt.show()"
      ],
      "execution_count": 9,
      "outputs": [
        {
          "output_type": "display_data",
          "data": {
            "image/png": "[encoded data removed]",
            "text/plain": [
              "<Figure size 432x288 with 1 Axes>"
            ]
          },
          "metadata": {
            "needs_background": "light"
          }
        }
      ]
    },
    {
      "cell_type": "code",
      "metadata": {
        "colab": {
          "base_uri": "https://localhost:8080/",
          "height": 265
        },
        "id": "aLtWkWmTRcud",
        "outputId": "a888afe9-0051-46c2-e58d-c2f9f7144718"
      },
      "source": [
        "plt.boxplot(age)       #orange is median, IQR da belli , -1 ve 99 outlier oluyor\n",
        "plt.show()"
      ],
      "execution_count": 11,
      "outputs": [
        {
          "output_type": "display_data",
          "data": {
            "image/png": "[encoded data removed]",
            "text/plain": [
              "<Figure size 432x288 with 1 Axes>"
            ]
          },
          "metadata": {
            "needs_background": "light"
          }
        }
      ]
    },
    {
      "cell_type": "code",
      "metadata": {
        "colab": {
          "base_uri": "https://localhost:8080/"
        },
        "id": "Na7YSU-DRxZw",
        "outputId": "4667dd4d-2ed8-493e-e156-13c235ea4027"
      },
      "source": [
        "age[age<25]"
      ],
      "execution_count": 12,
      "outputs": [
        {
          "output_type": "execute_result",
          "data": {
            "text/plain": [
              "array([-1, -1])"
            ]
          },
          "metadata": {},
          "execution_count": 12
        }
      ]
    },
    {
      "cell_type": "code",
      "metadata": {
        "colab": {
          "base_uri": "https://localhost:8080/"
        },
        "id": "81amIUaZSGVs",
        "outputId": "7da4f44d-8b63-4f00-dd54-d74b6d4222c0"
      },
      "source": [
        "age[age>50]"
      ],
      "execution_count": 13,
      "outputs": [
        {
          "output_type": "execute_result",
          "data": {
            "text/plain": [
              "array([99, 99])"
            ]
          },
          "metadata": {},
          "execution_count": 13
        }
      ]
    },
    {
      "cell_type": "code",
      "metadata": {
        "colab": {
          "base_uri": "https://localhost:8080/"
        },
        "id": "4pKuo1ukSJZT",
        "outputId": "e455e828-8eae-440c-a06b-d56fd11068cd"
      },
      "source": [
        "for i in range(len(age)):\n",
        "  if age[i] < 25:\n",
        "    print(age[i])"
      ],
      "execution_count": 17,
      "outputs": [
        {
          "output_type": "stream",
          "name": "stdout",
          "text": [
            "-1\n",
            "-1\n"
          ]
        }
      ]
    },
    {
      "cell_type": "code",
      "metadata": {
        "colab": {
          "base_uri": "https://localhost:8080/"
        },
        "id": "JDwnSvMqSUAw",
        "outputId": "20c3ee5d-6254-4b8b-eee7-4feac711c44c"
      },
      "source": [
        "age>50   #boolean output"
      ],
      "execution_count": 18,
      "outputs": [
        {
          "output_type": "execute_result",
          "data": {
            "text/plain": [
              "array([False, False,  True,  True, False, False, False, False, False,\n",
              "       False, False, False, False, False, False, False, False, False,\n",
              "       False, False, False, False, False, False, False, False, False,\n",
              "       False, False, False, False, False, False, False, False, False,\n",
              "       False, False, False, False, False, False, False, False, False,\n",
              "       False, False, False, False, False])"
            ]
          },
          "metadata": {},
          "execution_count": 18
        }
      ]
    },
    {
      "cell_type": "code",
      "metadata": {
        "colab": {
          "base_uri": "https://localhost:8080/"
        },
        "id": "uJUf5kfqSgkG",
        "outputId": "4fca59b6-1742-4e63-b5af-1236cefd3b7b"
      },
      "source": [
        "age[ age>50 ] = age.mean()\n",
        "age"
      ],
      "execution_count": 20,
      "outputs": [
        {
          "output_type": "execute_result",
          "data": {
            "text/plain": [
              "array([-1, -1, 36, 36, 40, 44, 33, 36, 40, 35, 38, 37, 40, 44, 29, 36, 39,\n",
              "       32, 27, 34, 40, 40, 39, 28, 44, 33, 32, 38, 37, 28, 36, 30, 32, 40,\n",
              "       35, 27, 31, 29, 35, 34, 34, 41, 39, 27, 28, 39, 28, 27, 38, 39])"
            ]
          },
          "metadata": {},
          "execution_count": 20
        }
      ]
    },
    {
      "cell_type": "code",
      "metadata": {
        "colab": {
          "base_uri": "https://localhost:8080/"
        },
        "id": "2wJ30Z_4TERl",
        "outputId": "faab9a26-4c4c-432b-b258-62e929b33144"
      },
      "source": [
        "age[ age<25 ] = age.mean()\n",
        "age"
      ],
      "execution_count": 21,
      "outputs": [
        {
          "output_type": "execute_result",
          "data": {
            "text/plain": [
              "array([33, 33, 36, 36, 40, 44, 33, 36, 40, 35, 38, 37, 40, 44, 29, 36, 39,\n",
              "       32, 27, 34, 40, 40, 39, 28, 44, 33, 32, 38, 37, 28, 36, 30, 32, 40,\n",
              "       35, 27, 31, 29, 35, 34, 34, 41, 39, 27, 28, 39, 28, 27, 38, 39])"
            ]
          },
          "metadata": {},
          "execution_count": 21
        }
      ]
    },
    {
      "cell_type": "code",
      "metadata": {
        "colab": {
          "base_uri": "https://localhost:8080/"
        },
        "id": "pPX8CpmnTOOY",
        "outputId": "0b48f724-5f80-445d-8e45-cc5b23d6db28"
      },
      "source": [
        "age[ (age<25) | (age>50) ] = age.mean()\n",
        "age"
      ],
      "execution_count": 23,
      "outputs": [
        {
          "output_type": "execute_result",
          "data": {
            "text/plain": [
              "array([33, 33, 36, 36, 40, 44, 33, 36, 40, 35, 38, 37, 40, 44, 29, 36, 39,\n",
              "       32, 27, 34, 40, 40, 39, 28, 44, 33, 32, 38, 37, 28, 36, 30, 32, 40,\n",
              "       35, 27, 31, 29, 35, 34, 34, 41, 39, 27, 28, 39, 28, 27, 38, 39])"
            ]
          },
          "metadata": {},
          "execution_count": 23
        }
      ]
    },
    {
      "cell_type": "code",
      "metadata": {
        "id": "Cd0vZjFYTYoz"
      },
      "source": [
        ""
      ],
      "execution_count": null,
      "outputs": []
    },
    {
      "cell_type": "markdown",
      "metadata": {
        "id": "Gm_BAPwdU0MM"
      },
      "source": [
        "## Sorting"
      ]
    },
    {
      "cell_type": "code",
      "metadata": {
        "id": "GLpARutyU4oI"
      },
      "source": [
        "#normaly we use sorted() on python"
      ],
      "execution_count": 24,
      "outputs": []
    },
    {
      "cell_type": "code",
      "metadata": {
        "colab": {
          "base_uri": "https://localhost:8080/"
        },
        "id": "yw9m9UA1VUhA",
        "outputId": "0658643f-78dc-44fd-c534-7900d51c4e5f"
      },
      "source": [
        "age.sort()  #kucukten buyuge siralandi\n",
        "age"
      ],
      "execution_count": 27,
      "outputs": [
        {
          "output_type": "execute_result",
          "data": {
            "text/plain": [
              "array([27, 27, 27, 27, 28, 28, 28, 28, 29, 29, 30, 31, 32, 32, 32, 33, 33,\n",
              "       33, 33, 34, 34, 34, 35, 35, 35, 36, 36, 36, 36, 36, 37, 37, 38, 38,\n",
              "       38, 39, 39, 39, 39, 39, 40, 40, 40, 40, 40, 40, 41, 44, 44, 44])"
            ]
          },
          "metadata": {},
          "execution_count": 27
        }
      ]
    },
    {
      "cell_type": "code",
      "metadata": {
        "colab": {
          "base_uri": "https://localhost:8080/"
        },
        "id": "5BbK8RNEVa_d",
        "outputId": "4f86816b-a238-4486-db38-6aa9a453f9be"
      },
      "source": [
        "age[::-1]"
      ],
      "execution_count": 29,
      "outputs": [
        {
          "output_type": "execute_result",
          "data": {
            "text/plain": [
              "array([44, 44, 44, 41, 40, 40, 40, 40, 40, 40, 39, 39, 39, 39, 39, 38, 38,\n",
              "       38, 37, 37, 36, 36, 36, 36, 36, 35, 35, 35, 34, 34, 34, 33, 33, 33,\n",
              "       33, 32, 32, 32, 31, 30, 29, 29, 28, 28, 28, 28, 27, 27, 27, 27])"
            ]
          },
          "metadata": {},
          "execution_count": 29
        }
      ]
    },
    {
      "cell_type": "code",
      "metadata": {
        "id": "gwqLOrlcV3KD"
      },
      "source": [
        ""
      ],
      "execution_count": null,
      "outputs": []
    },
    {
      "cell_type": "markdown",
      "metadata": {
        "id": "eG1q8PNDWtFR"
      },
      "source": [
        "## Pandas Overview\n",
        "Pandas'ta 3D yok\n"
      ]
    },
    {
      "cell_type": "code",
      "metadata": {
        "colab": {
          "base_uri": "https://localhost:8080/"
        },
        "id": "eWqdi-23W2kC",
        "outputId": "190c7a84-6d26-4e67-d1d3-d7562de2e572"
      },
      "source": [
        "serr = pd.Series([11,21,31,41,15,61])\n",
        "serr"
      ],
      "execution_count": 41,
      "outputs": [
        {
          "output_type": "execute_result",
          "data": {
            "text/plain": [
              "0    11\n",
              "1    21\n",
              "2    31\n",
              "3    41\n",
              "4    15\n",
              "5    61\n",
              "dtype: int64"
            ]
          },
          "metadata": {},
          "execution_count": 41
        }
      ]
    },
    {
      "cell_type": "code",
      "metadata": {
        "colab": {
          "base_uri": "https://localhost:8080/"
        },
        "id": "HyLXctiNeAY6",
        "outputId": "a23fa404-eda9-4fb5-987d-4bdc0ada3a8c"
      },
      "source": [
        "type(serr)"
      ],
      "execution_count": 33,
      "outputs": [
        {
          "output_type": "execute_result",
          "data": {
            "text/plain": [
              "pandas.core.series.Series"
            ]
          },
          "metadata": {},
          "execution_count": 33
        }
      ]
    },
    {
      "cell_type": "code",
      "metadata": {
        "colab": {
          "base_uri": "https://localhost:8080/"
        },
        "id": "-cbFHRlveOA2",
        "outputId": "929baf73-d308-4934-deb6-e5e98bbf6c22"
      },
      "source": [
        "serr.size"
      ],
      "execution_count": 34,
      "outputs": [
        {
          "output_type": "execute_result",
          "data": {
            "text/plain": [
              "6"
            ]
          },
          "metadata": {},
          "execution_count": 34
        }
      ]
    },
    {
      "cell_type": "code",
      "metadata": {
        "colab": {
          "base_uri": "https://localhost:8080/"
        },
        "id": "sIRTAFtEePne",
        "outputId": "7c497650-60e6-4aca-f168-edb04fa7a204"
      },
      "source": [
        "len(serr)"
      ],
      "execution_count": 35,
      "outputs": [
        {
          "output_type": "execute_result",
          "data": {
            "text/plain": [
              "6"
            ]
          },
          "metadata": {},
          "execution_count": 35
        }
      ]
    },
    {
      "cell_type": "code",
      "metadata": {
        "colab": {
          "base_uri": "https://localhost:8080/"
        },
        "id": "jgfiyFnZeRP-",
        "outputId": "38313054-96d8-4ee0-c00a-a5d4edeeacfc"
      },
      "source": [
        "serr.ndim"
      ],
      "execution_count": 36,
      "outputs": [
        {
          "output_type": "execute_result",
          "data": {
            "text/plain": [
              "1"
            ]
          },
          "metadata": {},
          "execution_count": 36
        }
      ]
    },
    {
      "cell_type": "code",
      "metadata": {
        "colab": {
          "base_uri": "https://localhost:8080/"
        },
        "id": "KrIZ2FxheVxz",
        "outputId": "33f2a7c3-7df0-4aa8-d028-4182121ef8d1"
      },
      "source": [
        "serr.values"
      ],
      "execution_count": 37,
      "outputs": [
        {
          "output_type": "execute_result",
          "data": {
            "text/plain": [
              "array([11, 21, 31, 41, 15, 61])"
            ]
          },
          "metadata": {},
          "execution_count": 37
        }
      ]
    },
    {
      "cell_type": "code",
      "metadata": {
        "colab": {
          "base_uri": "https://localhost:8080/"
        },
        "id": "5girUSbveubF",
        "outputId": "5ed97d5d-348e-4fe6-be25-01055bd09207"
      },
      "source": [
        "[i for i in serr.values]"
      ],
      "execution_count": 38,
      "outputs": [
        {
          "output_type": "execute_result",
          "data": {
            "text/plain": [
              "[11, 21, 31, 41, 15, 61]"
            ]
          },
          "metadata": {},
          "execution_count": 38
        }
      ]
    },
    {
      "cell_type": "code",
      "metadata": {
        "colab": {
          "base_uri": "https://localhost:8080/"
        },
        "id": "lIrBGXs3e_8V",
        "outputId": "ecdc7dda-75b7-4624-911e-ad476aaa278f"
      },
      "source": [
        "serr2 = pd.Series([11,21,31,41,15,61,11,21,31,41,15,61,11,21,31,41,15,61])\n",
        "serr2"
      ],
      "execution_count": 40,
      "outputs": [
        {
          "output_type": "execute_result",
          "data": {
            "text/plain": [
              "0     11\n",
              "1     21\n",
              "2     31\n",
              "3     41\n",
              "4     15\n",
              "5     61\n",
              "6     11\n",
              "7     21\n",
              "8     31\n",
              "9     41\n",
              "10    15\n",
              "11    61\n",
              "12    11\n",
              "13    21\n",
              "14    31\n",
              "15    41\n",
              "16    15\n",
              "17    61\n",
              "dtype: int64"
            ]
          },
          "metadata": {},
          "execution_count": 40
        }
      ]
    },
    {
      "cell_type": "code",
      "metadata": {
        "colab": {
          "base_uri": "https://localhost:8080/"
        },
        "id": "fPlDGEc0fJ-R",
        "outputId": "33ecdbc3-23db-42b3-a574-a471e7c0901a"
      },
      "source": [
        "serr2.head()  #ilk 5 ya da istedigin kadarini getirir"
      ],
      "execution_count": 45,
      "outputs": [
        {
          "output_type": "execute_result",
          "data": {
            "text/plain": [
              "0    11\n",
              "1    21\n",
              "2    31\n",
              "3    41\n",
              "4    15\n",
              "dtype: int64"
            ]
          },
          "metadata": {},
          "execution_count": 45
        }
      ]
    },
    {
      "cell_type": "code",
      "metadata": {
        "colab": {
          "base_uri": "https://localhost:8080/"
        },
        "id": "xTefX0AbfQ4S",
        "outputId": "a367a6f8-a35c-4d8b-aa85-56fdc71bee45"
      },
      "source": [
        "serr2.tail()  # son 5 ini gosterir"
      ],
      "execution_count": 48,
      "outputs": [
        {
          "output_type": "execute_result",
          "data": {
            "text/plain": [
              "13    21\n",
              "14    31\n",
              "15    41\n",
              "16    15\n",
              "17    61\n",
              "dtype: int64"
            ]
          },
          "metadata": {},
          "execution_count": 48
        }
      ]
    },
    {
      "cell_type": "code",
      "metadata": {
        "colab": {
          "base_uri": "https://localhost:8080/"
        },
        "id": "d0L4XYb3fpbg",
        "outputId": "9a5d8d93-4207-4fc4-acf5-cfbc40c0db36"
      },
      "source": [
        "list(\"clarusway\")"
      ],
      "execution_count": 49,
      "outputs": [
        {
          "output_type": "execute_result",
          "data": {
            "text/plain": [
              "['c', 'l', 'a', 'r', 'u', 's', 'w', 'a', 'y']"
            ]
          },
          "metadata": {},
          "execution_count": 49
        }
      ]
    },
    {
      "cell_type": "code",
      "metadata": {
        "colab": {
          "base_uri": "https://localhost:8080/"
        },
        "id": "Xmu_M_82gQvw",
        "outputId": "16176095-610b-484b-e4d0-8e8ed352af38"
      },
      "source": [
        "pd.Series(list(\"clarusway\"))"
      ],
      "execution_count": 50,
      "outputs": [
        {
          "output_type": "execute_result",
          "data": {
            "text/plain": [
              "0    c\n",
              "1    l\n",
              "2    a\n",
              "3    r\n",
              "4    u\n",
              "5    s\n",
              "6    w\n",
              "7    a\n",
              "8    y\n",
              "dtype: object"
            ]
          },
          "metadata": {},
          "execution_count": 50
        }
      ]
    },
    {
      "cell_type": "code",
      "metadata": {
        "colab": {
          "base_uri": "https://localhost:8080/"
        },
        "id": "y4yTAABTgWLm",
        "outputId": "e80a2fb2-a993-40d4-a8f9-1abb3d244601"
      },
      "source": [
        "data = [\"paris\", \"london\", \"ankara\"]\n",
        "index = [\"x\", \"y\", \"z\"]\n",
        "pd.Series(data,index)"
      ],
      "execution_count": 51,
      "outputs": [
        {
          "output_type": "execute_result",
          "data": {
            "text/plain": [
              "x     paris\n",
              "y    london\n",
              "z    ankara\n",
              "dtype: object"
            ]
          },
          "metadata": {},
          "execution_count": 51
        }
      ]
    },
    {
      "cell_type": "code",
      "metadata": {
        "colab": {
          "base_uri": "https://localhost:8080/"
        },
        "id": "b135uzDLguwA",
        "outputId": "53b448c3-39f4-4e4c-b361-dd8f0572c0a0"
      },
      "source": [
        "score = [70,60,90,85,99.5]\n",
        "index = [\"D\",\"E\",\"A\", \"B\", \"C\"]\n",
        "pd.Series(score,index)\n"
      ],
      "execution_count": 52,
      "outputs": [
        {
          "output_type": "execute_result",
          "data": {
            "text/plain": [
              "D    70.0\n",
              "E    60.0\n",
              "A    90.0\n",
              "B    85.0\n",
              "C    99.5\n",
              "dtype: float64"
            ]
          },
          "metadata": {},
          "execution_count": 52
        }
      ]
    },
    {
      "cell_type": "code",
      "metadata": {
        "colab": {
          "base_uri": "https://localhost:8080/"
        },
        "id": "Pz0EVYNKhX3u",
        "outputId": "595b262e-25d7-4739-e1b2-90c5542e2b1d"
      },
      "source": [
        "dic = {\"D\" : 10, \"E\" : 20, \"A\" : -30, \"B\" : 99, \"C\" : 1.1 }  #dictionary de atayabilirsin\n",
        "\n",
        "pd.Series(dic)"
      ],
      "execution_count": 53,
      "outputs": [
        {
          "output_type": "execute_result",
          "data": {
            "text/plain": [
              "D    10.0\n",
              "E    20.0\n",
              "A   -30.0\n",
              "B    99.0\n",
              "C     1.1\n",
              "dtype: float64"
            ]
          },
          "metadata": {},
          "execution_count": 53
        }
      ]
    },
    {
      "cell_type": "code",
      "metadata": {
        "colab": {
          "base_uri": "https://localhost:8080/"
        },
        "id": "WUOY8MZZiAJX",
        "outputId": "28ef0380-7e0a-4699-e1a2-43545216261a"
      },
      "source": [
        "a = set([3,2,3,2,4,35,5,6,3,2])   #kumeler yani setler unique elemanlar kabul ediyor\n",
        "a"
      ],
      "execution_count": 56,
      "outputs": [
        {
          "output_type": "execute_result",
          "data": {
            "text/plain": [
              "{2, 3, 4, 5, 6, 35}"
            ]
          },
          "metadata": {},
          "execution_count": 56
        }
      ]
    },
    {
      "cell_type": "code",
      "metadata": {
        "colab": {
          "base_uri": "https://localhost:8080/"
        },
        "id": "xQ7m_9W0iQBI",
        "outputId": "526bd4fa-8904-47d2-a5bd-6cfb70077c1d"
      },
      "source": [
        "pd.Series(list(a))"
      ],
      "execution_count": 57,
      "outputs": [
        {
          "output_type": "execute_result",
          "data": {
            "text/plain": [
              "0     2\n",
              "1    35\n",
              "2     3\n",
              "3     4\n",
              "4     5\n",
              "5     6\n",
              "dtype: int64"
            ]
          },
          "metadata": {},
          "execution_count": 57
        }
      ]
    },
    {
      "cell_type": "code",
      "metadata": {
        "id": "I8PgWfAgiu27"
      },
      "source": [
        "ser1 = pd.Series([1,2,3,4], index = ['USA', 'Germany','USSR', 'Japan'])\n",
        "ser2 = pd.Series([1,2,5,4], index = ['USA', 'Germany','Italy', 'Japan'])"
      ],
      "execution_count": 58,
      "outputs": []
    },
    {
      "cell_type": "code",
      "metadata": {
        "colab": {
          "base_uri": "https://localhost:8080/"
        },
        "id": "SEzWKVYui8X7",
        "outputId": "32229dd3-470d-4cc8-8f76-ab4a7844197f"
      },
      "source": [
        "ser1"
      ],
      "execution_count": 60,
      "outputs": [
        {
          "output_type": "execute_result",
          "data": {
            "text/plain": [
              "USA        1\n",
              "Germany    2\n",
              "USSR       3\n",
              "Japan      4\n",
              "dtype: int64"
            ]
          },
          "metadata": {},
          "execution_count": 60
        }
      ]
    },
    {
      "cell_type": "code",
      "metadata": {
        "colab": {
          "base_uri": "https://localhost:8080/"
        },
        "id": "_Vz64Pani9xr",
        "outputId": "3eb137f8-1972-4c6d-eb3b-ca6f746d4646"
      },
      "source": [
        "ser1.index"
      ],
      "execution_count": 61,
      "outputs": [
        {
          "output_type": "execute_result",
          "data": {
            "text/plain": [
              "Index(['USA', 'Germany', 'USSR', 'Japan'], dtype='object')"
            ]
          },
          "metadata": {},
          "execution_count": 61
        }
      ]
    },
    {
      "cell_type": "code",
      "metadata": {
        "colab": {
          "base_uri": "https://localhost:8080/"
        },
        "id": "i_rNggtdjCzG",
        "outputId": "0fc984ad-5404-40d6-9d18-f86d3445d58b"
      },
      "source": [
        "ser1.values"
      ],
      "execution_count": 62,
      "outputs": [
        {
          "output_type": "execute_result",
          "data": {
            "text/plain": [
              "array([1, 2, 3, 4])"
            ]
          },
          "metadata": {},
          "execution_count": 62
        }
      ]
    },
    {
      "cell_type": "code",
      "metadata": {
        "colab": {
          "base_uri": "https://localhost:8080/"
        },
        "id": "pzKuF1vHjEbs",
        "outputId": "63d50189-831e-4410-edea-7c767636d28c"
      },
      "source": [
        "ser1.sort_index"
      ],
      "execution_count": 64,
      "outputs": [
        {
          "output_type": "execute_result",
          "data": {
            "text/plain": [
              "<bound method Series.sort_index of USA        1\n",
              "Germany    2\n",
              "USSR       3\n",
              "Japan      4\n",
              "dtype: int64>"
            ]
          },
          "metadata": {},
          "execution_count": 64
        }
      ]
    },
    {
      "cell_type": "code",
      "metadata": {
        "colab": {
          "base_uri": "https://localhost:8080/"
        },
        "id": "YZhhNY7rjH6p",
        "outputId": "c9e89196-a257-4aa5-eb34-2df493816f9a"
      },
      "source": [
        "ser1.sort_values()"
      ],
      "execution_count": 65,
      "outputs": [
        {
          "output_type": "execute_result",
          "data": {
            "text/plain": [
              "USA        1\n",
              "Germany    2\n",
              "USSR       3\n",
              "Japan      4\n",
              "dtype: int64"
            ]
          },
          "metadata": {},
          "execution_count": 65
        }
      ]
    },
    {
      "cell_type": "code",
      "metadata": {
        "colab": {
          "base_uri": "https://localhost:8080/"
        },
        "id": "oaF8g41ajVEh",
        "outputId": "1c84c196-e9c1-4603-8723-274fcfda5a52"
      },
      "source": [
        "ser1.sort_values()"
      ],
      "execution_count": 66,
      "outputs": [
        {
          "output_type": "execute_result",
          "data": {
            "text/plain": [
              "USA        1\n",
              "Germany    2\n",
              "USSR       3\n",
              "Japan      4\n",
              "dtype: int64"
            ]
          },
          "metadata": {},
          "execution_count": 66
        }
      ]
    },
    {
      "cell_type": "code",
      "metadata": {
        "colab": {
          "base_uri": "https://localhost:8080/"
        },
        "id": "f04N9f8FjZAC",
        "outputId": "e33837d9-eeb1-4373-bb6e-66c214ce1af3"
      },
      "source": [
        "ser1[\"Germany\"]  #string olarak giriyoruz"
      ],
      "execution_count": 67,
      "outputs": [
        {
          "output_type": "execute_result",
          "data": {
            "text/plain": [
              "2"
            ]
          },
          "metadata": {},
          "execution_count": 67
        }
      ]
    },
    {
      "cell_type": "code",
      "metadata": {
        "colab": {
          "base_uri": "https://localhost:8080/"
        },
        "id": "ZvTDJ6YJjgRY",
        "outputId": "70ee26f5-6cd2-4d31-a444-0bba3ba597ca"
      },
      "source": [
        "ser1[\"Japan\"]"
      ],
      "execution_count": 68,
      "outputs": [
        {
          "output_type": "execute_result",
          "data": {
            "text/plain": [
              "4"
            ]
          },
          "metadata": {},
          "execution_count": 68
        }
      ]
    },
    {
      "cell_type": "code",
      "metadata": {
        "colab": {
          "base_uri": "https://localhost:8080/"
        },
        "id": "V4B4lnyOjixE",
        "outputId": "4a3d35af-dc59-4014-99e4-cb5cc7a30d40"
      },
      "source": [
        "ser1[[\"Germany\",\"Japan\"]]   #liste icerisinde"
      ],
      "execution_count": 69,
      "outputs": [
        {
          "output_type": "execute_result",
          "data": {
            "text/plain": [
              "Germany    2\n",
              "Japan      4\n",
              "dtype: int64"
            ]
          },
          "metadata": {},
          "execution_count": 69
        }
      ]
    },
    {
      "cell_type": "code",
      "metadata": {
        "colab": {
          "base_uri": "https://localhost:8080/"
        },
        "id": "SKKdy6M4jyoL",
        "outputId": "b0800a96-a58c-4648-c6f2-81a888b1d82c"
      },
      "source": [
        "ser1.Japan"
      ],
      "execution_count": 70,
      "outputs": [
        {
          "output_type": "execute_result",
          "data": {
            "text/plain": [
              "4"
            ]
          },
          "metadata": {},
          "execution_count": 70
        }
      ]
    },
    {
      "cell_type": "code",
      "metadata": {
        "colab": {
          "base_uri": "https://localhost:8080/"
        },
        "id": "gt2xcXwOj6gT",
        "outputId": "85f7efee-d158-4e45-d759-1dadc966eb8c"
      },
      "source": [
        "ser1 + ser2"
      ],
      "execution_count": 71,
      "outputs": [
        {
          "output_type": "execute_result",
          "data": {
            "text/plain": [
              "Germany    4.0\n",
              "Italy      NaN\n",
              "Japan      8.0\n",
              "USA        2.0\n",
              "USSR       NaN\n",
              "dtype: float64"
            ]
          },
          "metadata": {},
          "execution_count": 71
        }
      ]
    },
    {
      "cell_type": "code",
      "metadata": {
        "colab": {
          "base_uri": "https://localhost:8080/"
        },
        "id": "9bYAwR03kXi7",
        "outputId": "e1c85106-886f-4ca8-8edd-684ea34abbfa"
      },
      "source": [
        "panser = pd.Series(data   = [121, 200, 150, 99, 145, 120, 180],\n",
        "index = [\"terry\", \"micheal\", \"orion\", \"jason\",\"adam\", \"thomas\", \"zack\"])\n",
        "panser"
      ],
      "execution_count": 72,
      "outputs": [
        {
          "output_type": "execute_result",
          "data": {
            "text/plain": [
              "terry      121\n",
              "micheal    200\n",
              "orion      150\n",
              "jason       99\n",
              "adam       145\n",
              "thomas     120\n",
              "zack       180\n",
              "dtype: int64"
            ]
          },
          "metadata": {},
          "execution_count": 72
        }
      ]
    },
    {
      "cell_type": "code",
      "metadata": {
        "colab": {
          "base_uri": "https://localhost:8080/"
        },
        "id": "z83FAaurtF5-",
        "outputId": "37591983-91a0-44a1-e099-a816e31b63fc"
      },
      "source": [
        "panser.jason"
      ],
      "execution_count": 73,
      "outputs": [
        {
          "output_type": "execute_result",
          "data": {
            "text/plain": [
              "99"
            ]
          },
          "metadata": {},
          "execution_count": 73
        }
      ]
    },
    {
      "cell_type": "code",
      "metadata": {
        "colab": {
          "base_uri": "https://localhost:8080/"
        },
        "id": "IQtSHdHOtLYd",
        "outputId": "f891b399-8524-4968-fc8b-01594ae14d43"
      },
      "source": [
        "panser[\"orion\"]"
      ],
      "execution_count": 74,
      "outputs": [
        {
          "output_type": "execute_result",
          "data": {
            "text/plain": [
              "150"
            ]
          },
          "metadata": {},
          "execution_count": 74
        }
      ]
    },
    {
      "cell_type": "code",
      "metadata": {
        "colab": {
          "base_uri": "https://localhost:8080/"
        },
        "id": "VMAEWdPptQz-",
        "outputId": "82bc8e2b-8ab4-4752-ac64-494913341004"
      },
      "source": [
        "panser[[\"orion\",\"adam\"]]"
      ],
      "execution_count": 75,
      "outputs": [
        {
          "output_type": "execute_result",
          "data": {
            "text/plain": [
              "orion    150\n",
              "adam     145\n",
              "dtype: int64"
            ]
          },
          "metadata": {},
          "execution_count": 75
        }
      ]
    },
    {
      "cell_type": "code",
      "metadata": {
        "colab": {
          "base_uri": "https://localhost:8080/"
        },
        "id": "fnrv-Ib0tdYJ",
        "outputId": "40aac4c7-7aaf-4b3b-bb7c-cfe5889e3635"
      },
      "source": [
        "panser[\"orion\":\"adam\"] #adam dahil cunku string "
      ],
      "execution_count": 78,
      "outputs": [
        {
          "output_type": "execute_result",
          "data": {
            "text/plain": [
              "orion    150\n",
              "jason     99\n",
              "adam     145\n",
              "dtype: int64"
            ]
          },
          "metadata": {},
          "execution_count": 78
        }
      ]
    },
    {
      "cell_type": "code",
      "metadata": {
        "colab": {
          "base_uri": "https://localhost:8080/"
        },
        "id": "Vf3SyQgPtlk_",
        "outputId": "d318566b-ac6f-4e93-e0a7-e2751347a8cd"
      },
      "source": [
        "panser[2:5]    #ama simdi 5. olani almadi"
      ],
      "execution_count": 79,
      "outputs": [
        {
          "output_type": "execute_result",
          "data": {
            "text/plain": [
              "orion    150\n",
              "jason     99\n",
              "adam     145\n",
              "dtype: int64"
            ]
          },
          "metadata": {},
          "execution_count": 79
        }
      ]
    },
    {
      "cell_type": "code",
      "metadata": {
        "colab": {
          "base_uri": "https://localhost:8080/"
        },
        "id": "_v_NNWkTtyvf",
        "outputId": "508eb12a-90a7-4ecc-dd4f-693a5e3c1fa2"
      },
      "source": [
        "panser.keys()"
      ],
      "execution_count": 80,
      "outputs": [
        {
          "output_type": "execute_result",
          "data": {
            "text/plain": [
              "Index(['terry', 'micheal', 'orion', 'jason', 'adam', 'thomas', 'zack'], dtype='object')"
            ]
          },
          "metadata": {},
          "execution_count": 80
        }
      ]
    },
    {
      "cell_type": "code",
      "metadata": {
        "colab": {
          "base_uri": "https://localhost:8080/"
        },
        "id": "VSLRuaKMuHnF",
        "outputId": "081a5d4f-40dc-48a4-f968-f8563edae87e"
      },
      "source": [
        "panser.index"
      ],
      "execution_count": 82,
      "outputs": [
        {
          "output_type": "execute_result",
          "data": {
            "text/plain": [
              "Index(['terry', 'micheal', 'orion', 'jason', 'adam', 'thomas', 'zack'], dtype='object')"
            ]
          },
          "metadata": {},
          "execution_count": 82
        }
      ]
    },
    {
      "cell_type": "code",
      "metadata": {
        "colab": {
          "base_uri": "https://localhost:8080/"
        },
        "id": "voUpU0ZpuKuT",
        "outputId": "f8b61e0d-8ac3-410a-9767-7c9420f61e1a"
      },
      "source": [
        "panser.values"
      ],
      "execution_count": 83,
      "outputs": [
        {
          "output_type": "execute_result",
          "data": {
            "text/plain": [
              "array([121, 200, 150,  99, 145, 120, 180])"
            ]
          },
          "metadata": {},
          "execution_count": 83
        }
      ]
    },
    {
      "cell_type": "code",
      "metadata": {
        "colab": {
          "base_uri": "https://localhost:8080/"
        },
        "id": "qsA7Z7mFuNXr",
        "outputId": "d458d57b-f5ac-4e9b-cd29-c0ba8a81ddd1"
      },
      "source": [
        "panser.items() #"
      ],
      "execution_count": 86,
      "outputs": [
        {
          "output_type": "execute_result",
          "data": {
            "text/plain": [
              "<zip at 0x7f1d142205a0>"
            ]
          },
          "metadata": {},
          "execution_count": 86
        }
      ]
    },
    {
      "cell_type": "code",
      "metadata": {
        "colab": {
          "base_uri": "https://localhost:8080/"
        },
        "id": "aWWjn3dXuoVR",
        "outputId": "f8d37995-c3b8-4f57-ca57-1477deb49d6e"
      },
      "source": [
        "list(panser.items())"
      ],
      "execution_count": 87,
      "outputs": [
        {
          "output_type": "execute_result",
          "data": {
            "text/plain": [
              "[('terry', 121),\n",
              " ('micheal', 200),\n",
              " ('orion', 150),\n",
              " ('jason', 99),\n",
              " ('adam', 145),\n",
              " ('thomas', 120),\n",
              " ('zack', 180)]"
            ]
          },
          "metadata": {},
          "execution_count": 87
        }
      ]
    },
    {
      "cell_type": "code",
      "metadata": {
        "colab": {
          "base_uri": "https://localhost:8080/"
        },
        "id": "RZSfcZvmvpa2",
        "outputId": "5f4490d7-b380-4d90-d030-175051a8ef15"
      },
      "source": [
        "for key, value in panser.items():\n",
        "  print(\"key: \",key, \"\\t value:\",value)"
      ],
      "execution_count": 89,
      "outputs": [
        {
          "output_type": "stream",
          "name": "stdout",
          "text": [
            "key:  terry \t value: 121\n",
            "key:  micheal \t value: 200\n",
            "key:  orion \t value: 150\n",
            "key:  jason \t value: 99\n",
            "key:  adam \t value: 145\n",
            "key:  thomas \t value: 120\n",
            "key:  zack \t value: 180\n"
          ]
        }
      ]
    },
    {
      "cell_type": "code",
      "metadata": {
        "colab": {
          "base_uri": "https://localhost:8080/"
        },
        "id": "gsMqYfMawDwk",
        "outputId": "51bcf93e-c205-409d-e3f4-b826345c3dac"
      },
      "source": [
        "\"adam\" in panser"
      ],
      "execution_count": 90,
      "outputs": [
        {
          "output_type": "execute_result",
          "data": {
            "text/plain": [
              "True"
            ]
          },
          "metadata": {},
          "execution_count": 90
        }
      ]
    },
    {
      "cell_type": "code",
      "metadata": {
        "colab": {
          "base_uri": "https://localhost:8080/"
        },
        "id": "LnOgYt5BwOjU",
        "outputId": "970754e9-2366-4945-e56c-09a2f1e1a344"
      },
      "source": [
        "panser.isin([121,99])"
      ],
      "execution_count": 93,
      "outputs": [
        {
          "output_type": "execute_result",
          "data": {
            "text/plain": [
              "terry       True\n",
              "micheal    False\n",
              "orion      False\n",
              "jason       True\n",
              "adam       False\n",
              "thomas     False\n",
              "zack       False\n",
              "dtype: bool"
            ]
          },
          "metadata": {},
          "execution_count": 93
        }
      ]
    },
    {
      "cell_type": "code",
      "metadata": {
        "colab": {
          "base_uri": "https://localhost:8080/"
        },
        "id": "OPkBuMbuwi1i",
        "outputId": "18620a63-7cbc-4245-ea8b-50d6d2a931d4"
      },
      "source": [
        "panser.jason = 190\n",
        "panser"
      ],
      "execution_count": 94,
      "outputs": [
        {
          "output_type": "execute_result",
          "data": {
            "text/plain": [
              "terry      121\n",
              "micheal    200\n",
              "orion      150\n",
              "jason      190\n",
              "adam       145\n",
              "thomas     120\n",
              "zack       180\n",
              "dtype: int64"
            ]
          },
          "metadata": {},
          "execution_count": 94
        }
      ]
    },
    {
      "cell_type": "code",
      "metadata": {
        "colab": {
          "base_uri": "https://localhost:8080/"
        },
        "id": "0cqq9XySwvPq",
        "outputId": "531fe443-f100-4194-f3b2-94890ade8366"
      },
      "source": [
        "panser >= 180"
      ],
      "execution_count": 95,
      "outputs": [
        {
          "output_type": "execute_result",
          "data": {
            "text/plain": [
              "terry      False\n",
              "micheal     True\n",
              "orion      False\n",
              "jason       True\n",
              "adam       False\n",
              "thomas     False\n",
              "zack        True\n",
              "dtype: bool"
            ]
          },
          "metadata": {},
          "execution_count": 95
        }
      ]
    },
    {
      "cell_type": "code",
      "metadata": {
        "id": "wjMmEi_Xw2FC"
      },
      "source": [
        ""
      ],
      "execution_count": null,
      "outputs": []
    }
  ]
}