{
  "nbformat": 4,
  "nbformat_minor": 0,
  "metadata": {
    "colab": {
      "name": "Time Sensitive Real Interview Questions.ipynb",
      "provenance": [],
      "authorship_tag": "ABX9TyOGKQy0RfsTYUlvp9aWFXEr",
      "include_colab_link": true
    },
    "kernelspec": {
      "name": "python3",
      "display_name": "Python 3"
    },
    "language_info": {
      "name": "python"
    }
  },
  "cells": [
    {
      "cell_type": "markdown",
      "metadata": {
        "id": "view-in-github",
        "colab_type": "text"
      },
      "source": [
        "<a href=\"https://colab.research.google.com/github/denizbaris/Data-with-Python/blob/main/Time_Sensitive_Real_Interview_Questions.ipynb\" target=\"_parent\"><img src=\"https://colab.research.google.com/assets/colab-badge.svg\" alt=\"Open In Colab\"/></a>"
      ]
    },
    {
      "cell_type": "code",
      "metadata": {
        "id": "ZNjP9kGX5G-L"
      },
      "source": [
        "\n",
        "import numpy as np \n",
        "import pandas as pd\n",
        "import seaborn as sns\n",
        "import matplotlib.pyplot as plt\n",
        "from collections import Counter\n",
        "import warnings\n",
        "warnings.filterwarnings('ignore')"
      ],
      "execution_count": 1,
      "outputs": []
    },
    {
      "cell_type": "code",
      "metadata": {
        "id": "Lx5WslQH5eWN"
      },
      "source": [
        "df = pd.read_csv('sales_082020.csv')"
      ],
      "execution_count": 4,
      "outputs": []
    },
    {
      "cell_type": "code",
      "metadata": {
        "colab": {
          "base_uri": "https://localhost:8080/",
          "height": 203
        },
        "id": "reWeGlwj5s32",
        "outputId": "7b44a247-5a64-4cbf-caa4-cf42b4a07f33"
      },
      "source": [
        "df.head()"
      ],
      "execution_count": 5,
      "outputs": [
        {
          "output_type": "execute_result",
          "data": {
            "text/html": [
              "<div>\n",
              "<style scoped>\n",
              "    .dataframe tbody tr th:only-of-type {\n",
              "        vertical-align: middle;\n",
              "    }\n",
              "\n",
              "    .dataframe tbody tr th {\n",
              "        vertical-align: top;\n",
              "    }\n",
              "\n",
              "    .dataframe thead th {\n",
              "        text-align: right;\n",
              "    }\n",
              "</style>\n",
              "<table border=\"1\" class=\"dataframe\">\n",
              "  <thead>\n",
              "    <tr style=\"text-align: right;\">\n",
              "      <th></th>\n",
              "      <th>buyer_id</th>\n",
              "      <th>buyer_country</th>\n",
              "      <th>seller_id</th>\n",
              "      <th>seller_country</th>\n",
              "      <th>product_code</th>\n",
              "      <th>category</th>\n",
              "      <th>brand</th>\n",
              "      <th>currency</th>\n",
              "      <th>price</th>\n",
              "      <th>date</th>\n",
              "    </tr>\n",
              "  </thead>\n",
              "  <tbody>\n",
              "    <tr>\n",
              "      <th>0</th>\n",
              "      <td>qzpjsi9t0o</td>\n",
              "      <td>GB</td>\n",
              "      <td>6oufpaot</td>\n",
              "      <td>GB</td>\n",
              "      <td>ydecnydr6obf</td>\n",
              "      <td>Dresses</td>\n",
              "      <td>NaN</td>\n",
              "      <td>GBP</td>\n",
              "      <td>19.11</td>\n",
              "      <td>2020-08-03</td>\n",
              "    </tr>\n",
              "    <tr>\n",
              "      <th>1</th>\n",
              "      <td>o79pns1qwo</td>\n",
              "      <td>GB</td>\n",
              "      <td>50xki2yg</td>\n",
              "      <td>GB</td>\n",
              "      <td>38chj507o6h2</td>\n",
              "      <td>Outerwear</td>\n",
              "      <td>Adidas Originals</td>\n",
              "      <td>GBP</td>\n",
              "      <td>15.92</td>\n",
              "      <td>2020-08-09</td>\n",
              "    </tr>\n",
              "    <tr>\n",
              "      <th>2</th>\n",
              "      <td>sjgbjdkhqx</td>\n",
              "      <td>GB</td>\n",
              "      <td>50xki2yg</td>\n",
              "      <td>GB</td>\n",
              "      <td>i9ynyxj5tdp8</td>\n",
              "      <td>Tops - Mens</td>\n",
              "      <td>NaN</td>\n",
              "      <td>GBP</td>\n",
              "      <td>6.37</td>\n",
              "      <td>2020-08-07</td>\n",
              "    </tr>\n",
              "    <tr>\n",
              "      <th>3</th>\n",
              "      <td>o79pns1qwo</td>\n",
              "      <td>GB</td>\n",
              "      <td>s0p322hh</td>\n",
              "      <td>GB</td>\n",
              "      <td>t50xe7moye8v</td>\n",
              "      <td>Tops - Mens</td>\n",
              "      <td>Berghaus</td>\n",
              "      <td>GBP</td>\n",
              "      <td>25.27</td>\n",
              "      <td>2020-08-09</td>\n",
              "    </tr>\n",
              "    <tr>\n",
              "      <th>4</th>\n",
              "      <td>o79pns1qwo</td>\n",
              "      <td>GB</td>\n",
              "      <td>dpkx192v</td>\n",
              "      <td>GB</td>\n",
              "      <td>hp4r9bjq68af</td>\n",
              "      <td>Bottoms - Womens</td>\n",
              "      <td>NaN</td>\n",
              "      <td>GBP</td>\n",
              "      <td>8.90</td>\n",
              "      <td>2020-08-09</td>\n",
              "    </tr>\n",
              "  </tbody>\n",
              "</table>\n",
              "</div>"
            ],
            "text/plain": [
              "     buyer_id buyer_country seller_id  ... currency  price        date\n",
              "0  qzpjsi9t0o            GB  6oufpaot  ...      GBP  19.11  2020-08-03\n",
              "1  o79pns1qwo            GB  50xki2yg  ...      GBP  15.92  2020-08-09\n",
              "2  sjgbjdkhqx            GB  50xki2yg  ...      GBP   6.37  2020-08-07\n",
              "3  o79pns1qwo            GB  s0p322hh  ...      GBP  25.27  2020-08-09\n",
              "4  o79pns1qwo            GB  dpkx192v  ...      GBP   8.90  2020-08-09\n",
              "\n",
              "[5 rows x 10 columns]"
            ]
          },
          "metadata": {},
          "execution_count": 5
        }
      ]
    },
    {
      "cell_type": "code",
      "metadata": {
        "colab": {
          "base_uri": "https://localhost:8080/"
        },
        "id": "yQIeEDW96E4y",
        "outputId": "fddea002-8bd4-4b90-ac90-eb9b8a97805e"
      },
      "source": [
        "df.info"
      ],
      "execution_count": 6,
      "outputs": [
        {
          "output_type": "execute_result",
          "data": {
            "text/plain": [
              "<bound method DataFrame.info of           buyer_id buyer_country seller_id  ... currency   price        date\n",
              "0       qzpjsi9t0o            GB  6oufpaot  ...      GBP   19.11  2020-08-03\n",
              "1       o79pns1qwo            GB  50xki2yg  ...      GBP   15.92  2020-08-09\n",
              "2       sjgbjdkhqx            GB  50xki2yg  ...      GBP    6.37  2020-08-07\n",
              "3       o79pns1qwo            GB  s0p322hh  ...      GBP   25.27  2020-08-09\n",
              "4       o79pns1qwo            GB  dpkx192v  ...      GBP    8.90  2020-08-09\n",
              "...            ...           ...       ...  ...      ...     ...         ...\n",
              "237666  p7ibf7soot            GB  ss7jy9ks  ...      GBP   17.11  2020-08-06\n",
              "237667  2hg8zirueq            US  bk6apusi  ...      USD   69.00  2020-08-05\n",
              "237668  k5hmcfxcs6            GB  n2ez0xph  ...      GBP   58.28  2020-08-05\n",
              "237669  ca8nc8qv1x            GB  j1s4nqxb  ...      GBP    9.46  2020-08-05\n",
              "237670  z09h7w9zcd            US  0au7baxi  ...      USD  160.76  2020-08-06\n",
              "\n",
              "[237671 rows x 10 columns]>"
            ]
          },
          "metadata": {},
          "execution_count": 6
        }
      ]
    },
    {
      "cell_type": "code",
      "metadata": {
        "colab": {
          "base_uri": "https://localhost:8080/"
        },
        "id": "L8QnqODw6IgG",
        "outputId": "524354f7-fea3-47ca-c909-a0e85e49a66a"
      },
      "source": [
        "df.seller_id.value_counts()"
      ],
      "execution_count": 21,
      "outputs": [
        {
          "output_type": "execute_result",
          "data": {
            "text/plain": [
              "pzsiehl0    703\n",
              "wd3rgi3q    525\n",
              "j21w87xy    500\n",
              "dbm0o9qu    436\n",
              "hbtm3tdy    316\n",
              "           ... \n",
              "r09vmnie      1\n",
              "k5cccslx      1\n",
              "hefbn0hq      1\n",
              "rs54sv1r      1\n",
              "n4ekjzf4      1\n",
              "Name: seller_id, Length: 114227, dtype: int64"
            ]
          },
          "metadata": {},
          "execution_count": 21
        }
      ]
    },
    {
      "cell_type": "code",
      "metadata": {
        "colab": {
          "base_uri": "https://localhost:8080/"
        },
        "id": "U1fDxoVh6Vju",
        "outputId": "e86c9f0d-6f17-4c78-94ab-fdf31e25fa4b"
      },
      "source": [
        "df.currency.value_counts()"
      ],
      "execution_count": 28,
      "outputs": [
        {
          "output_type": "execute_result",
          "data": {
            "text/plain": [
              "GBP    139478\n",
              "USD     82558\n",
              "AUD      7580\n",
              "EUR      5934\n",
              "CAD      1651\n",
              "NZD       306\n",
              "CHF        95\n",
              "SEK        25\n",
              "DKK        16\n",
              "JPY         6\n",
              "PLN         5\n",
              "SGD         5\n",
              "NOK         2\n",
              "MXN         2\n",
              "ILS         1\n",
              "TWD         1\n",
              "CZK         1\n",
              "BRL         1\n",
              "THB         1\n",
              "HUF         1\n",
              "HKD         1\n",
              "MYR         1\n",
              "Name: currency, dtype: int64"
            ]
          },
          "metadata": {},
          "execution_count": 28
        }
      ]
    },
    {
      "cell_type": "code",
      "metadata": {
        "colab": {
          "base_uri": "https://localhost:8080/"
        },
        "id": "vPnJTy7A7ISO",
        "outputId": "9ecdfb12-5565-4fc9-9f37-5e0c0bcb7aef"
      },
      "source": [
        "df.groupby('currency')['price']"
      ],
      "execution_count": 56,
      "outputs": [
        {
          "output_type": "execute_result",
          "data": {
            "text/plain": [
              "<pandas.core.groupby.generic.SeriesGroupBy object at 0x7f43d13fe390>"
            ]
          },
          "metadata": {},
          "execution_count": 56
        }
      ]
    },
    {
      "cell_type": "code",
      "metadata": {
        "colab": {
          "base_uri": "https://localhost:8080/"
        },
        "id": "kzctTInk8hd5",
        "outputId": "f4c4884d-fdd7-4b44-b697-590b31df7966"
      },
      "source": [
        "df.isnull().sum()"
      ],
      "execution_count": 30,
      "outputs": [
        {
          "output_type": "execute_result",
          "data": {
            "text/plain": [
              "buyer_id               0\n",
              "buyer_country          0\n",
              "seller_id              0\n",
              "seller_country         0\n",
              "product_code           0\n",
              "category              16\n",
              "brand             118341\n",
              "currency               0\n",
              "price                  0\n",
              "date                   0\n",
              "dtype: int64"
            ]
          },
          "metadata": {},
          "execution_count": 30
        }
      ]
    },
    {
      "cell_type": "code",
      "metadata": {
        "colab": {
          "base_uri": "https://localhost:8080/"
        },
        "id": "3IdU02VD8zmx",
        "outputId": "4af52c24-551e-49f2-cf85-3fec59f81594"
      },
      "source": [
        "df.columns"
      ],
      "execution_count": 31,
      "outputs": [
        {
          "output_type": "execute_result",
          "data": {
            "text/plain": [
              "Index(['buyer_id', 'buyer_country', 'seller_id', 'seller_country',\n",
              "       'product_code', 'category', 'brand', 'currency', 'price', 'date'],\n",
              "      dtype='object')"
            ]
          },
          "metadata": {},
          "execution_count": 31
        }
      ]
    },
    {
      "cell_type": "code",
      "metadata": {
        "colab": {
          "base_uri": "https://localhost:8080/"
        },
        "id": "hPDg4t1T83Ct",
        "outputId": "fee4acdf-72d4-4269-f825-a5a53cb2d5c0"
      },
      "source": [
        "df['currency'].value_counts()"
      ],
      "execution_count": 32,
      "outputs": [
        {
          "output_type": "execute_result",
          "data": {
            "text/plain": [
              "GBP    139478\n",
              "USD     82558\n",
              "AUD      7580\n",
              "EUR      5934\n",
              "CAD      1651\n",
              "NZD       306\n",
              "CHF        95\n",
              "SEK        25\n",
              "DKK        16\n",
              "JPY         6\n",
              "PLN         5\n",
              "SGD         5\n",
              "NOK         2\n",
              "MXN         2\n",
              "ILS         1\n",
              "TWD         1\n",
              "CZK         1\n",
              "BRL         1\n",
              "THB         1\n",
              "HUF         1\n",
              "HKD         1\n",
              "MYR         1\n",
              "Name: currency, dtype: int64"
            ]
          },
          "metadata": {},
          "execution_count": 32
        }
      ]
    },
    {
      "cell_type": "code",
      "metadata": {
        "colab": {
          "base_uri": "https://localhost:8080/"
        },
        "id": "KtnOWzsk87li",
        "outputId": "30e37cf2-70c5-4d9d-c40f-c7525b3e704f"
      },
      "source": [
        "df[df.currency == 'EUR'].count()"
      ],
      "execution_count": 43,
      "outputs": [
        {
          "output_type": "execute_result",
          "data": {
            "text/plain": [
              "buyer_id          5934\n",
              "buyer_country     5934\n",
              "seller_id         5934\n",
              "seller_country    5934\n",
              "product_code      5934\n",
              "category          5933\n",
              "brand               43\n",
              "currency          5934\n",
              "price             5934\n",
              "date              5934\n",
              "dtype: int64"
            ]
          },
          "metadata": {},
          "execution_count": 43
        }
      ]
    },
    {
      "cell_type": "code",
      "metadata": {
        "colab": {
          "base_uri": "https://localhost:8080/"
        },
        "id": "nXd4rIN09RhX",
        "outputId": "f01d658c-2f04-4fb6-86ce-b9e715c33309"
      },
      "source": [
        "df.price.value_counts()"
      ],
      "execution_count": 45,
      "outputs": [
        {
          "output_type": "execute_result",
          "data": {
            "text/plain": [
              "1.09      296\n",
              "1.10      295\n",
              "1.13      290\n",
              "1.07      287\n",
              "1.06      282\n",
              "         ... \n",
              "267.21      1\n",
              "305.51      1\n",
              "104.56      1\n",
              "160.59      1\n",
              "120.67      1\n",
              "Name: price, Length: 15336, dtype: int64"
            ]
          },
          "metadata": {},
          "execution_count": 45
        }
      ]
    },
    {
      "cell_type": "code",
      "metadata": {
        "colab": {
          "base_uri": "https://localhost:8080/",
          "height": 417
        },
        "id": "hGmykrCs-ApG",
        "outputId": "6e4af2e5-3ec4-4876-973a-a7147df44867"
      },
      "source": [
        "df[['price','currency']]"
      ],
      "execution_count": 53,
      "outputs": [
        {
          "output_type": "execute_result",
          "data": {
            "text/html": [
              "<div>\n",
              "<style scoped>\n",
              "    .dataframe tbody tr th:only-of-type {\n",
              "        vertical-align: middle;\n",
              "    }\n",
              "\n",
              "    .dataframe tbody tr th {\n",
              "        vertical-align: top;\n",
              "    }\n",
              "\n",
              "    .dataframe thead th {\n",
              "        text-align: right;\n",
              "    }\n",
              "</style>\n",
              "<table border=\"1\" class=\"dataframe\">\n",
              "  <thead>\n",
              "    <tr style=\"text-align: right;\">\n",
              "      <th></th>\n",
              "      <th>price</th>\n",
              "      <th>currency</th>\n",
              "    </tr>\n",
              "  </thead>\n",
              "  <tbody>\n",
              "    <tr>\n",
              "      <th>0</th>\n",
              "      <td>19.11</td>\n",
              "      <td>GBP</td>\n",
              "    </tr>\n",
              "    <tr>\n",
              "      <th>1</th>\n",
              "      <td>15.92</td>\n",
              "      <td>GBP</td>\n",
              "    </tr>\n",
              "    <tr>\n",
              "      <th>2</th>\n",
              "      <td>6.37</td>\n",
              "      <td>GBP</td>\n",
              "    </tr>\n",
              "    <tr>\n",
              "      <th>3</th>\n",
              "      <td>25.27</td>\n",
              "      <td>GBP</td>\n",
              "    </tr>\n",
              "    <tr>\n",
              "      <th>4</th>\n",
              "      <td>8.90</td>\n",
              "      <td>GBP</td>\n",
              "    </tr>\n",
              "    <tr>\n",
              "      <th>...</th>\n",
              "      <td>...</td>\n",
              "      <td>...</td>\n",
              "    </tr>\n",
              "    <tr>\n",
              "      <th>237666</th>\n",
              "      <td>17.11</td>\n",
              "      <td>GBP</td>\n",
              "    </tr>\n",
              "    <tr>\n",
              "      <th>237667</th>\n",
              "      <td>69.00</td>\n",
              "      <td>USD</td>\n",
              "    </tr>\n",
              "    <tr>\n",
              "      <th>237668</th>\n",
              "      <td>58.28</td>\n",
              "      <td>GBP</td>\n",
              "    </tr>\n",
              "    <tr>\n",
              "      <th>237669</th>\n",
              "      <td>9.46</td>\n",
              "      <td>GBP</td>\n",
              "    </tr>\n",
              "    <tr>\n",
              "      <th>237670</th>\n",
              "      <td>160.76</td>\n",
              "      <td>USD</td>\n",
              "    </tr>\n",
              "  </tbody>\n",
              "</table>\n",
              "<p>237671 rows × 2 columns</p>\n",
              "</div>"
            ],
            "text/plain": [
              "         price currency\n",
              "0        19.11      GBP\n",
              "1        15.92      GBP\n",
              "2         6.37      GBP\n",
              "3        25.27      GBP\n",
              "4         8.90      GBP\n",
              "...        ...      ...\n",
              "237666   17.11      GBP\n",
              "237667   69.00      USD\n",
              "237668   58.28      GBP\n",
              "237669    9.46      GBP\n",
              "237670  160.76      USD\n",
              "\n",
              "[237671 rows x 2 columns]"
            ]
          },
          "metadata": {},
          "execution_count": 53
        }
      ]
    },
    {
      "cell_type": "code",
      "metadata": {
        "id": "IVsj1P4S-2dE"
      },
      "source": [
        "eur = df.loc[df[\"currency\"] == \"EUR\"]"
      ],
      "execution_count": 57,
      "outputs": []
    },
    {
      "cell_type": "code",
      "metadata": {
        "colab": {
          "base_uri": "https://localhost:8080/"
        },
        "id": "uVawyY-T_9sv",
        "outputId": "2e491cea-4c57-4636-9222-57c097f5daad"
      },
      "source": [
        "eur['price']"
      ],
      "execution_count": 62,
      "outputs": [
        {
          "output_type": "execute_result",
          "data": {
            "text/plain": [
              "546        21.25\n",
              "948        55.26\n",
              "949        26.92\n",
              "950        62.28\n",
              "951        29.68\n",
              "           ...  \n",
              "237579     21.40\n",
              "237596      6.68\n",
              "237598     26.12\n",
              "237634    204.80\n",
              "237642     13.75\n",
              "Name: price, Length: 5934, dtype: float64"
            ]
          },
          "metadata": {},
          "execution_count": 62
        }
      ]
    },
    {
      "cell_type": "code",
      "metadata": {
        "colab": {
          "base_uri": "https://localhost:8080/",
          "height": 203
        },
        "id": "qCqgEorBAeRc",
        "outputId": "eca8de70-c70c-467b-ee39-695760f1240a"
      },
      "source": [
        "eur.head()"
      ],
      "execution_count": 65,
      "outputs": [
        {
          "output_type": "execute_result",
          "data": {
            "text/html": [
              "<div>\n",
              "<style scoped>\n",
              "    .dataframe tbody tr th:only-of-type {\n",
              "        vertical-align: middle;\n",
              "    }\n",
              "\n",
              "    .dataframe tbody tr th {\n",
              "        vertical-align: top;\n",
              "    }\n",
              "\n",
              "    .dataframe thead th {\n",
              "        text-align: right;\n",
              "    }\n",
              "</style>\n",
              "<table border=\"1\" class=\"dataframe\">\n",
              "  <thead>\n",
              "    <tr style=\"text-align: right;\">\n",
              "      <th></th>\n",
              "      <th>buyer_id</th>\n",
              "      <th>buyer_country</th>\n",
              "      <th>seller_id</th>\n",
              "      <th>seller_country</th>\n",
              "      <th>product_code</th>\n",
              "      <th>category</th>\n",
              "      <th>brand</th>\n",
              "      <th>currency</th>\n",
              "      <th>price</th>\n",
              "      <th>date</th>\n",
              "    </tr>\n",
              "  </thead>\n",
              "  <tbody>\n",
              "    <tr>\n",
              "      <th>546</th>\n",
              "      <td>oagt2ozal7</td>\n",
              "      <td>IE</td>\n",
              "      <td>b57xo98q</td>\n",
              "      <td>IE</td>\n",
              "      <td>2l6ze3xh4roy</td>\n",
              "      <td>Jewellery</td>\n",
              "      <td>NaN</td>\n",
              "      <td>EUR</td>\n",
              "      <td>21.25</td>\n",
              "      <td>2020-08-08</td>\n",
              "    </tr>\n",
              "    <tr>\n",
              "      <th>948</th>\n",
              "      <td>xpbfdqczlk</td>\n",
              "      <td>IT</td>\n",
              "      <td>spoetwqz</td>\n",
              "      <td>IT</td>\n",
              "      <td>ykdmbrywpjx4</td>\n",
              "      <td>Outerwear</td>\n",
              "      <td>NaN</td>\n",
              "      <td>EUR</td>\n",
              "      <td>55.26</td>\n",
              "      <td>2020-08-09</td>\n",
              "    </tr>\n",
              "    <tr>\n",
              "      <th>949</th>\n",
              "      <td>zos594tze5</td>\n",
              "      <td>IT</td>\n",
              "      <td>spoetwqz</td>\n",
              "      <td>IT</td>\n",
              "      <td>vlbfdpb8pke2</td>\n",
              "      <td>Other</td>\n",
              "      <td>NaN</td>\n",
              "      <td>EUR</td>\n",
              "      <td>26.92</td>\n",
              "      <td>2020-08-08</td>\n",
              "    </tr>\n",
              "    <tr>\n",
              "      <th>950</th>\n",
              "      <td>x1bjyofhp5</td>\n",
              "      <td>IT</td>\n",
              "      <td>spoetwqz</td>\n",
              "      <td>IT</td>\n",
              "      <td>ru1iggf0v7rb</td>\n",
              "      <td>Accessories</td>\n",
              "      <td>NaN</td>\n",
              "      <td>EUR</td>\n",
              "      <td>62.28</td>\n",
              "      <td>2020-08-06</td>\n",
              "    </tr>\n",
              "    <tr>\n",
              "      <th>951</th>\n",
              "      <td>xpbfdqczlk</td>\n",
              "      <td>IT</td>\n",
              "      <td>8b0q1eqs</td>\n",
              "      <td>IT</td>\n",
              "      <td>3hkn59tx2qpi</td>\n",
              "      <td>Shoes</td>\n",
              "      <td>NaN</td>\n",
              "      <td>EUR</td>\n",
              "      <td>29.68</td>\n",
              "      <td>2020-08-08</td>\n",
              "    </tr>\n",
              "  </tbody>\n",
              "</table>\n",
              "</div>"
            ],
            "text/plain": [
              "       buyer_id buyer_country seller_id  ... currency  price        date\n",
              "546  oagt2ozal7            IE  b57xo98q  ...      EUR  21.25  2020-08-08\n",
              "948  xpbfdqczlk            IT  spoetwqz  ...      EUR  55.26  2020-08-09\n",
              "949  zos594tze5            IT  spoetwqz  ...      EUR  26.92  2020-08-08\n",
              "950  x1bjyofhp5            IT  spoetwqz  ...      EUR  62.28  2020-08-06\n",
              "951  xpbfdqczlk            IT  8b0q1eqs  ...      EUR  29.68  2020-08-08\n",
              "\n",
              "[5 rows x 10 columns]"
            ]
          },
          "metadata": {},
          "execution_count": 65
        }
      ]
    },
    {
      "cell_type": "code",
      "metadata": {
        "colab": {
          "base_uri": "https://localhost:8080/"
        },
        "id": "3oapJF8vBKZX",
        "outputId": "1975df2b-cf6a-40ac-83d0-29a7b101a9dc"
      },
      "source": [
        "eur[['price']].value_counts()"
      ],
      "execution_count": 71,
      "outputs": [
        {
          "output_type": "execute_result",
          "data": {
            "text/plain": [
              "price  \n",
              "1.06       12\n",
              "1.12       12\n",
              "1.14       10\n",
              "1.09       10\n",
              "1.10       10\n",
              "           ..\n",
              "62.08       1\n",
              "29.58       1\n",
              "62.10       1\n",
              "29.54       1\n",
              "2330.08     1\n",
              "Length: 3794, dtype: int64"
            ]
          },
          "metadata": {},
          "execution_count": 71
        }
      ]
    },
    {
      "cell_type": "code",
      "metadata": {
        "colab": {
          "base_uri": "https://localhost:8080/"
        },
        "id": "4gtmSfgkBTzW",
        "outputId": "19ae5fa3-7270-4536-83b8-86c4f48b7d80"
      },
      "source": [
        "eur.price.sum()"
      ],
      "execution_count": 73,
      "outputs": [
        {
          "output_type": "execute_result",
          "data": {
            "text/plain": [
              "275837.69"
            ]
          },
          "metadata": {},
          "execution_count": 73
        }
      ]
    },
    {
      "cell_type": "code",
      "metadata": {
        "colab": {
          "base_uri": "https://localhost:8080/"
        },
        "id": "PSlmT4WqBnwM",
        "outputId": "7ff1c68e-63e4-49d2-bd2d-d174a1f91a97"
      },
      "source": [
        "df.brand.value_counts()"
      ],
      "execution_count": 74,
      "outputs": [
        {
          "output_type": "execute_result",
          "data": {
            "text/plain": [
              "Nike                  9575\n",
              "Brandy Melville       5065\n",
              "Topshop               4561\n",
              "PrettyLittle Thing    4136\n",
              "Adidas                3905\n",
              "                      ... \n",
              "KTZ                      1\n",
              "NaaNaa                   1\n",
              "Cynthia Rowley           1\n",
              "See You Monday           1\n",
              "Maison Scotch            1\n",
              "Name: brand, Length: 1134, dtype: int64"
            ]
          },
          "metadata": {},
          "execution_count": 74
        }
      ]
    },
    {
      "cell_type": "code",
      "metadata": {
        "colab": {
          "base_uri": "https://localhost:8080/",
          "height": 203
        },
        "id": "XTau6DvSB96C",
        "outputId": "142dad24-fedf-446a-b755-4d39a346fb2d"
      },
      "source": [
        "df.head()"
      ],
      "execution_count": 75,
      "outputs": [
        {
          "output_type": "execute_result",
          "data": {
            "text/html": [
              "<div>\n",
              "<style scoped>\n",
              "    .dataframe tbody tr th:only-of-type {\n",
              "        vertical-align: middle;\n",
              "    }\n",
              "\n",
              "    .dataframe tbody tr th {\n",
              "        vertical-align: top;\n",
              "    }\n",
              "\n",
              "    .dataframe thead th {\n",
              "        text-align: right;\n",
              "    }\n",
              "</style>\n",
              "<table border=\"1\" class=\"dataframe\">\n",
              "  <thead>\n",
              "    <tr style=\"text-align: right;\">\n",
              "      <th></th>\n",
              "      <th>buyer_id</th>\n",
              "      <th>buyer_country</th>\n",
              "      <th>seller_id</th>\n",
              "      <th>seller_country</th>\n",
              "      <th>product_code</th>\n",
              "      <th>category</th>\n",
              "      <th>brand</th>\n",
              "      <th>currency</th>\n",
              "      <th>price</th>\n",
              "      <th>date</th>\n",
              "    </tr>\n",
              "  </thead>\n",
              "  <tbody>\n",
              "    <tr>\n",
              "      <th>0</th>\n",
              "      <td>qzpjsi9t0o</td>\n",
              "      <td>GB</td>\n",
              "      <td>6oufpaot</td>\n",
              "      <td>GB</td>\n",
              "      <td>ydecnydr6obf</td>\n",
              "      <td>Dresses</td>\n",
              "      <td>NaN</td>\n",
              "      <td>GBP</td>\n",
              "      <td>19.11</td>\n",
              "      <td>2020-08-03</td>\n",
              "    </tr>\n",
              "    <tr>\n",
              "      <th>1</th>\n",
              "      <td>o79pns1qwo</td>\n",
              "      <td>GB</td>\n",
              "      <td>50xki2yg</td>\n",
              "      <td>GB</td>\n",
              "      <td>38chj507o6h2</td>\n",
              "      <td>Outerwear</td>\n",
              "      <td>Adidas Originals</td>\n",
              "      <td>GBP</td>\n",
              "      <td>15.92</td>\n",
              "      <td>2020-08-09</td>\n",
              "    </tr>\n",
              "    <tr>\n",
              "      <th>2</th>\n",
              "      <td>sjgbjdkhqx</td>\n",
              "      <td>GB</td>\n",
              "      <td>50xki2yg</td>\n",
              "      <td>GB</td>\n",
              "      <td>i9ynyxj5tdp8</td>\n",
              "      <td>Tops - Mens</td>\n",
              "      <td>NaN</td>\n",
              "      <td>GBP</td>\n",
              "      <td>6.37</td>\n",
              "      <td>2020-08-07</td>\n",
              "    </tr>\n",
              "    <tr>\n",
              "      <th>3</th>\n",
              "      <td>o79pns1qwo</td>\n",
              "      <td>GB</td>\n",
              "      <td>s0p322hh</td>\n",
              "      <td>GB</td>\n",
              "      <td>t50xe7moye8v</td>\n",
              "      <td>Tops - Mens</td>\n",
              "      <td>Berghaus</td>\n",
              "      <td>GBP</td>\n",
              "      <td>25.27</td>\n",
              "      <td>2020-08-09</td>\n",
              "    </tr>\n",
              "    <tr>\n",
              "      <th>4</th>\n",
              "      <td>o79pns1qwo</td>\n",
              "      <td>GB</td>\n",
              "      <td>dpkx192v</td>\n",
              "      <td>GB</td>\n",
              "      <td>hp4r9bjq68af</td>\n",
              "      <td>Bottoms - Womens</td>\n",
              "      <td>NaN</td>\n",
              "      <td>GBP</td>\n",
              "      <td>8.90</td>\n",
              "      <td>2020-08-09</td>\n",
              "    </tr>\n",
              "  </tbody>\n",
              "</table>\n",
              "</div>"
            ],
            "text/plain": [
              "     buyer_id buyer_country seller_id  ... currency  price        date\n",
              "0  qzpjsi9t0o            GB  6oufpaot  ...      GBP  19.11  2020-08-03\n",
              "1  o79pns1qwo            GB  50xki2yg  ...      GBP  15.92  2020-08-09\n",
              "2  sjgbjdkhqx            GB  50xki2yg  ...      GBP   6.37  2020-08-07\n",
              "3  o79pns1qwo            GB  s0p322hh  ...      GBP  25.27  2020-08-09\n",
              "4  o79pns1qwo            GB  dpkx192v  ...      GBP   8.90  2020-08-09\n",
              "\n",
              "[5 rows x 10 columns]"
            ]
          },
          "metadata": {},
          "execution_count": 75
        }
      ]
    },
    {
      "cell_type": "code",
      "metadata": {
        "colab": {
          "base_uri": "https://localhost:8080/",
          "height": 417
        },
        "id": "FiHjFwvKCGB-",
        "outputId": "66b39dbc-6099-4761-f74d-5e0d15ed6fb1"
      },
      "source": [
        "df.dropna()"
      ],
      "execution_count": 80,
      "outputs": [
        {
          "output_type": "execute_result",
          "data": {
            "text/html": [
              "<div>\n",
              "<style scoped>\n",
              "    .dataframe tbody tr th:only-of-type {\n",
              "        vertical-align: middle;\n",
              "    }\n",
              "\n",
              "    .dataframe tbody tr th {\n",
              "        vertical-align: top;\n",
              "    }\n",
              "\n",
              "    .dataframe thead th {\n",
              "        text-align: right;\n",
              "    }\n",
              "</style>\n",
              "<table border=\"1\" class=\"dataframe\">\n",
              "  <thead>\n",
              "    <tr style=\"text-align: right;\">\n",
              "      <th></th>\n",
              "      <th>buyer_id</th>\n",
              "      <th>buyer_country</th>\n",
              "      <th>seller_id</th>\n",
              "      <th>seller_country</th>\n",
              "      <th>product_code</th>\n",
              "      <th>category</th>\n",
              "      <th>brand</th>\n",
              "      <th>currency</th>\n",
              "      <th>price</th>\n",
              "      <th>date</th>\n",
              "    </tr>\n",
              "  </thead>\n",
              "  <tbody>\n",
              "    <tr>\n",
              "      <th>1</th>\n",
              "      <td>o79pns1qwo</td>\n",
              "      <td>GB</td>\n",
              "      <td>50xki2yg</td>\n",
              "      <td>GB</td>\n",
              "      <td>38chj507o6h2</td>\n",
              "      <td>Outerwear</td>\n",
              "      <td>Adidas Originals</td>\n",
              "      <td>GBP</td>\n",
              "      <td>15.92</td>\n",
              "      <td>2020-08-09</td>\n",
              "    </tr>\n",
              "    <tr>\n",
              "      <th>3</th>\n",
              "      <td>o79pns1qwo</td>\n",
              "      <td>GB</td>\n",
              "      <td>s0p322hh</td>\n",
              "      <td>GB</td>\n",
              "      <td>t50xe7moye8v</td>\n",
              "      <td>Tops - Mens</td>\n",
              "      <td>Berghaus</td>\n",
              "      <td>GBP</td>\n",
              "      <td>25.27</td>\n",
              "      <td>2020-08-09</td>\n",
              "    </tr>\n",
              "    <tr>\n",
              "      <th>6</th>\n",
              "      <td>o79pns1qwo</td>\n",
              "      <td>GB</td>\n",
              "      <td>9p2ansc9</td>\n",
              "      <td>GB</td>\n",
              "      <td>dsz1fy32ry6y</td>\n",
              "      <td>Outerwear - Mens</td>\n",
              "      <td>Berghaus</td>\n",
              "      <td>GBP</td>\n",
              "      <td>15.15</td>\n",
              "      <td>2020-08-09</td>\n",
              "    </tr>\n",
              "    <tr>\n",
              "      <th>7</th>\n",
              "      <td>bob9rlo4lb</td>\n",
              "      <td>GB</td>\n",
              "      <td>9p2ansc9</td>\n",
              "      <td>GB</td>\n",
              "      <td>jfncu4dmfnoc</td>\n",
              "      <td>Outerwear - Mens</td>\n",
              "      <td>Nike</td>\n",
              "      <td>GBP</td>\n",
              "      <td>21.38</td>\n",
              "      <td>2020-08-04</td>\n",
              "    </tr>\n",
              "    <tr>\n",
              "      <th>8</th>\n",
              "      <td>bob9rlo4lb</td>\n",
              "      <td>GB</td>\n",
              "      <td>9p2ansc9</td>\n",
              "      <td>GB</td>\n",
              "      <td>ssmpsnfvopu9</td>\n",
              "      <td>Accessories</td>\n",
              "      <td>Nike</td>\n",
              "      <td>GBP</td>\n",
              "      <td>13.04</td>\n",
              "      <td>2020-08-04</td>\n",
              "    </tr>\n",
              "    <tr>\n",
              "      <th>...</th>\n",
              "      <td>...</td>\n",
              "      <td>...</td>\n",
              "      <td>...</td>\n",
              "      <td>...</td>\n",
              "      <td>...</td>\n",
              "      <td>...</td>\n",
              "      <td>...</td>\n",
              "      <td>...</td>\n",
              "      <td>...</td>\n",
              "      <td>...</td>\n",
              "    </tr>\n",
              "    <tr>\n",
              "      <th>237655</th>\n",
              "      <td>nm1xpzjn55</td>\n",
              "      <td>GB</td>\n",
              "      <td>19ql9irh</td>\n",
              "      <td>GB</td>\n",
              "      <td>sb8flhvz3m4e</td>\n",
              "      <td>Dresses</td>\n",
              "      <td>Oh Polly</td>\n",
              "      <td>GBP</td>\n",
              "      <td>16.97</td>\n",
              "      <td>2020-08-05</td>\n",
              "    </tr>\n",
              "    <tr>\n",
              "      <th>237656</th>\n",
              "      <td>qbtdzd37kh</td>\n",
              "      <td>GB</td>\n",
              "      <td>ta47is8q</td>\n",
              "      <td>GB</td>\n",
              "      <td>vvf5b2i0rs2p</td>\n",
              "      <td>Shoes</td>\n",
              "      <td>Vans</td>\n",
              "      <td>GBP</td>\n",
              "      <td>26.91</td>\n",
              "      <td>2020-08-05</td>\n",
              "    </tr>\n",
              "    <tr>\n",
              "      <th>237658</th>\n",
              "      <td>z1r96987u8</td>\n",
              "      <td>AU</td>\n",
              "      <td>tjo1oj36</td>\n",
              "      <td>AU</td>\n",
              "      <td>hegha9dn4fiu</td>\n",
              "      <td>Accessories</td>\n",
              "      <td>Phoebe English</td>\n",
              "      <td>AUD</td>\n",
              "      <td>32.35</td>\n",
              "      <td>2020-08-05</td>\n",
              "    </tr>\n",
              "    <tr>\n",
              "      <th>237663</th>\n",
              "      <td>jji9og2wj0</td>\n",
              "      <td>US</td>\n",
              "      <td>w8g31gsr</td>\n",
              "      <td>US</td>\n",
              "      <td>gjwpt7hxl03u</td>\n",
              "      <td>Shoes</td>\n",
              "      <td>American Apparel</td>\n",
              "      <td>USD</td>\n",
              "      <td>33.56</td>\n",
              "      <td>2020-08-04</td>\n",
              "    </tr>\n",
              "    <tr>\n",
              "      <th>237665</th>\n",
              "      <td>e5vfphshsu</td>\n",
              "      <td>GB</td>\n",
              "      <td>6cnezohx</td>\n",
              "      <td>GB</td>\n",
              "      <td>lro4soook6h2</td>\n",
              "      <td>Accessories</td>\n",
              "      <td>Hugo Boss</td>\n",
              "      <td>GBP</td>\n",
              "      <td>33.85</td>\n",
              "      <td>2020-08-08</td>\n",
              "    </tr>\n",
              "  </tbody>\n",
              "</table>\n",
              "<p>119324 rows × 10 columns</p>\n",
              "</div>"
            ],
            "text/plain": [
              "          buyer_id buyer_country seller_id  ... currency  price        date\n",
              "1       o79pns1qwo            GB  50xki2yg  ...      GBP  15.92  2020-08-09\n",
              "3       o79pns1qwo            GB  s0p322hh  ...      GBP  25.27  2020-08-09\n",
              "6       o79pns1qwo            GB  9p2ansc9  ...      GBP  15.15  2020-08-09\n",
              "7       bob9rlo4lb            GB  9p2ansc9  ...      GBP  21.38  2020-08-04\n",
              "8       bob9rlo4lb            GB  9p2ansc9  ...      GBP  13.04  2020-08-04\n",
              "...            ...           ...       ...  ...      ...    ...         ...\n",
              "237655  nm1xpzjn55            GB  19ql9irh  ...      GBP  16.97  2020-08-05\n",
              "237656  qbtdzd37kh            GB  ta47is8q  ...      GBP  26.91  2020-08-05\n",
              "237658  z1r96987u8            AU  tjo1oj36  ...      AUD  32.35  2020-08-05\n",
              "237663  jji9og2wj0            US  w8g31gsr  ...      USD  33.56  2020-08-04\n",
              "237665  e5vfphshsu            GB  6cnezohx  ...      GBP  33.85  2020-08-08\n",
              "\n",
              "[119324 rows x 10 columns]"
            ]
          },
          "metadata": {},
          "execution_count": 80
        }
      ]
    },
    {
      "cell_type": "code",
      "metadata": {
        "colab": {
          "base_uri": "https://localhost:8080/"
        },
        "id": "zobp45xkCJFn",
        "outputId": "f55f2891-c436-4fe4-ab2a-9b94a5d087f7"
      },
      "source": [
        "df.brand.value_counts()"
      ],
      "execution_count": 82,
      "outputs": [
        {
          "output_type": "execute_result",
          "data": {
            "text/plain": [
              "Nike                  9575\n",
              "Brandy Melville       5065\n",
              "Topshop               4561\n",
              "PrettyLittle Thing    4136\n",
              "Adidas                3905\n",
              "                      ... \n",
              "KTZ                      1\n",
              "NaaNaa                   1\n",
              "Cynthia Rowley           1\n",
              "See You Monday           1\n",
              "Maison Scotch            1\n",
              "Name: brand, Length: 1134, dtype: int64"
            ]
          },
          "metadata": {},
          "execution_count": 82
        }
      ]
    },
    {
      "cell_type": "code",
      "metadata": {
        "colab": {
          "base_uri": "https://localhost:8080/"
        },
        "id": "YmNPvaiRCSoq",
        "outputId": "8738deb0-03fb-403b-e139-384db24172e9"
      },
      "source": [
        "df.columns"
      ],
      "execution_count": 84,
      "outputs": [
        {
          "output_type": "execute_result",
          "data": {
            "text/plain": [
              "Index(['buyer_id', 'buyer_country', 'seller_id', 'seller_country',\n",
              "       'product_code', 'category', 'brand', 'currency', 'price', 'date'],\n",
              "      dtype='object')"
            ]
          },
          "metadata": {},
          "execution_count": 84
        }
      ]
    },
    {
      "cell_type": "code",
      "metadata": {
        "id": "e0NbrnjFCuk9"
      },
      "source": [
        "jwl = df.loc[df[\"category\"] == \"Jewellery\"]"
      ],
      "execution_count": 90,
      "outputs": []
    },
    {
      "cell_type": "code",
      "metadata": {
        "colab": {
          "base_uri": "https://localhost:8080/"
        },
        "id": "pb7hfWwLDIl_",
        "outputId": "2e709e93-9643-4dd8-e752-9d9e88beac87"
      },
      "source": [
        "jwl.value_counts()"
      ],
      "execution_count": 91,
      "outputs": [
        {
          "output_type": "execute_result",
          "data": {
            "text/plain": [
              "buyer_id    buyer_country  seller_id  seller_country  product_code  category   brand              currency  price  date      \n",
              "zz7bzz14k0  GB             9vlsk5b0   GB              g5emascsxnzn  Jewellery  Links of London    GBP       12.43  2020-08-09    1\n",
              "c788afsgxg  US             vr5obuwh   US              ja4pz6kw16f5  Jewellery  Unbranded          USD       10.38  2020-08-06    1\n",
              "bxubmocu16  GB             gky1cetx   GB              ie5nk0gr1cs4  Jewellery  Vivienne Westwood  GBP       40.97  2020-08-07    1\n",
              "bygdtfovue  GB             2zleaamb   GB              3duhnlo3jroi  Jewellery  Tiffany & Co.      GBP       80.61  2020-08-03    1\n",
              "bzg6eyrpck  US             melwnmql   US              v1dsxfrtkzb2  Jewellery  Hot Topic          USD       39.28  2020-08-09    1\n",
              "                                                                                                                                ..\n",
              "nvhq17msfn  GB             9lcvugut   GB              phshf6je3yth  Jewellery  PANDORA            GBP       21.80  2020-08-04    1\n",
              "nvipxwm9rr  GB             zvrtu5zd   GB              6bs1yc5lbn97  Jewellery  PANDORA            GBP       15.92  2020-08-03    1\n",
              "nvqk8ktnu5  GB             ftde6aff   GB              tmj2cpmssduj  Jewellery  PANDORA            GBP       13.60  2020-08-03    1\n",
              "nvsbo0ya6f  GB             d8iftp51   GB              qxxa84ubv48k  Jewellery  PANDORA            GBP       21.80  2020-08-05    1\n",
              "026yj47w7b  US             67kyc6i0   US              ojyn0vb4n2l1  Jewellery  ALEX AND ANI       USD       37.14  2020-08-06    1\n",
              "Length: 1398, dtype: int64"
            ]
          },
          "metadata": {},
          "execution_count": 91
        }
      ]
    },
    {
      "cell_type": "code",
      "metadata": {
        "colab": {
          "base_uri": "https://localhost:8080/"
        },
        "id": "Xg7wbOdNDLdh",
        "outputId": "671e9328-f065-4aff-d7aa-2ecc922c9429"
      },
      "source": [
        "df.category.unique()"
      ],
      "execution_count": 89,
      "outputs": [
        {
          "output_type": "execute_result",
          "data": {
            "text/plain": [
              "array(['Dresses', 'Outerwear', 'Tops - Mens', 'Bottoms - Womens',\n",
              "       'Tops - Womens', 'Outerwear - Mens', 'Accessories', 'Jewellery',\n",
              "       'Other', 'Film', 'Art', 'Music', 'Shoes', 'Lingerie',\n",
              "       'Bottoms - Mens', 'Home', 'Tech', 'Beauty', 'Sports equipment',\n",
              "       'Kids', 'Transportation', 'Books & magazines', 'Underwear',\n",
              "       'UNSPECIFIED', nan], dtype=object)"
            ]
          },
          "metadata": {},
          "execution_count": 89
        }
      ]
    },
    {
      "cell_type": "code",
      "metadata": {
        "colab": {
          "base_uri": "https://localhost:8080/"
        },
        "id": "RklXNgI4DUfQ",
        "outputId": "83311fdc-450a-49bd-bf0e-b134940208c0"
      },
      "source": [
        "df.groupby('category')"
      ],
      "execution_count": 93,
      "outputs": [
        {
          "output_type": "execute_result",
          "data": {
            "text/plain": [
              "<pandas.core.groupby.generic.SeriesGroupBy object at 0x7f43d13bfd50>"
            ]
          },
          "metadata": {},
          "execution_count": 93
        }
      ]
    },
    {
      "cell_type": "code",
      "metadata": {
        "colab": {
          "base_uri": "https://localhost:8080/"
        },
        "id": "72etVlH9DxOG",
        "outputId": "7223ba9b-7197-46c9-ac2c-1518a5b2d21d"
      },
      "source": [
        "jwl.brand.value_counts()"
      ],
      "execution_count": 94,
      "outputs": [
        {
          "output_type": "execute_result",
          "data": {
            "text/plain": [
              "PANDORA              493\n",
              "Brandy Melville      190\n",
              "Vivienne Westwood     94\n",
              "Tiffany & Co.         56\n",
              "Unbranded             56\n",
              "                    ... \n",
              "JW Anderson            1\n",
              "Céline                 1\n",
              "Superdry               1\n",
              "Tissot                 1\n",
              "Hublot                 1\n",
              "Name: brand, Length: 82, dtype: int64"
            ]
          },
          "metadata": {},
          "execution_count": 94
        }
      ]
    },
    {
      "cell_type": "code",
      "metadata": {
        "colab": {
          "base_uri": "https://localhost:8080/"
        },
        "id": "XkU2AV7zEGWM",
        "outputId": "94ccd458-aab8-4a56-e25e-7aecda945e48"
      },
      "source": [
        "jwl.info()"
      ],
      "execution_count": 105,
      "outputs": [
        {
          "output_type": "stream",
          "name": "stdout",
          "text": [
            "<class 'pandas.core.frame.DataFrame'>\n",
            "Int64Index: 14923 entries, 23 to 237643\n",
            "Data columns (total 10 columns):\n",
            " #   Column          Non-Null Count  Dtype  \n",
            "---  ------          --------------  -----  \n",
            " 0   buyer_id        14923 non-null  object \n",
            " 1   buyer_country   14923 non-null  object \n",
            " 2   seller_id       14923 non-null  object \n",
            " 3   seller_country  14923 non-null  object \n",
            " 4   product_code    14923 non-null  object \n",
            " 5   category        14923 non-null  object \n",
            " 6   brand           1398 non-null   object \n",
            " 7   currency        14923 non-null  object \n",
            " 8   price           14923 non-null  float64\n",
            " 9   date            14923 non-null  object \n",
            "dtypes: float64(1), object(9)\n",
            "memory usage: 1.3+ MB\n"
          ]
        }
      ]
    },
    {
      "cell_type": "code",
      "metadata": {
        "colab": {
          "base_uri": "https://localhost:8080/"
        },
        "id": "TdzP3D9aEKEL",
        "outputId": "13f608c2-d5fb-4125-a319-0c371ab65a24"
      },
      "source": [
        "14923-1398"
      ],
      "execution_count": 106,
      "outputs": [
        {
          "output_type": "execute_result",
          "data": {
            "text/plain": [
              "13525"
            ]
          },
          "metadata": {},
          "execution_count": 106
        }
      ]
    },
    {
      "cell_type": "code",
      "metadata": {
        "colab": {
          "base_uri": "https://localhost:8080/"
        },
        "id": "NJWBzTysEbS2",
        "outputId": "e88f7251-ed7d-4dd0-fe8c-23fbf6b70195"
      },
      "source": [
        "jwl.value_counts()"
      ],
      "execution_count": 104,
      "outputs": [
        {
          "output_type": "execute_result",
          "data": {
            "text/plain": [
              "buyer_id    buyer_country  seller_id  seller_country  product_code  category   brand              currency  price  date      \n",
              "zz7bzz14k0  GB             9vlsk5b0   GB              g5emascsxnzn  Jewellery  Links of London    GBP       12.43  2020-08-09    1\n",
              "c788afsgxg  US             vr5obuwh   US              ja4pz6kw16f5  Jewellery  Unbranded          USD       10.38  2020-08-06    1\n",
              "bxubmocu16  GB             gky1cetx   GB              ie5nk0gr1cs4  Jewellery  Vivienne Westwood  GBP       40.97  2020-08-07    1\n",
              "bygdtfovue  GB             2zleaamb   GB              3duhnlo3jroi  Jewellery  Tiffany & Co.      GBP       80.61  2020-08-03    1\n",
              "bzg6eyrpck  US             melwnmql   US              v1dsxfrtkzb2  Jewellery  Hot Topic          USD       39.28  2020-08-09    1\n",
              "                                                                                                                                ..\n",
              "nvhq17msfn  GB             9lcvugut   GB              phshf6je3yth  Jewellery  PANDORA            GBP       21.80  2020-08-04    1\n",
              "nvipxwm9rr  GB             zvrtu5zd   GB              6bs1yc5lbn97  Jewellery  PANDORA            GBP       15.92  2020-08-03    1\n",
              "nvqk8ktnu5  GB             ftde6aff   GB              tmj2cpmssduj  Jewellery  PANDORA            GBP       13.60  2020-08-03    1\n",
              "nvsbo0ya6f  GB             d8iftp51   GB              qxxa84ubv48k  Jewellery  PANDORA            GBP       21.80  2020-08-05    1\n",
              "026yj47w7b  US             67kyc6i0   US              ojyn0vb4n2l1  Jewellery  ALEX AND ANI       USD       37.14  2020-08-06    1\n",
              "Length: 1398, dtype: int64"
            ]
          },
          "metadata": {},
          "execution_count": 104
        }
      ]
    },
    {
      "cell_type": "code",
      "metadata": {
        "colab": {
          "base_uri": "https://localhost:8080/"
        },
        "id": "Ggexi-8WE3t4",
        "outputId": "98e76948-450a-484c-f2c3-aacfbbdad31b"
      },
      "source": [
        "df.seller_id.unique"
      ],
      "execution_count": 114,
      "outputs": [
        {
          "output_type": "execute_result",
          "data": {
            "text/plain": [
              "<bound method Series.unique of 0         6oufpaot\n",
              "1         50xki2yg\n",
              "2         50xki2yg\n",
              "3         s0p322hh\n",
              "4         dpkx192v\n",
              "            ...   \n",
              "237666    ss7jy9ks\n",
              "237667    bk6apusi\n",
              "237668    n2ez0xph\n",
              "237669    j1s4nqxb\n",
              "237670    0au7baxi\n",
              "Name: seller_id, Length: 237671, dtype: object>"
            ]
          },
          "metadata": {},
          "execution_count": 114
        }
      ]
    },
    {
      "cell_type": "code",
      "metadata": {
        "id": "TbQGdj-2F2fI"
      },
      "source": [
        ""
      ],
      "execution_count": null,
      "outputs": []
    }
  ]
}