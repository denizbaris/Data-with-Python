{
  "nbformat": 4,
  "nbformat_minor": 0,
  "metadata": {
    "colab": {
      "name": "Lab4.ipynb",
      "provenance": [],
      "authorship_tag": "ABX9TyMGuap/GDySkwO5rGsR0gDu",
      "include_colab_link": true
    },
    "kernelspec": {
      "name": "python3",
      "display_name": "Python 3"
    },
    "language_info": {
      "name": "python"
    }
  },
  "cells": [
    {
      "cell_type": "markdown",
      "metadata": {
        "id": "view-in-github",
        "colab_type": "text"
      },
      "source": [
        "<a href=\"https://colab.research.google.com/github/denizbaris/Data-with-Python/blob/main/Lab4.ipynb\" target=\"_parent\"><img src=\"https://colab.research.google.com/assets/colab-badge.svg\" alt=\"Open In Colab\"/></a>"
      ]
    },
    {
      "cell_type": "code",
      "metadata": {
        "id": "go7KZCERevT6"
      },
      "source": [
        "import re\n",
        "import pandas as pd"
      ],
      "execution_count": 1,
      "outputs": []
    },
    {
      "cell_type": "code",
      "metadata": {
        "id": "er14WqgOe0bj"
      },
      "source": [
        ""
      ],
      "execution_count": null,
      "outputs": []
    },
    {
      "cell_type": "markdown",
      "metadata": {
        "id": "TaiMzDz1e1Xz"
      },
      "source": [
        "##SEARCH"
      ]
    },
    {
      "cell_type": "markdown",
      "metadata": {
        "id": "14Lmgua6e7gE"
      },
      "source": [
        "#Python Regular Expression Quick Guide\n",
        "^ Matches the beginning of a line\n",
        "$ Matches the end of the line\n",
        ". Matches any character\n",
        "\\s Matches whitespace\n",
        "\\S Matches any non-whitespace character\n",
        "* Repeats a character zero or more times\n",
        "*? Repeats a character zero or more times\n",
        "(non-greedy)\n",
        "+ Repeats a character one or more times\n",
        "+? Repeats a character one or more times\n",
        "(non-greedy)\n",
        "[aeiou] Matches a single character in the listed set\n",
        "[^XYZ] Matches a single character not in the listed set\n",
        "[a-z0-9] The set of characters can include a range\n",
        "( Indicates where string extraction is to start\n",
        ") Indicates where string extraction is to end"
      ]
    },
    {
      "cell_type": "code",
      "metadata": {
        "id": "NAyom0g9e2ss"
      },
      "source": [
        "text = \"A78L41K\""
      ],
      "execution_count": 2,
      "outputs": []
    },
    {
      "cell_type": "code",
      "metadata": {
        "colab": {
          "base_uri": "https://localhost:8080/"
        },
        "id": "sDDrQiN_fBZ-",
        "outputId": "f84e11bd-241a-4cfa-920f-c81525a1c1dd"
      },
      "source": [
        "num=re.search('\\d',text)\n",
        "num"
      ],
      "execution_count": 3,
      "outputs": [
        {
          "output_type": "execute_result",
          "data": {
            "text/plain": [
              "<re.Match object; span=(1, 2), match='7'>"
            ]
          },
          "metadata": {},
          "execution_count": 3
        }
      ]
    },
    {
      "cell_type": "code",
      "metadata": {
        "colab": {
          "base_uri": "https://localhost:8080/",
          "height": 35
        },
        "id": "Vpq8ZqZEfjDW",
        "outputId": "b70f1941-5a6f-4b39-fc52-e1a34e3956d1"
      },
      "source": [
        "num.group()"
      ],
      "execution_count": 4,
      "outputs": [
        {
          "output_type": "execute_result",
          "data": {
            "application/vnd.google.colaboratory.intrinsic+json": {
              "type": "string"
            },
            "text/plain": [
              "'7'"
            ]
          },
          "metadata": {},
          "execution_count": 4
        }
      ]
    },
    {
      "cell_type": "code",
      "metadata": {
        "id": "bSJNvjopfktp"
      },
      "source": [
        "text = \"8PM19MIN\""
      ],
      "execution_count": 5,
      "outputs": []
    },
    {
      "cell_type": "code",
      "metadata": {
        "colab": {
          "base_uri": "https://localhost:8080/"
        },
        "id": "cmJdIxDCgQK8",
        "outputId": "6f058ccd-9c82-4457-fc2e-6b712050144e"
      },
      "source": [
        "nondigi=re.search('\\D',text)\n",
        "print(nondigi.group())"
      ],
      "execution_count": 7,
      "outputs": [
        {
          "output_type": "stream",
          "name": "stdout",
          "text": [
            "P\n"
          ]
        }
      ]
    },
    {
      "cell_type": "code",
      "metadata": {
        "id": "CINk4QHrgiTy"
      },
      "source": [
        "text = 'My phone number is 555 666 7777'"
      ],
      "execution_count": 18,
      "outputs": []
    },
    {
      "cell_type": "code",
      "metadata": {
        "colab": {
          "base_uri": "https://localhost:8080/"
        },
        "id": "UItPijkjg4ax",
        "outputId": "ad45eb83-05ce-4965-ee98-337eb17ba552"
      },
      "source": [
        "telno = re.search('\\d\\d\\d \\d\\d\\d \\d\\d\\d\\d',text)\n",
        "print(telno)"
      ],
      "execution_count": 19,
      "outputs": [
        {
          "output_type": "stream",
          "name": "stdout",
          "text": [
            "<re.Match object; span=(19, 31), match='555 666 7777'>\n"
          ]
        }
      ]
    },
    {
      "cell_type": "code",
      "metadata": {
        "id": "FfHJbxI4hA0A"
      },
      "source": [
        "text = 'My phone number is 415-555-1212'\n",
        "s = re.search('[\\d]+[^-].*', text)"
      ],
      "execution_count": 21,
      "outputs": []
    },
    {
      "cell_type": "code",
      "metadata": {
        "colab": {
          "base_uri": "https://localhost:8080/"
        },
        "id": "O9Bbsv0mijLI",
        "outputId": "94eedfb8-efb9-4a4a-a8f6-93ea6e81d280"
      },
      "source": [
        "s"
      ],
      "execution_count": 22,
      "outputs": [
        {
          "output_type": "execute_result",
          "data": {
            "text/plain": [
              "<re.Match object; span=(19, 31), match='415-555-1212'>"
            ]
          },
          "metadata": {},
          "execution_count": 22
        }
      ]
    },
    {
      "cell_type": "code",
      "metadata": {
        "id": "0C4NTW-ClFm8"
      },
      "source": [
        "with open('text.txt','w') as file:\n",
        "    file.write(text)"
      ],
      "execution_count": 25,
      "outputs": []
    },
    {
      "cell_type": "code",
      "metadata": {
        "id": "10bD6DlTivsH"
      },
      "source": [
        "with open('text.txt','w') as file:\n",
        "  file.write(text)"
      ],
      "execution_count": 26,
      "outputs": []
    },
    {
      "cell_type": "code",
      "metadata": {
        "colab": {
          "base_uri": "https://localhost:8080/",
          "height": 229
        },
        "id": "blMwKNrBkIcw",
        "outputId": "c2c863ba-2703-4ef5-d183-6ce38c587881"
      },
      "source": [
        "with open('text.txt','w') as file:\n",
        "  txt.write(text)\n",
        "print(txt) \n",
        "\n",
        "output =  re.search('\\(\\d\\d\\d)-(\\d\\d\\d-\\d\\d\\d\\d)',txt)\n",
        "\n",
        "print(output.group(1))\n",
        "print(output.group(2))"
      ],
      "execution_count": 27,
      "outputs": [
        {
          "output_type": "error",
          "ename": "NameError",
          "evalue": "ignored",
          "traceback": [
            "\u001b[0;31m---------------------------------------------------------------------------\u001b[0m",
            "\u001b[0;31mNameError\u001b[0m                                 Traceback (most recent call last)",
            "\u001b[0;32m<ipython-input-27-b2ab7821935f>\u001b[0m in \u001b[0;36m<module>\u001b[0;34m()\u001b[0m\n\u001b[1;32m      1\u001b[0m \u001b[0;32mwith\u001b[0m \u001b[0mopen\u001b[0m\u001b[0;34m(\u001b[0m\u001b[0;34m'text.txt'\u001b[0m\u001b[0;34m,\u001b[0m\u001b[0;34m'w'\u001b[0m\u001b[0;34m)\u001b[0m \u001b[0;32mas\u001b[0m \u001b[0mfile\u001b[0m\u001b[0;34m:\u001b[0m\u001b[0;34m\u001b[0m\u001b[0;34m\u001b[0m\u001b[0m\n\u001b[0;32m----> 2\u001b[0;31m   \u001b[0mtxt\u001b[0m\u001b[0;34m.\u001b[0m\u001b[0mwrite\u001b[0m\u001b[0;34m(\u001b[0m\u001b[0mtext\u001b[0m\u001b[0;34m)\u001b[0m\u001b[0;34m\u001b[0m\u001b[0;34m\u001b[0m\u001b[0m\n\u001b[0m\u001b[1;32m      3\u001b[0m \u001b[0mprint\u001b[0m\u001b[0;34m(\u001b[0m\u001b[0mtxt\u001b[0m\u001b[0;34m)\u001b[0m\u001b[0;34m\u001b[0m\u001b[0;34m\u001b[0m\u001b[0m\n\u001b[1;32m      4\u001b[0m \u001b[0;34m\u001b[0m\u001b[0m\n\u001b[1;32m      5\u001b[0m \u001b[0moutput\u001b[0m \u001b[0;34m=\u001b[0m  \u001b[0mre\u001b[0m\u001b[0;34m.\u001b[0m\u001b[0msearch\u001b[0m\u001b[0;34m(\u001b[0m\u001b[0;34m'\\(\\d\\d\\d)-(\\d\\d\\d-\\d\\d\\d\\d)'\u001b[0m\u001b[0;34m,\u001b[0m\u001b[0mtxt\u001b[0m\u001b[0;34m)\u001b[0m\u001b[0;34m\u001b[0m\u001b[0;34m\u001b[0m\u001b[0m\n",
            "\u001b[0;31mNameError\u001b[0m: name 'txt' is not defined"
          ]
        }
      ]
    },
    {
      "cell_type": "code",
      "metadata": {
        "id": "wlut6g8emOfX"
      },
      "source": [
        "value = \"0 1, t 10, o 100, 100000\""
      ],
      "execution_count": 29,
      "outputs": []
    },
    {
      "cell_type": "code",
      "metadata": {
        "colab": {
          "base_uri": "https://localhost:8080/"
        },
        "id": "WaCgz7wJk8zI",
        "outputId": "54f77bd5-b912-40bb-9d24-100c997515ce"
      },
      "source": [
        "output=re.findall('\\d{1}', value)\n",
        "print(output)"
      ],
      "execution_count": 32,
      "outputs": [
        {
          "output_type": "stream",
          "name": "stdout",
          "text": [
            "['0', '1', '1', '0', '1', '0', '0', '1', '0', '0', '0', '0', '0']\n"
          ]
        }
      ]
    },
    {
      "cell_type": "code",
      "metadata": {
        "id": "cj3zGy-QmZFx"
      },
      "source": [
        "phone = \"2004-959-559 # This is Phone Number\""
      ],
      "execution_count": 33,
      "outputs": []
    },
    {
      "cell_type": "code",
      "metadata": {
        "id": "Nudmpo_HmrI2"
      },
      "source": [
        ""
      ],
      "execution_count": null,
      "outputs": []
    }
  ]
}